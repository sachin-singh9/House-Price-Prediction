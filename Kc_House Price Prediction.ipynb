{
 "cells": [
  {
   "cell_type": "code",
   "execution_count": 1,
   "id": "26d1a255",
   "metadata": {},
   "outputs": [],
   "source": [
    "import pandas as pd\n",
    "import matplotlib.pyplot as plt\n",
    "import seaborn as sns\n",
    "%matplotlib inline\n",
    "import warnings\n",
    "warnings.filterwarnings(\"ignore\")\n",
    "import numpy as np"
   ]
  },
  {
   "cell_type": "code",
   "execution_count": 2,
   "id": "62dd938b",
   "metadata": {},
   "outputs": [],
   "source": [
    "from sklearn.linear_model import LinearRegression"
   ]
  },
  {
   "cell_type": "code",
   "execution_count": 3,
   "id": "4b3038a0",
   "metadata": {},
   "outputs": [],
   "source": [
    "from sklearn.model_selection import train_test_split"
   ]
  },
  {
   "cell_type": "code",
   "execution_count": 4,
   "id": "de4796dd",
   "metadata": {},
   "outputs": [],
   "source": [
    "kcpp = pd.read_csv('kc_house_data.csv')"
   ]
  },
  {
   "cell_type": "code",
   "execution_count": 5,
   "id": "6e713464",
   "metadata": {},
   "outputs": [
    {
     "data": {
      "text/html": [
       "<div>\n",
       "<style scoped>\n",
       "    .dataframe tbody tr th:only-of-type {\n",
       "        vertical-align: middle;\n",
       "    }\n",
       "\n",
       "    .dataframe tbody tr th {\n",
       "        vertical-align: top;\n",
       "    }\n",
       "\n",
       "    .dataframe thead th {\n",
       "        text-align: right;\n",
       "    }\n",
       "</style>\n",
       "<table border=\"1\" class=\"dataframe\">\n",
       "  <thead>\n",
       "    <tr style=\"text-align: right;\">\n",
       "      <th></th>\n",
       "      <th>id</th>\n",
       "      <th>date</th>\n",
       "      <th>price</th>\n",
       "      <th>bedrooms</th>\n",
       "      <th>bathrooms</th>\n",
       "      <th>sqft_living</th>\n",
       "      <th>sqft_lot</th>\n",
       "      <th>floors</th>\n",
       "      <th>waterfront</th>\n",
       "      <th>view</th>\n",
       "      <th>...</th>\n",
       "      <th>grade</th>\n",
       "      <th>sqft_above</th>\n",
       "      <th>sqft_basement</th>\n",
       "      <th>yr_built</th>\n",
       "      <th>yr_renovated</th>\n",
       "      <th>zipcode</th>\n",
       "      <th>lat</th>\n",
       "      <th>long</th>\n",
       "      <th>sqft_living15</th>\n",
       "      <th>sqft_lot15</th>\n",
       "    </tr>\n",
       "  </thead>\n",
       "  <tbody>\n",
       "    <tr>\n",
       "      <th>0</th>\n",
       "      <td>7129300520</td>\n",
       "      <td>20141013T000000</td>\n",
       "      <td>221900.0</td>\n",
       "      <td>3</td>\n",
       "      <td>1.00</td>\n",
       "      <td>1180</td>\n",
       "      <td>5650</td>\n",
       "      <td>1.0</td>\n",
       "      <td>0</td>\n",
       "      <td>0</td>\n",
       "      <td>...</td>\n",
       "      <td>7</td>\n",
       "      <td>1180.0</td>\n",
       "      <td>0</td>\n",
       "      <td>1955</td>\n",
       "      <td>0</td>\n",
       "      <td>98178</td>\n",
       "      <td>47.5112</td>\n",
       "      <td>-122.257</td>\n",
       "      <td>1340</td>\n",
       "      <td>5650</td>\n",
       "    </tr>\n",
       "    <tr>\n",
       "      <th>1</th>\n",
       "      <td>6414100192</td>\n",
       "      <td>20141209T000000</td>\n",
       "      <td>538000.0</td>\n",
       "      <td>3</td>\n",
       "      <td>2.25</td>\n",
       "      <td>2570</td>\n",
       "      <td>7242</td>\n",
       "      <td>2.0</td>\n",
       "      <td>0</td>\n",
       "      <td>0</td>\n",
       "      <td>...</td>\n",
       "      <td>7</td>\n",
       "      <td>2170.0</td>\n",
       "      <td>400</td>\n",
       "      <td>1951</td>\n",
       "      <td>1991</td>\n",
       "      <td>98125</td>\n",
       "      <td>47.7210</td>\n",
       "      <td>-122.319</td>\n",
       "      <td>1690</td>\n",
       "      <td>7639</td>\n",
       "    </tr>\n",
       "    <tr>\n",
       "      <th>2</th>\n",
       "      <td>5631500400</td>\n",
       "      <td>20150225T000000</td>\n",
       "      <td>180000.0</td>\n",
       "      <td>2</td>\n",
       "      <td>1.00</td>\n",
       "      <td>770</td>\n",
       "      <td>10000</td>\n",
       "      <td>1.0</td>\n",
       "      <td>0</td>\n",
       "      <td>0</td>\n",
       "      <td>...</td>\n",
       "      <td>6</td>\n",
       "      <td>770.0</td>\n",
       "      <td>0</td>\n",
       "      <td>1933</td>\n",
       "      <td>0</td>\n",
       "      <td>98028</td>\n",
       "      <td>47.7379</td>\n",
       "      <td>-122.233</td>\n",
       "      <td>2720</td>\n",
       "      <td>8062</td>\n",
       "    </tr>\n",
       "    <tr>\n",
       "      <th>3</th>\n",
       "      <td>2487200875</td>\n",
       "      <td>20141209T000000</td>\n",
       "      <td>604000.0</td>\n",
       "      <td>4</td>\n",
       "      <td>3.00</td>\n",
       "      <td>1960</td>\n",
       "      <td>5000</td>\n",
       "      <td>1.0</td>\n",
       "      <td>0</td>\n",
       "      <td>0</td>\n",
       "      <td>...</td>\n",
       "      <td>7</td>\n",
       "      <td>1050.0</td>\n",
       "      <td>910</td>\n",
       "      <td>1965</td>\n",
       "      <td>0</td>\n",
       "      <td>98136</td>\n",
       "      <td>47.5208</td>\n",
       "      <td>-122.393</td>\n",
       "      <td>1360</td>\n",
       "      <td>5000</td>\n",
       "    </tr>\n",
       "    <tr>\n",
       "      <th>4</th>\n",
       "      <td>1954400510</td>\n",
       "      <td>20150218T000000</td>\n",
       "      <td>510000.0</td>\n",
       "      <td>3</td>\n",
       "      <td>2.00</td>\n",
       "      <td>1680</td>\n",
       "      <td>8080</td>\n",
       "      <td>1.0</td>\n",
       "      <td>0</td>\n",
       "      <td>0</td>\n",
       "      <td>...</td>\n",
       "      <td>8</td>\n",
       "      <td>1680.0</td>\n",
       "      <td>0</td>\n",
       "      <td>1987</td>\n",
       "      <td>0</td>\n",
       "      <td>98074</td>\n",
       "      <td>47.6168</td>\n",
       "      <td>-122.045</td>\n",
       "      <td>1800</td>\n",
       "      <td>7503</td>\n",
       "    </tr>\n",
       "    <tr>\n",
       "      <th>...</th>\n",
       "      <td>...</td>\n",
       "      <td>...</td>\n",
       "      <td>...</td>\n",
       "      <td>...</td>\n",
       "      <td>...</td>\n",
       "      <td>...</td>\n",
       "      <td>...</td>\n",
       "      <td>...</td>\n",
       "      <td>...</td>\n",
       "      <td>...</td>\n",
       "      <td>...</td>\n",
       "      <td>...</td>\n",
       "      <td>...</td>\n",
       "      <td>...</td>\n",
       "      <td>...</td>\n",
       "      <td>...</td>\n",
       "      <td>...</td>\n",
       "      <td>...</td>\n",
       "      <td>...</td>\n",
       "      <td>...</td>\n",
       "      <td>...</td>\n",
       "    </tr>\n",
       "    <tr>\n",
       "      <th>21608</th>\n",
       "      <td>263000018</td>\n",
       "      <td>20140521T000000</td>\n",
       "      <td>360000.0</td>\n",
       "      <td>3</td>\n",
       "      <td>2.50</td>\n",
       "      <td>1530</td>\n",
       "      <td>1131</td>\n",
       "      <td>3.0</td>\n",
       "      <td>0</td>\n",
       "      <td>0</td>\n",
       "      <td>...</td>\n",
       "      <td>8</td>\n",
       "      <td>1530.0</td>\n",
       "      <td>0</td>\n",
       "      <td>2009</td>\n",
       "      <td>0</td>\n",
       "      <td>98103</td>\n",
       "      <td>47.6993</td>\n",
       "      <td>-122.346</td>\n",
       "      <td>1530</td>\n",
       "      <td>1509</td>\n",
       "    </tr>\n",
       "    <tr>\n",
       "      <th>21609</th>\n",
       "      <td>6600060120</td>\n",
       "      <td>20150223T000000</td>\n",
       "      <td>400000.0</td>\n",
       "      <td>4</td>\n",
       "      <td>2.50</td>\n",
       "      <td>2310</td>\n",
       "      <td>5813</td>\n",
       "      <td>2.0</td>\n",
       "      <td>0</td>\n",
       "      <td>0</td>\n",
       "      <td>...</td>\n",
       "      <td>8</td>\n",
       "      <td>2310.0</td>\n",
       "      <td>0</td>\n",
       "      <td>2014</td>\n",
       "      <td>0</td>\n",
       "      <td>98146</td>\n",
       "      <td>47.5107</td>\n",
       "      <td>-122.362</td>\n",
       "      <td>1830</td>\n",
       "      <td>7200</td>\n",
       "    </tr>\n",
       "    <tr>\n",
       "      <th>21610</th>\n",
       "      <td>1523300141</td>\n",
       "      <td>20140623T000000</td>\n",
       "      <td>402101.0</td>\n",
       "      <td>2</td>\n",
       "      <td>0.75</td>\n",
       "      <td>1020</td>\n",
       "      <td>1350</td>\n",
       "      <td>2.0</td>\n",
       "      <td>0</td>\n",
       "      <td>0</td>\n",
       "      <td>...</td>\n",
       "      <td>7</td>\n",
       "      <td>1020.0</td>\n",
       "      <td>0</td>\n",
       "      <td>2009</td>\n",
       "      <td>0</td>\n",
       "      <td>98144</td>\n",
       "      <td>47.5944</td>\n",
       "      <td>-122.299</td>\n",
       "      <td>1020</td>\n",
       "      <td>2007</td>\n",
       "    </tr>\n",
       "    <tr>\n",
       "      <th>21611</th>\n",
       "      <td>291310100</td>\n",
       "      <td>20150116T000000</td>\n",
       "      <td>400000.0</td>\n",
       "      <td>3</td>\n",
       "      <td>2.50</td>\n",
       "      <td>1600</td>\n",
       "      <td>2388</td>\n",
       "      <td>2.0</td>\n",
       "      <td>0</td>\n",
       "      <td>0</td>\n",
       "      <td>...</td>\n",
       "      <td>8</td>\n",
       "      <td>1600.0</td>\n",
       "      <td>0</td>\n",
       "      <td>2004</td>\n",
       "      <td>0</td>\n",
       "      <td>98027</td>\n",
       "      <td>47.5345</td>\n",
       "      <td>-122.069</td>\n",
       "      <td>1410</td>\n",
       "      <td>1287</td>\n",
       "    </tr>\n",
       "    <tr>\n",
       "      <th>21612</th>\n",
       "      <td>1523300157</td>\n",
       "      <td>20141015T000000</td>\n",
       "      <td>325000.0</td>\n",
       "      <td>2</td>\n",
       "      <td>0.75</td>\n",
       "      <td>1020</td>\n",
       "      <td>1076</td>\n",
       "      <td>2.0</td>\n",
       "      <td>0</td>\n",
       "      <td>0</td>\n",
       "      <td>...</td>\n",
       "      <td>7</td>\n",
       "      <td>1020.0</td>\n",
       "      <td>0</td>\n",
       "      <td>2008</td>\n",
       "      <td>0</td>\n",
       "      <td>98144</td>\n",
       "      <td>47.5941</td>\n",
       "      <td>-122.299</td>\n",
       "      <td>1020</td>\n",
       "      <td>1357</td>\n",
       "    </tr>\n",
       "  </tbody>\n",
       "</table>\n",
       "<p>21613 rows × 21 columns</p>\n",
       "</div>"
      ],
      "text/plain": [
       "               id             date     price  bedrooms  bathrooms  \\\n",
       "0      7129300520  20141013T000000  221900.0         3       1.00   \n",
       "1      6414100192  20141209T000000  538000.0         3       2.25   \n",
       "2      5631500400  20150225T000000  180000.0         2       1.00   \n",
       "3      2487200875  20141209T000000  604000.0         4       3.00   \n",
       "4      1954400510  20150218T000000  510000.0         3       2.00   \n",
       "...           ...              ...       ...       ...        ...   \n",
       "21608   263000018  20140521T000000  360000.0         3       2.50   \n",
       "21609  6600060120  20150223T000000  400000.0         4       2.50   \n",
       "21610  1523300141  20140623T000000  402101.0         2       0.75   \n",
       "21611   291310100  20150116T000000  400000.0         3       2.50   \n",
       "21612  1523300157  20141015T000000  325000.0         2       0.75   \n",
       "\n",
       "       sqft_living  sqft_lot  floors  waterfront  view  ...  grade  \\\n",
       "0             1180      5650     1.0           0     0  ...      7   \n",
       "1             2570      7242     2.0           0     0  ...      7   \n",
       "2              770     10000     1.0           0     0  ...      6   \n",
       "3             1960      5000     1.0           0     0  ...      7   \n",
       "4             1680      8080     1.0           0     0  ...      8   \n",
       "...            ...       ...     ...         ...   ...  ...    ...   \n",
       "21608         1530      1131     3.0           0     0  ...      8   \n",
       "21609         2310      5813     2.0           0     0  ...      8   \n",
       "21610         1020      1350     2.0           0     0  ...      7   \n",
       "21611         1600      2388     2.0           0     0  ...      8   \n",
       "21612         1020      1076     2.0           0     0  ...      7   \n",
       "\n",
       "       sqft_above  sqft_basement  yr_built  yr_renovated  zipcode      lat  \\\n",
       "0          1180.0              0      1955             0    98178  47.5112   \n",
       "1          2170.0            400      1951          1991    98125  47.7210   \n",
       "2           770.0              0      1933             0    98028  47.7379   \n",
       "3          1050.0            910      1965             0    98136  47.5208   \n",
       "4          1680.0              0      1987             0    98074  47.6168   \n",
       "...           ...            ...       ...           ...      ...      ...   \n",
       "21608      1530.0              0      2009             0    98103  47.6993   \n",
       "21609      2310.0              0      2014             0    98146  47.5107   \n",
       "21610      1020.0              0      2009             0    98144  47.5944   \n",
       "21611      1600.0              0      2004             0    98027  47.5345   \n",
       "21612      1020.0              0      2008             0    98144  47.5941   \n",
       "\n",
       "          long  sqft_living15  sqft_lot15  \n",
       "0     -122.257           1340        5650  \n",
       "1     -122.319           1690        7639  \n",
       "2     -122.233           2720        8062  \n",
       "3     -122.393           1360        5000  \n",
       "4     -122.045           1800        7503  \n",
       "...        ...            ...         ...  \n",
       "21608 -122.346           1530        1509  \n",
       "21609 -122.362           1830        7200  \n",
       "21610 -122.299           1020        2007  \n",
       "21611 -122.069           1410        1287  \n",
       "21612 -122.299           1020        1357  \n",
       "\n",
       "[21613 rows x 21 columns]"
      ]
     },
     "execution_count": 5,
     "metadata": {},
     "output_type": "execute_result"
    }
   ],
   "source": [
    "kcpp"
   ]
  },
  {
   "cell_type": "code",
   "execution_count": 6,
   "id": "a8a99e95",
   "metadata": {},
   "outputs": [],
   "source": [
    "kcpp.dropna(inplace=True)"
   ]
  },
  {
   "cell_type": "code",
   "execution_count": 7,
   "id": "9a1cafe6",
   "metadata": {
    "scrolled": false
   },
   "outputs": [
    {
     "data": {
      "text/plain": [
       "id               0\n",
       "date             0\n",
       "price            0\n",
       "bedrooms         0\n",
       "bathrooms        0\n",
       "sqft_living      0\n",
       "sqft_lot         0\n",
       "floors           0\n",
       "waterfront       0\n",
       "view             0\n",
       "condition        0\n",
       "grade            0\n",
       "sqft_above       0\n",
       "sqft_basement    0\n",
       "yr_built         0\n",
       "yr_renovated     0\n",
       "zipcode          0\n",
       "lat              0\n",
       "long             0\n",
       "sqft_living15    0\n",
       "sqft_lot15       0\n",
       "dtype: int64"
      ]
     },
     "execution_count": 7,
     "metadata": {},
     "output_type": "execute_result"
    }
   ],
   "source": [
    "kcpp.isnull().sum()"
   ]
  },
  {
   "cell_type": "code",
   "execution_count": 8,
   "id": "5b108acb",
   "metadata": {
    "scrolled": true
   },
   "outputs": [
    {
     "data": {
      "text/plain": [
       "Index(['id', 'date', 'price', 'bedrooms', 'bathrooms', 'sqft_living',\n",
       "       'sqft_lot', 'floors', 'waterfront', 'view', 'condition', 'grade',\n",
       "       'sqft_above', 'sqft_basement', 'yr_built', 'yr_renovated', 'zipcode',\n",
       "       'lat', 'long', 'sqft_living15', 'sqft_lot15'],\n",
       "      dtype='object')"
      ]
     },
     "execution_count": 8,
     "metadata": {},
     "output_type": "execute_result"
    }
   ],
   "source": [
    "kcpp.columns"
   ]
  },
  {
   "cell_type": "code",
   "execution_count": 9,
   "id": "bcd0fba5",
   "metadata": {},
   "outputs": [],
   "source": [
    "kcpp.dropna(inplace=True)"
   ]
  },
  {
   "cell_type": "code",
   "execution_count": 10,
   "id": "b4b13c2a",
   "metadata": {},
   "outputs": [
    {
     "data": {
      "text/plain": [
       "(21611, 21)"
      ]
     },
     "execution_count": 10,
     "metadata": {},
     "output_type": "execute_result"
    }
   ],
   "source": [
    "kcpp.shape"
   ]
  },
  {
   "cell_type": "markdown",
   "id": "63957d29",
   "metadata": {},
   "source": [
    "# Univariate Analysis"
   ]
  },
  {
   "cell_type": "code",
   "execution_count": 11,
   "id": "49b70a5a",
   "metadata": {},
   "outputs": [
    {
     "name": "stdout",
     "output_type": "stream",
     "text": [
      "<class 'pandas.core.frame.DataFrame'>\n",
      "Int64Index: 21611 entries, 0 to 21612\n",
      "Data columns (total 21 columns):\n",
      " #   Column         Non-Null Count  Dtype  \n",
      "---  ------         --------------  -----  \n",
      " 0   id             21611 non-null  int64  \n",
      " 1   date           21611 non-null  object \n",
      " 2   price          21611 non-null  float64\n",
      " 3   bedrooms       21611 non-null  int64  \n",
      " 4   bathrooms      21611 non-null  float64\n",
      " 5   sqft_living    21611 non-null  int64  \n",
      " 6   sqft_lot       21611 non-null  int64  \n",
      " 7   floors         21611 non-null  float64\n",
      " 8   waterfront     21611 non-null  int64  \n",
      " 9   view           21611 non-null  int64  \n",
      " 10  condition      21611 non-null  int64  \n",
      " 11  grade          21611 non-null  int64  \n",
      " 12  sqft_above     21611 non-null  float64\n",
      " 13  sqft_basement  21611 non-null  int64  \n",
      " 14  yr_built       21611 non-null  int64  \n",
      " 15  yr_renovated   21611 non-null  int64  \n",
      " 16  zipcode        21611 non-null  int64  \n",
      " 17  lat            21611 non-null  float64\n",
      " 18  long           21611 non-null  float64\n",
      " 19  sqft_living15  21611 non-null  int64  \n",
      " 20  sqft_lot15     21611 non-null  int64  \n",
      "dtypes: float64(6), int64(14), object(1)\n",
      "memory usage: 3.6+ MB\n"
     ]
    }
   ],
   "source": [
    "kcpp.info()"
   ]
  },
  {
   "cell_type": "code",
   "execution_count": 12,
   "id": "37dc29f7",
   "metadata": {},
   "outputs": [
    {
     "data": {
      "text/plain": [
       "id                 int64\n",
       "date              object\n",
       "price            float64\n",
       "bedrooms           int64\n",
       "bathrooms        float64\n",
       "sqft_living        int64\n",
       "sqft_lot           int64\n",
       "floors           float64\n",
       "waterfront         int64\n",
       "view               int64\n",
       "condition          int64\n",
       "grade              int64\n",
       "sqft_above       float64\n",
       "sqft_basement      int64\n",
       "yr_built           int64\n",
       "yr_renovated       int64\n",
       "zipcode            int64\n",
       "lat              float64\n",
       "long             float64\n",
       "sqft_living15      int64\n",
       "sqft_lot15         int64\n",
       "dtype: object"
      ]
     },
     "execution_count": 12,
     "metadata": {},
     "output_type": "execute_result"
    }
   ],
   "source": [
    "kcpp.dtypes"
   ]
  },
  {
   "cell_type": "code",
   "execution_count": 13,
   "id": "7af88ae9",
   "metadata": {},
   "outputs": [
    {
     "data": {
      "text/plain": [
       "dtype('O')"
      ]
     },
     "execution_count": 13,
     "metadata": {},
     "output_type": "execute_result"
    }
   ],
   "source": [
    "kcpp.date.dtypes"
   ]
  },
  {
   "cell_type": "code",
   "execution_count": 14,
   "id": "653c3309",
   "metadata": {},
   "outputs": [
    {
     "data": {
      "text/plain": [
       "<AxesSubplot:xlabel='price', ylabel='Density'>"
      ]
     },
     "execution_count": 14,
     "metadata": {},
     "output_type": "execute_result"
    },
    {
     "data": {
      "image/png": "[encoded data removed]",
      "text/plain": [
       "<Figure size 432x288 with 1 Axes>"
      ]
     },
     "metadata": {
      "needs_background": "light"
     },
     "output_type": "display_data"
    }
   ],
   "source": [
    "sns.distplot(kcpp.price)"
   ]
  },
  {
   "cell_type": "code",
   "execution_count": 15,
   "id": "f0d30894",
   "metadata": {},
   "outputs": [
    {
     "data": {
      "text/plain": [
       "<AxesSubplot:xlabel='bedrooms', ylabel='Density'>"
      ]
     },
     "execution_count": 15,
     "metadata": {},
     "output_type": "execute_result"
    },
    {
     "data": {
      "image/png": "[encoded data removed]",
      "text/plain": [
       "<Figure size 432x288 with 1 Axes>"
      ]
     },
     "metadata": {
      "needs_background": "light"
     },
     "output_type": "display_data"
    }
   ],
   "source": [
    "sns.distplot(kcpp.bedrooms)"
   ]
  },
  {
   "cell_type": "code",
   "execution_count": 16,
   "id": "3fc3ed60",
   "metadata": {},
   "outputs": [
    {
     "data": {
      "text/plain": [
       "<AxesSubplot:xlabel='bathrooms', ylabel='Density'>"
      ]
     },
     "execution_count": 16,
     "metadata": {},
     "output_type": "execute_result"
    },
    {
     "data": {
      "image/png": "[encoded data removed]",
      "text/plain": [
       "<Figure size 432x288 with 1 Axes>"
      ]
     },
     "metadata": {
      "needs_background": "light"
     },
     "output_type": "display_data"
    }
   ],
   "source": [
    "sns.distplot(kcpp.bathrooms)\n"
   ]
  },
  {
   "cell_type": "code",
   "execution_count": 17,
   "id": "3729ef2d",
   "metadata": {},
   "outputs": [
    {
     "data": {
      "text/plain": [
       "Index(['id', 'date', 'price', 'bedrooms', 'bathrooms', 'sqft_living',\n",
       "       'sqft_lot', 'floors', 'waterfront', 'view', 'condition', 'grade',\n",
       "       'sqft_above', 'sqft_basement', 'yr_built', 'yr_renovated', 'zipcode',\n",
       "       'lat', 'long', 'sqft_living15', 'sqft_lot15'],\n",
       "      dtype='object')"
      ]
     },
     "execution_count": 17,
     "metadata": {},
     "output_type": "execute_result"
    }
   ],
   "source": [
    "kcpp.columns\n"
   ]
  },
  {
   "cell_type": "code",
   "execution_count": 18,
   "id": "c02bb061",
   "metadata": {},
   "outputs": [
    {
     "data": {
      "text/plain": [
       "<AxesSubplot:xlabel='sqft_living', ylabel='Density'>"
      ]
     },
     "execution_count": 18,
     "metadata": {},
     "output_type": "execute_result"
    },
    {
     "data": {
      "image/png": "[encoded data removed]",
      "text/plain": [
       "<Figure size 432x288 with 1 Axes>"
      ]
     },
     "metadata": {
      "needs_background": "light"
     },
     "output_type": "display_data"
    }
   ],
   "source": [
    "sns.distplot(kcpp.sqft_living)"
   ]
  },
  {
   "cell_type": "code",
   "execution_count": 19,
   "id": "f827e721",
   "metadata": {},
   "outputs": [
    {
     "data": {
      "text/plain": [
       "<AxesSubplot:xlabel='sqft_lot', ylabel='Density'>"
      ]
     },
     "execution_count": 19,
     "metadata": {},
     "output_type": "execute_result"
    },
    {
     "data": {
      "image/png": "[encoded data removed]",
      "text/plain": [
       "<Figure size 432x288 with 1 Axes>"
      ]
     },
     "metadata": {
      "needs_background": "light"
     },
     "output_type": "display_data"
    }
   ],
   "source": [
    "sns.distplot(kcpp.sqft_lot)"
   ]
  },
  {
   "cell_type": "code",
   "execution_count": 20,
   "id": "f92b1ef4",
   "metadata": {},
   "outputs": [
    {
     "data": {
      "text/plain": [
       "<AxesSubplot:xlabel='floors', ylabel='Density'>"
      ]
     },
     "execution_count": 20,
     "metadata": {},
     "output_type": "execute_result"
    },
    {
     "data": {
      "image/png": "[encoded data removed]",
      "text/plain": [
       "<Figure size 432x288 with 1 Axes>"
      ]
     },
     "metadata": {
      "needs_background": "light"
     },
     "output_type": "display_data"
    }
   ],
   "source": [
    "sns.distplot(kcpp.floors)"
   ]
  },
  {
   "cell_type": "code",
   "execution_count": 21,
   "id": "6f41a5fd",
   "metadata": {},
   "outputs": [
    {
     "data": {
      "text/plain": [
       "<function matplotlib.pyplot.show(close=None, block=None)>"
      ]
     },
     "execution_count": 21,
     "metadata": {},
     "output_type": "execute_result"
    },
    {
     "data": {
      "image/png": "[encoded data removed]",
      "text/plain": [
       "<Figure size 432x288 with 1 Axes>"
      ]
     },
     "metadata": {
      "needs_background": "light"
     },
     "output_type": "display_data"
    }
   ],
   "source": [
    "sns.distplot(kcpp.waterfront)\n",
    "\n",
    "\n",
    "plt.show\n"
   ]
  },
  {
   "cell_type": "code",
   "execution_count": 22,
   "id": "edfc4dcf",
   "metadata": {},
   "outputs": [
    {
     "data": {
      "text/plain": [
       "<AxesSubplot:xlabel='bedrooms', ylabel='count'>"
      ]
     },
     "execution_count": 22,
     "metadata": {},
     "output_type": "execute_result"
    },
    {
     "data": {
      "image/png": "[encoded data removed]",
      "text/plain": [
       "<Figure size 432x288 with 1 Axes>"
      ]
     },
     "metadata": {
      "needs_background": "light"
     },
     "output_type": "display_data"
    }
   ],
   "source": [
    "sns.countplot(kcpp.bedrooms)"
   ]
  },
  {
   "cell_type": "markdown",
   "id": "3bee516b",
   "metadata": {},
   "source": [
    "### what is the number of houses having the maximum number of floors?"
   ]
  },
  {
   "cell_type": "code",
   "execution_count": 23,
   "id": "acf849b0",
   "metadata": {},
   "outputs": [
    {
     "data": {
      "text/plain": [
       "<AxesSubplot:xlabel='floors', ylabel='count'>"
      ]
     },
     "execution_count": 23,
     "metadata": {},
     "output_type": "execute_result"
    },
    {
     "data": {
      "image/png": "[encoded data removed]",
      "text/plain": [
       "<Figure size 432x288 with 1 Axes>"
      ]
     },
     "metadata": {
      "needs_background": "light"
     },
     "output_type": "display_data"
    }
   ],
   "source": [
    "sns.countplot(kcpp.floors)"
   ]
  },
  {
   "cell_type": "code",
   "execution_count": 24,
   "id": "ff5e7f47",
   "metadata": {},
   "outputs": [
    {
     "data": {
      "text/plain": [
       "1.0    10679\n",
       "2.0     8241\n",
       "1.5     1909\n",
       "3.0      613\n",
       "2.5      161\n",
       "3.5        8\n",
       "Name: floors, dtype: int64"
      ]
     },
     "execution_count": 24,
     "metadata": {},
     "output_type": "execute_result"
    }
   ],
   "source": [
    "kcpp.floors.value_counts()"
   ]
  },
  {
   "cell_type": "code",
   "execution_count": 25,
   "id": "02ea66c7",
   "metadata": {},
   "outputs": [
    {
     "data": {
      "text/plain": [
       "<AxesSubplot:xlabel='sqft_living', ylabel='count'>"
      ]
     },
     "execution_count": 25,
     "metadata": {},
     "output_type": "execute_result"
    },
    {
     "data": {
      "image/png": "[encoded data removed]",
      "text/plain": [
       "<Figure size 432x288 with 1 Axes>"
      ]
     },
     "metadata": {
      "needs_background": "light"
     },
     "output_type": "display_data"
    }
   ],
   "source": [
    "sns.countplot(kcpp.sqft_living)\n"
   ]
  },
  {
   "cell_type": "code",
   "execution_count": 26,
   "id": "ba3304c5",
   "metadata": {},
   "outputs": [
    {
     "data": {
      "text/plain": [
       "1300    138\n",
       "1400    135\n",
       "1440    133\n",
       "1800    129\n",
       "1010    129\n",
       "       ... \n",
       "9890      1\n",
       "5584      1\n",
       "1961      1\n",
       "5720      1\n",
       "1425      1\n",
       "Name: sqft_living, Length: 1038, dtype: int64"
      ]
     },
     "execution_count": 26,
     "metadata": {},
     "output_type": "execute_result"
    }
   ],
   "source": [
    "kcpp.sqft_living.value_counts()"
   ]
  },
  {
   "cell_type": "code",
   "execution_count": 27,
   "id": "bf0eee0b",
   "metadata": {},
   "outputs": [
    {
     "data": {
      "text/plain": [
       "<AxesSubplot:xlabel='sqft_living'>"
      ]
     },
     "execution_count": 27,
     "metadata": {},
     "output_type": "execute_result"
    },
    {
     "data": {
      "image/png": "[encoded data removed]",
      "text/plain": [
       "<Figure size 432x288 with 1 Axes>"
      ]
     },
     "metadata": {
      "needs_background": "light"
     },
     "output_type": "display_data"
    }
   ],
   "source": [
    "sns.boxplot(kcpp.sqft_living)"
   ]
  },
  {
   "cell_type": "code",
   "execution_count": 28,
   "id": "5bb68817",
   "metadata": {},
   "outputs": [
    {
     "data": {
      "text/html": [
       "<div>\n",
       "<style scoped>\n",
       "    .dataframe tbody tr th:only-of-type {\n",
       "        vertical-align: middle;\n",
       "    }\n",
       "\n",
       "    .dataframe tbody tr th {\n",
       "        vertical-align: top;\n",
       "    }\n",
       "\n",
       "    .dataframe thead th {\n",
       "        text-align: right;\n",
       "    }\n",
       "</style>\n",
       "<table border=\"1\" class=\"dataframe\">\n",
       "  <thead>\n",
       "    <tr style=\"text-align: right;\">\n",
       "      <th></th>\n",
       "      <th>id</th>\n",
       "      <th>price</th>\n",
       "      <th>bedrooms</th>\n",
       "      <th>bathrooms</th>\n",
       "      <th>sqft_living</th>\n",
       "      <th>sqft_lot</th>\n",
       "      <th>floors</th>\n",
       "      <th>waterfront</th>\n",
       "      <th>view</th>\n",
       "      <th>condition</th>\n",
       "      <th>grade</th>\n",
       "      <th>sqft_above</th>\n",
       "      <th>sqft_basement</th>\n",
       "      <th>yr_built</th>\n",
       "      <th>yr_renovated</th>\n",
       "      <th>zipcode</th>\n",
       "      <th>lat</th>\n",
       "      <th>long</th>\n",
       "      <th>sqft_living15</th>\n",
       "      <th>sqft_lot15</th>\n",
       "    </tr>\n",
       "  </thead>\n",
       "  <tbody>\n",
       "    <tr>\n",
       "      <th>count</th>\n",
       "      <td>2.161100e+04</td>\n",
       "      <td>2.161100e+04</td>\n",
       "      <td>21611.000000</td>\n",
       "      <td>21611.000000</td>\n",
       "      <td>21611.000000</td>\n",
       "      <td>2.161100e+04</td>\n",
       "      <td>21611.000000</td>\n",
       "      <td>21611.000000</td>\n",
       "      <td>21611.000000</td>\n",
       "      <td>21611.000000</td>\n",
       "      <td>21611.000000</td>\n",
       "      <td>21611.000000</td>\n",
       "      <td>21611.000000</td>\n",
       "      <td>21611.000000</td>\n",
       "      <td>21611.000000</td>\n",
       "      <td>21611.000000</td>\n",
       "      <td>21611.000000</td>\n",
       "      <td>21611.000000</td>\n",
       "      <td>21611.000000</td>\n",
       "      <td>21611.000000</td>\n",
       "    </tr>\n",
       "    <tr>\n",
       "      <th>mean</th>\n",
       "      <td>4.580327e+09</td>\n",
       "      <td>5.400850e+05</td>\n",
       "      <td>3.370830</td>\n",
       "      <td>2.114791</td>\n",
       "      <td>2079.853454</td>\n",
       "      <td>1.510771e+04</td>\n",
       "      <td>1.494332</td>\n",
       "      <td>0.007542</td>\n",
       "      <td>0.234325</td>\n",
       "      <td>3.409421</td>\n",
       "      <td>7.656888</td>\n",
       "      <td>1788.396095</td>\n",
       "      <td>291.457360</td>\n",
       "      <td>1971.007959</td>\n",
       "      <td>84.410069</td>\n",
       "      <td>98077.941928</td>\n",
       "      <td>47.560046</td>\n",
       "      <td>-122.213894</td>\n",
       "      <td>1986.559576</td>\n",
       "      <td>12769.025357</td>\n",
       "    </tr>\n",
       "    <tr>\n",
       "      <th>std</th>\n",
       "      <td>2.876592e+09</td>\n",
       "      <td>3.671430e+05</td>\n",
       "      <td>0.930092</td>\n",
       "      <td>0.770157</td>\n",
       "      <td>918.422406</td>\n",
       "      <td>4.142235e+04</td>\n",
       "      <td>0.540003</td>\n",
       "      <td>0.086521</td>\n",
       "      <td>0.766350</td>\n",
       "      <td>0.650755</td>\n",
       "      <td>1.175502</td>\n",
       "      <td>828.128162</td>\n",
       "      <td>442.487355</td>\n",
       "      <td>29.372358</td>\n",
       "      <td>401.697007</td>\n",
       "      <td>53.505054</td>\n",
       "      <td>0.138568</td>\n",
       "      <td>0.140831</td>\n",
       "      <td>685.416548</td>\n",
       "      <td>27305.369808</td>\n",
       "    </tr>\n",
       "    <tr>\n",
       "      <th>min</th>\n",
       "      <td>1.000102e+06</td>\n",
       "      <td>7.500000e+04</td>\n",
       "      <td>0.000000</td>\n",
       "      <td>0.000000</td>\n",
       "      <td>290.000000</td>\n",
       "      <td>5.200000e+02</td>\n",
       "      <td>1.000000</td>\n",
       "      <td>0.000000</td>\n",
       "      <td>0.000000</td>\n",
       "      <td>1.000000</td>\n",
       "      <td>1.000000</td>\n",
       "      <td>290.000000</td>\n",
       "      <td>0.000000</td>\n",
       "      <td>1900.000000</td>\n",
       "      <td>0.000000</td>\n",
       "      <td>98001.000000</td>\n",
       "      <td>47.155900</td>\n",
       "      <td>-122.519000</td>\n",
       "      <td>399.000000</td>\n",
       "      <td>651.000000</td>\n",
       "    </tr>\n",
       "    <tr>\n",
       "      <th>25%</th>\n",
       "      <td>2.123049e+09</td>\n",
       "      <td>3.217250e+05</td>\n",
       "      <td>3.000000</td>\n",
       "      <td>1.750000</td>\n",
       "      <td>1426.000000</td>\n",
       "      <td>5.040000e+03</td>\n",
       "      <td>1.000000</td>\n",
       "      <td>0.000000</td>\n",
       "      <td>0.000000</td>\n",
       "      <td>3.000000</td>\n",
       "      <td>7.000000</td>\n",
       "      <td>1190.000000</td>\n",
       "      <td>0.000000</td>\n",
       "      <td>1951.000000</td>\n",
       "      <td>0.000000</td>\n",
       "      <td>98033.000000</td>\n",
       "      <td>47.470950</td>\n",
       "      <td>-122.328000</td>\n",
       "      <td>1490.000000</td>\n",
       "      <td>5100.000000</td>\n",
       "    </tr>\n",
       "    <tr>\n",
       "      <th>50%</th>\n",
       "      <td>3.904930e+09</td>\n",
       "      <td>4.500000e+05</td>\n",
       "      <td>3.000000</td>\n",
       "      <td>2.250000</td>\n",
       "      <td>1910.000000</td>\n",
       "      <td>7.618000e+03</td>\n",
       "      <td>1.500000</td>\n",
       "      <td>0.000000</td>\n",
       "      <td>0.000000</td>\n",
       "      <td>3.000000</td>\n",
       "      <td>7.000000</td>\n",
       "      <td>1560.000000</td>\n",
       "      <td>0.000000</td>\n",
       "      <td>1975.000000</td>\n",
       "      <td>0.000000</td>\n",
       "      <td>98065.000000</td>\n",
       "      <td>47.571800</td>\n",
       "      <td>-122.230000</td>\n",
       "      <td>1840.000000</td>\n",
       "      <td>7620.000000</td>\n",
       "    </tr>\n",
       "    <tr>\n",
       "      <th>75%</th>\n",
       "      <td>7.308900e+09</td>\n",
       "      <td>6.450000e+05</td>\n",
       "      <td>4.000000</td>\n",
       "      <td>2.500000</td>\n",
       "      <td>2550.000000</td>\n",
       "      <td>1.068850e+04</td>\n",
       "      <td>2.000000</td>\n",
       "      <td>0.000000</td>\n",
       "      <td>0.000000</td>\n",
       "      <td>4.000000</td>\n",
       "      <td>8.000000</td>\n",
       "      <td>2210.000000</td>\n",
       "      <td>560.000000</td>\n",
       "      <td>1997.000000</td>\n",
       "      <td>0.000000</td>\n",
       "      <td>98118.000000</td>\n",
       "      <td>47.678000</td>\n",
       "      <td>-122.125000</td>\n",
       "      <td>2360.000000</td>\n",
       "      <td>10083.500000</td>\n",
       "    </tr>\n",
       "    <tr>\n",
       "      <th>max</th>\n",
       "      <td>9.900000e+09</td>\n",
       "      <td>7.700000e+06</td>\n",
       "      <td>33.000000</td>\n",
       "      <td>8.000000</td>\n",
       "      <td>13540.000000</td>\n",
       "      <td>1.651359e+06</td>\n",
       "      <td>3.500000</td>\n",
       "      <td>1.000000</td>\n",
       "      <td>4.000000</td>\n",
       "      <td>5.000000</td>\n",
       "      <td>13.000000</td>\n",
       "      <td>9410.000000</td>\n",
       "      <td>4820.000000</td>\n",
       "      <td>2015.000000</td>\n",
       "      <td>2015.000000</td>\n",
       "      <td>98199.000000</td>\n",
       "      <td>47.777600</td>\n",
       "      <td>-121.315000</td>\n",
       "      <td>6210.000000</td>\n",
       "      <td>871200.000000</td>\n",
       "    </tr>\n",
       "  </tbody>\n",
       "</table>\n",
       "</div>"
      ],
      "text/plain": [
       "                 id         price      bedrooms     bathrooms   sqft_living  \\\n",
       "count  2.161100e+04  2.161100e+04  21611.000000  21611.000000  21611.000000   \n",
       "mean   4.580327e+09  5.400850e+05      3.370830      2.114791   2079.853454   \n",
       "std    2.876592e+09  3.671430e+05      0.930092      0.770157    918.422406   \n",
       "min    1.000102e+06  7.500000e+04      0.000000      0.000000    290.000000   \n",
       "25%    2.123049e+09  3.217250e+05      3.000000      1.750000   1426.000000   \n",
       "50%    3.904930e+09  4.500000e+05      3.000000      2.250000   1910.000000   \n",
       "75%    7.308900e+09  6.450000e+05      4.000000      2.500000   2550.000000   \n",
       "max    9.900000e+09  7.700000e+06     33.000000      8.000000  13540.000000   \n",
       "\n",
       "           sqft_lot        floors    waterfront          view     condition  \\\n",
       "count  2.161100e+04  21611.000000  21611.000000  21611.000000  21611.000000   \n",
       "mean   1.510771e+04      1.494332      0.007542      0.234325      3.409421   \n",
       "std    4.142235e+04      0.540003      0.086521      0.766350      0.650755   \n",
       "min    5.200000e+02      1.000000      0.000000      0.000000      1.000000   \n",
       "25%    5.040000e+03      1.000000      0.000000      0.000000      3.000000   \n",
       "50%    7.618000e+03      1.500000      0.000000      0.000000      3.000000   \n",
       "75%    1.068850e+04      2.000000      0.000000      0.000000      4.000000   \n",
       "max    1.651359e+06      3.500000      1.000000      4.000000      5.000000   \n",
       "\n",
       "              grade    sqft_above  sqft_basement      yr_built  yr_renovated  \\\n",
       "count  21611.000000  21611.000000   21611.000000  21611.000000  21611.000000   \n",
       "mean       7.656888   1788.396095     291.457360   1971.007959     84.410069   \n",
       "std        1.175502    828.128162     442.487355     29.372358    401.697007   \n",
       "min        1.000000    290.000000       0.000000   1900.000000      0.000000   \n",
       "25%        7.000000   1190.000000       0.000000   1951.000000      0.000000   \n",
       "50%        7.000000   1560.000000       0.000000   1975.000000      0.000000   \n",
       "75%        8.000000   2210.000000     560.000000   1997.000000      0.000000   \n",
       "max       13.000000   9410.000000    4820.000000   2015.000000   2015.000000   \n",
       "\n",
       "            zipcode           lat          long  sqft_living15     sqft_lot15  \n",
       "count  21611.000000  21611.000000  21611.000000   21611.000000   21611.000000  \n",
       "mean   98077.941928     47.560046   -122.213894    1986.559576   12769.025357  \n",
       "std       53.505054      0.138568      0.140831     685.416548   27305.369808  \n",
       "min    98001.000000     47.155900   -122.519000     399.000000     651.000000  \n",
       "25%    98033.000000     47.470950   -122.328000    1490.000000    5100.000000  \n",
       "50%    98065.000000     47.571800   -122.230000    1840.000000    7620.000000  \n",
       "75%    98118.000000     47.678000   -122.125000    2360.000000   10083.500000  \n",
       "max    98199.000000     47.777600   -121.315000    6210.000000  871200.000000  "
      ]
     },
     "execution_count": 28,
     "metadata": {},
     "output_type": "execute_result"
    }
   ],
   "source": [
    "kcpp.describe()"
   ]
  },
  {
   "cell_type": "code",
   "execution_count": 29,
   "id": "45be6b2b",
   "metadata": {},
   "outputs": [
    {
     "data": {
      "text/plain": [
       "1300    138\n",
       "1400    135\n",
       "1440    133\n",
       "1800    129\n",
       "1660    129\n",
       "       ... \n",
       "5130      1\n",
       "3847      1\n",
       "1788      1\n",
       "7420      1\n",
       "1425      1\n",
       "Name: sqft_living, Length: 926, dtype: int64"
      ]
     },
     "execution_count": 29,
     "metadata": {},
     "output_type": "execute_result"
    }
   ],
   "source": [
    "kcpp[kcpp['sqft_living']>1200].sqft_living.value_counts()"
   ]
  },
  {
   "cell_type": "code",
   "execution_count": 30,
   "id": "df5902ec",
   "metadata": {},
   "outputs": [
    {
     "data": {
      "text/html": [
       "<style type=\"text/css\">\n",
       "#T_07a77_row0_col0, #T_07a77_row1_col1, #T_07a77_row2_col2, #T_07a77_row3_col3, #T_07a77_row4_col4, #T_07a77_row5_col5, #T_07a77_row6_col6, #T_07a77_row7_col7, #T_07a77_row8_col8, #T_07a77_row9_col9, #T_07a77_row10_col10, #T_07a77_row11_col11, #T_07a77_row12_col12, #T_07a77_row13_col13, #T_07a77_row14_col14, #T_07a77_row15_col15, #T_07a77_row16_col16, #T_07a77_row17_col17, #T_07a77_row18_col18, #T_07a77_row19_col19 {\n",
       "  background-color: #023858;\n",
       "  color: #f1f1f1;\n",
       "}\n",
       "#T_07a77_row0_col1, #T_07a77_row2_col7, #T_07a77_row9_col10 {\n",
       "  background-color: #faf3f9;\n",
       "  color: #000000;\n",
       "}\n",
       "#T_07a77_row0_col2, #T_07a77_row5_col1, #T_07a77_row7_col5, #T_07a77_row8_col16, #T_07a77_row9_col14, #T_07a77_row14_col19 {\n",
       "  background-color: #eae6f1;\n",
       "  color: #000000;\n",
       "}\n",
       "#T_07a77_row0_col3, #T_07a77_row3_col9, #T_07a77_row4_col16, #T_07a77_row6_col16 {\n",
       "  background-color: #e1dfed;\n",
       "  color: #000000;\n",
       "}\n",
       "#T_07a77_row0_col4, #T_07a77_row2_col19, #T_07a77_row7_col19, #T_07a77_row11_col12, #T_07a77_row14_col16 {\n",
       "  background-color: #e6e2ef;\n",
       "  color: #000000;\n",
       "}\n",
       "#T_07a77_row0_col5, #T_07a77_row6_col12, #T_07a77_row9_col6, #T_07a77_row9_col13, #T_07a77_row13_col9, #T_07a77_row13_col14, #T_07a77_row13_col16, #T_07a77_row15_col1, #T_07a77_row15_col2, #T_07a77_row15_col3, #T_07a77_row15_col4, #T_07a77_row15_col5, #T_07a77_row15_col10, #T_07a77_row15_col11, #T_07a77_row15_col17, #T_07a77_row15_col18, #T_07a77_row15_col19, #T_07a77_row17_col7, #T_07a77_row17_col8, #T_07a77_row17_col15, #T_07a77_row19_col0 {\n",
       "  background-color: #fff7fb;\n",
       "  color: #000000;\n",
       "}\n",
       "#T_07a77_row0_col6, #T_07a77_row3_col14, #T_07a77_row7_col10, #T_07a77_row8_col13, #T_07a77_row12_col16, #T_07a77_row14_col11 {\n",
       "  background-color: #d6d6e9;\n",
       "  color: #000000;\n",
       "}\n",
       "#T_07a77_row0_col7 {\n",
       "  background-color: #faf2f8;\n",
       "  color: #000000;\n",
       "}\n",
       "#T_07a77_row0_col8, #T_07a77_row9_col1 {\n",
       "  background-color: #f2ecf5;\n",
       "  color: #000000;\n",
       "}\n",
       "#T_07a77_row0_col9, #T_07a77_row3_col8, #T_07a77_row7_col13, #T_07a77_row16_col6 {\n",
       "  background-color: #d1d2e6;\n",
       "  color: #000000;\n",
       "}\n",
       "#T_07a77_row0_col10, #T_07a77_row13_col5, #T_07a77_row15_col6 {\n",
       "  background-color: #e4e1ef;\n",
       "  color: #000000;\n",
       "}\n",
       "#T_07a77_row0_col11, #T_07a77_row1_col5, #T_07a77_row2_col14, #T_07a77_row10_col14, #T_07a77_row18_col9 {\n",
       "  background-color: #dcdaeb;\n",
       "  color: #000000;\n",
       "}\n",
       "#T_07a77_row0_col12, #T_07a77_row3_col5, #T_07a77_row8_col19, #T_07a77_row11_col15 {\n",
       "  background-color: #dddbec;\n",
       "  color: #000000;\n",
       "}\n",
       "#T_07a77_row0_col13, #T_07a77_row5_col15, #T_07a77_row7_col9, #T_07a77_row11_col5 {\n",
       "  background-color: #c6cce3;\n",
       "  color: #000000;\n",
       "}\n",
       "#T_07a77_row0_col14, #T_07a77_row14_col1, #T_07a77_row14_col8, #T_07a77_row14_col10, #T_07a77_row18_col16 {\n",
       "  background-color: #e2dfee;\n",
       "  color: #000000;\n",
       "}\n",
       "#T_07a77_row0_col15, #T_07a77_row5_col11, #T_07a77_row17_col3 {\n",
       "  background-color: #adc1dd;\n",
       "  color: #000000;\n",
       "}\n",
       "#T_07a77_row0_col16, #T_07a77_row3_col0, #T_07a77_row7_col2, #T_07a77_row9_col19, #T_07a77_row11_col16, #T_07a77_row17_col14, #T_07a77_row19_col1 {\n",
       "  background-color: #ece7f2;\n",
       "  color: #000000;\n",
       "}\n",
       "#T_07a77_row0_col17, #T_07a77_row1_col17, #T_07a77_row12_col18 {\n",
       "  background-color: #a7bddb;\n",
       "  color: #000000;\n",
       "}\n",
       "#T_07a77_row0_col18, #T_07a77_row10_col5, #T_07a77_row14_col18 {\n",
       "  background-color: #d8d7e9;\n",
       "  color: #000000;\n",
       "}\n",
       "#T_07a77_row0_col19, #T_07a77_row5_col0 {\n",
       "  background-color: #fef6fb;\n",
       "  color: #000000;\n",
       "}\n",
       "#T_07a77_row1_col0, #T_07a77_row9_col5, #T_07a77_row14_col0 {\n",
       "  background-color: #efe9f3;\n",
       "  color: #000000;\n",
       "}\n",
       "#T_07a77_row1_col2, #T_07a77_row14_col15 {\n",
       "  background-color: #9cb9d9;\n",
       "  color: #000000;\n",
       "}\n",
       "#T_07a77_row1_col3, #T_07a77_row18_col1 {\n",
       "  background-color: #3f93c2;\n",
       "  color: #f1f1f1;\n",
       "}\n",
       "#T_07a77_row1_col4, #T_07a77_row3_col11, #T_07a77_row19_col5 {\n",
       "  background-color: #056faf;\n",
       "  color: #f1f1f1;\n",
       "}\n",
       "#T_07a77_row1_col6 {\n",
       "  background-color: #97b7d7;\n",
       "  color: #000000;\n",
       "}\n",
       "#T_07a77_row1_col7, #T_07a77_row6_col1 {\n",
       "  background-color: #c1cae2;\n",
       "  color: #000000;\n",
       "}\n",
       "#T_07a77_row1_col8, #T_07a77_row2_col12, #T_07a77_row6_col17 {\n",
       "  background-color: #8cb3d5;\n",
       "  color: #000000;\n",
       "}\n",
       "#T_07a77_row1_col9, #T_07a77_row9_col17 {\n",
       "  background-color: #c2cbe2;\n",
       "  color: #000000;\n",
       "}\n",
       "#T_07a77_row1_col10, #T_07a77_row10_col3 {\n",
       "  background-color: #1077b4;\n",
       "  color: #f1f1f1;\n",
       "}\n",
       "#T_07a77_row1_col11, #T_07a77_row10_col1 {\n",
       "  background-color: #1e80b8;\n",
       "  color: #f1f1f1;\n",
       "}\n",
       "#T_07a77_row1_col12, #T_07a77_row2_col10 {\n",
       "  background-color: #84b0d3;\n",
       "  color: #f1f1f1;\n",
       "}\n",
       "#T_07a77_row1_col13, #T_07a77_row10_col8, #T_07a77_row17_col6 {\n",
       "  background-color: #bdc8e1;\n",
       "  color: #000000;\n",
       "}\n",
       "#T_07a77_row1_col14, #T_07a77_row2_col9, #T_07a77_row4_col19, #T_07a77_row7_col18, #T_07a77_row16_col12, #T_07a77_row18_col19 {\n",
       "  background-color: #c4cbe3;\n",
       "  color: #000000;\n",
       "}\n",
       "#T_07a77_row1_col15, #T_07a77_row8_col3 {\n",
       "  background-color: #b7c5df;\n",
       "  color: #000000;\n",
       "}\n",
       "#T_07a77_row1_col16, #T_07a77_row12_col2 {\n",
       "  background-color: #9ebad9;\n",
       "  color: #000000;\n",
       "}\n",
       "#T_07a77_row1_col18 {\n",
       "  background-color: #2182b9;\n",
       "  color: #f1f1f1;\n",
       "}\n",
       "#T_07a77_row1_col19, #T_07a77_row8_col2, #T_07a77_row11_col14, #T_07a77_row19_col6 {\n",
       "  background-color: #dbdaeb;\n",
       "  color: #000000;\n",
       "}\n",
       "#T_07a77_row2_col0, #T_07a77_row2_col16, #T_07a77_row14_col5, #T_07a77_row16_col2, #T_07a77_row18_col7 {\n",
       "  background-color: #ede7f2;\n",
       "  color: #000000;\n",
       "}\n",
       "#T_07a77_row2_col1, #T_07a77_row8_col11, #T_07a77_row16_col1 {\n",
       "  background-color: #b1c2de;\n",
       "  color: #000000;\n",
       "}\n",
       "#T_07a77_row2_col3 {\n",
       "  background-color: #4295c3;\n",
       "  color: #f1f1f1;\n",
       "}\n",
       "#T_07a77_row2_col4 {\n",
       "  background-color: #2d8abd;\n",
       "  color: #f1f1f1;\n",
       "}\n",
       "#T_07a77_row2_col5, #T_07a77_row2_col8, #T_07a77_row3_col16, #T_07a77_row9_col18, #T_07a77_row11_col9, #T_07a77_row14_col2, #T_07a77_row15_col8 {\n",
       "  background-color: #e7e3f0;\n",
       "  color: #000000;\n",
       "}\n",
       "#T_07a77_row2_col6 {\n",
       "  background-color: #b0c2de;\n",
       "  color: #000000;\n",
       "}\n",
       "#T_07a77_row2_col11, #T_07a77_row6_col3 {\n",
       "  background-color: #4a98c5;\n",
       "  color: #f1f1f1;\n",
       "}\n",
       "#T_07a77_row2_col13 {\n",
       "  background-color: #a5bddb;\n",
       "  color: #000000;\n",
       "}\n",
       "#T_07a77_row2_col15, #T_07a77_row7_col11, #T_07a77_row7_col12, #T_07a77_row19_col9 {\n",
       "  background-color: #cccfe5;\n",
       "  color: #000000;\n",
       "}\n",
       "#T_07a77_row2_col17, #T_07a77_row10_col2 {\n",
       "  background-color: #8bb2d4;\n",
       "  color: #000000;\n",
       "}\n",
       "#T_07a77_row2_col18 {\n",
       "  background-color: #67a4cc;\n",
       "  color: #f1f1f1;\n",
       "}\n",
       "#T_07a77_row3_col1 {\n",
       "  background-color: #5c9fc9;\n",
       "  color: #f1f1f1;\n",
       "}\n",
       "#T_07a77_row3_col2, #T_07a77_row11_col17 {\n",
       "  background-color: #4c99c5;\n",
       "  color: #f1f1f1;\n",
       "}\n",
       "#T_07a77_row3_col4, #T_07a77_row4_col3, #T_07a77_row11_col10 {\n",
       "  background-color: #0568a3;\n",
       "  color: #f1f1f1;\n",
       "}\n",
       "#T_07a77_row3_col6 {\n",
       "  background-color: #4094c3;\n",
       "  color: #f1f1f1;\n",
       "}\n",
       "#T_07a77_row3_col7, #T_07a77_row6_col8, #T_07a77_row9_col0, #T_07a77_row13_col1, #T_07a77_row14_col13 {\n",
       "  background-color: #f0eaf4;\n",
       "  color: #000000;\n",
       "}\n",
       "#T_07a77_row3_col10, #T_07a77_row4_col1 {\n",
       "  background-color: #1278b4;\n",
       "  color: #f1f1f1;\n",
       "}\n",
       "#T_07a77_row3_col12 {\n",
       "  background-color: #93b5d6;\n",
       "  color: #000000;\n",
       "}\n",
       "#T_07a77_row3_col13 {\n",
       "  background-color: #308cbe;\n",
       "  color: #f1f1f1;\n",
       "}\n",
       "#T_07a77_row3_col15, #T_07a77_row4_col14, #T_07a77_row7_col6, #T_07a77_row10_col16, #T_07a77_row11_col8 {\n",
       "  background-color: #d5d5e8;\n",
       "  color: #000000;\n",
       "}\n",
       "#T_07a77_row3_col17 {\n",
       "  background-color: #73a9cf;\n",
       "  color: #f1f1f1;\n",
       "}\n",
       "#T_07a77_row3_col18 {\n",
       "  background-color: #2786bb;\n",
       "  color: #f1f1f1;\n",
       "}\n",
       "#T_07a77_row3_col19, #T_07a77_row5_col6, #T_07a77_row16_col11 {\n",
       "  background-color: #dad9ea;\n",
       "  color: #000000;\n",
       "}\n",
       "#T_07a77_row4_col0, #T_07a77_row6_col5, #T_07a77_row11_col0, #T_07a77_row11_col7 {\n",
       "  background-color: #eee9f3;\n",
       "  color: #000000;\n",
       "}\n",
       "#T_07a77_row4_col2 {\n",
       "  background-color: #328dbf;\n",
       "  color: #f1f1f1;\n",
       "}\n",
       "#T_07a77_row4_col5, #T_07a77_row8_col14, #T_07a77_row12_col17, #T_07a77_row13_col2, #T_07a77_row15_col9, #T_07a77_row19_col15 {\n",
       "  background-color: #cacee5;\n",
       "  color: #000000;\n",
       "}\n",
       "#T_07a77_row4_col6 {\n",
       "  background-color: #78abd0;\n",
       "  color: #f1f1f1;\n",
       "}\n",
       "#T_07a77_row4_col7, #T_07a77_row6_col0, #T_07a77_row13_col15, #T_07a77_row17_col0, #T_07a77_row19_col8 {\n",
       "  background-color: #e9e5f1;\n",
       "  color: #000000;\n",
       "}\n",
       "#T_07a77_row4_col8, #T_07a77_row9_col12 {\n",
       "  background-color: #b3c3de;\n",
       "  color: #000000;\n",
       "}\n",
       "#T_07a77_row4_col9, #T_07a77_row7_col3, #T_07a77_row14_col9 {\n",
       "  background-color: #d7d6e9;\n",
       "  color: #000000;\n",
       "}\n",
       "#T_07a77_row4_col10, #T_07a77_row18_col4 {\n",
       "  background-color: #0567a2;\n",
       "  color: #f1f1f1;\n",
       "}\n",
       "#T_07a77_row4_col11 {\n",
       "  background-color: #045382;\n",
       "  color: #f1f1f1;\n",
       "}\n",
       "#T_07a77_row4_col12, #T_07a77_row11_col2, #T_07a77_row13_col11 {\n",
       "  background-color: #5ea0ca;\n",
       "  color: #f1f1f1;\n",
       "}\n",
       "#T_07a77_row4_col13 {\n",
       "  background-color: #75a9cf;\n",
       "  color: #f1f1f1;\n",
       "}\n",
       "#T_07a77_row4_col15, #T_07a77_row8_col6, #T_07a77_row10_col19 {\n",
       "  background-color: #d4d4e8;\n",
       "  color: #000000;\n",
       "}\n",
       "#T_07a77_row4_col17 {\n",
       "  background-color: #6da6cd;\n",
       "  color: #f1f1f1;\n",
       "}\n",
       "#T_07a77_row4_col18 {\n",
       "  background-color: #05659f;\n",
       "  color: #f1f1f1;\n",
       "}\n",
       "#T_07a77_row5_col2, #T_07a77_row9_col2, #T_07a77_row10_col9, #T_07a77_row16_col13, #T_07a77_row19_col2 {\n",
       "  background-color: #e5e1ef;\n",
       "  color: #000000;\n",
       "}\n",
       "#T_07a77_row5_col3, #T_07a77_row10_col15, #T_07a77_row17_col2, #T_07a77_row18_col5 {\n",
       "  background-color: #d2d2e7;\n",
       "  color: #000000;\n",
       "}\n",
       "#T_07a77_row5_col4, #T_07a77_row8_col17 {\n",
       "  background-color: #bcc7e1;\n",
       "  color: #000000;\n",
       "}\n",
       "#T_07a77_row5_col7 {\n",
       "  background-color: #f6eff7;\n",
       "  color: #000000;\n",
       "}\n",
       "#T_07a77_row5_col8, #T_07a77_row12_col19, #T_07a77_row13_col0 {\n",
       "  background-color: #e8e4f0;\n",
       "  color: #000000;\n",
       "}\n",
       "#T_07a77_row5_col9, #T_07a77_row7_col14 {\n",
       "  background-color: #cdd0e5;\n",
       "  color: #000000;\n",
       "}\n",
       "#T_07a77_row5_col10, #T_07a77_row7_col4, #T_07a77_row16_col10 {\n",
       "  background-color: #d0d1e6;\n",
       "  color: #000000;\n",
       "}\n",
       "#T_07a77_row5_col12, #T_07a77_row14_col3, #T_07a77_row14_col4, #T_07a77_row14_col6, #T_07a77_row16_col4, #T_07a77_row16_col14, #T_07a77_row19_col12 {\n",
       "  background-color: #d9d8ea;\n",
       "  color: #000000;\n",
       "}\n",
       "#T_07a77_row5_col13, #T_07a77_row7_col1 {\n",
       "  background-color: #bfc9e1;\n",
       "  color: #000000;\n",
       "}\n",
       "#T_07a77_row5_col14, #T_07a77_row6_col14, #T_07a77_row13_col19, #T_07a77_row16_col3, #T_07a77_row19_col14 {\n",
       "  background-color: #dedcec;\n",
       "  color: #000000;\n",
       "}\n",
       "#T_07a77_row5_col16, #T_07a77_row9_col7, #T_07a77_row16_col19, #T_07a77_row19_col16 {\n",
       "  background-color: #f7f0f7;\n",
       "  color: #000000;\n",
       "}\n",
       "#T_07a77_row5_col17, #T_07a77_row18_col13 {\n",
       "  background-color: #71a8ce;\n",
       "  color: #f1f1f1;\n",
       "}\n",
       "#T_07a77_row5_col18, #T_07a77_row12_col8 {\n",
       "  background-color: #b5c4df;\n",
       "  color: #000000;\n",
       "}\n",
       "#T_07a77_row5_col19 {\n",
       "  background-color: #056fae;\n",
       "  color: #f1f1f1;\n",
       "}\n",
       "#T_07a77_row6_col2 {\n",
       "  background-color: #c5cce3;\n",
       "  color: #000000;\n",
       "}\n",
       "#T_07a77_row6_col4 {\n",
       "  background-color: #83afd3;\n",
       "  color: #f1f1f1;\n",
       "}\n",
       "#T_07a77_row6_col7, #T_07a77_row9_col3 {\n",
       "  background-color: #f5eff6;\n",
       "  color: #000000;\n",
       "}\n",
       "#T_07a77_row6_col9, #T_07a77_row17_col1 {\n",
       "  background-color: #f4eef6;\n",
       "  color: #000000;\n",
       "}\n",
       "#T_07a77_row6_col10 {\n",
       "  background-color: #60a1ca;\n",
       "  color: #f1f1f1;\n",
       "}\n",
       "#T_07a77_row6_col11, #T_07a77_row6_col13, #T_07a77_row11_col6, #T_07a77_row13_col17 {\n",
       "  background-color: #3790c0;\n",
       "  color: #f1f1f1;\n",
       "}\n",
       "#T_07a77_row6_col15, #T_07a77_row17_col10 {\n",
       "  background-color: #b8c6e0;\n",
       "  color: #000000;\n",
       "}\n",
       "#T_07a77_row6_col18, #T_07a77_row8_col18 {\n",
       "  background-color: #8eb3d5;\n",
       "  color: #000000;\n",
       "}\n",
       "#T_07a77_row6_col19, #T_07a77_row7_col0, #T_07a77_row9_col4, #T_07a77_row10_col7, #T_07a77_row12_col0, #T_07a77_row12_col7, #T_07a77_row16_col0, #T_07a77_row18_col0 {\n",
       "  background-color: #ede8f3;\n",
       "  color: #000000;\n",
       "}\n",
       "#T_07a77_row7_col8 {\n",
       "  background-color: #89b1d4;\n",
       "  color: #000000;\n",
       "}\n",
       "#T_07a77_row7_col15 {\n",
       "  background-color: #a4bcda;\n",
       "  color: #000000;\n",
       "}\n",
       "#T_07a77_row7_col16, #T_07a77_row9_col8, #T_07a77_row9_col16, #T_07a77_row15_col0 {\n",
       "  background-color: #eee8f3;\n",
       "  color: #000000;\n",
       "}\n",
       "#T_07a77_row7_col17, #T_07a77_row10_col12, #T_07a77_row18_col8 {\n",
       "  background-color: #b4c4df;\n",
       "  color: #000000;\n",
       "}\n",
       "#T_07a77_row8_col0, #T_07a77_row10_col0, #T_07a77_row12_col5, #T_07a77_row14_col7 {\n",
       "  background-color: #ebe6f2;\n",
       "  color: #000000;\n",
       "}\n",
       "#T_07a77_row8_col1, #T_07a77_row8_col7 {\n",
       "  background-color: #91b5d6;\n",
       "  color: #000000;\n",
       "}\n",
       "#T_07a77_row8_col4, #T_07a77_row12_col3 {\n",
       "  background-color: #9ab8d8;\n",
       "  color: #000000;\n",
       "}\n",
       "#T_07a77_row8_col5, #T_07a77_row18_col14, #T_07a77_row18_col15 {\n",
       "  background-color: #e0dded;\n",
       "  color: #000000;\n",
       "}\n",
       "#T_07a77_row8_col9, #T_07a77_row11_col19, #T_07a77_row12_col10 {\n",
       "  background-color: #c0c9e2;\n",
       "  color: #000000;\n",
       "}\n",
       "#T_07a77_row8_col10 {\n",
       "  background-color: #a8bedc;\n",
       "  color: #000000;\n",
       "}\n",
       "#T_07a77_row8_col12 {\n",
       "  background-color: #94b6d7;\n",
       "  color: #000000;\n",
       "}\n",
       "#T_07a77_row8_col15 {\n",
       "  background-color: #96b6d7;\n",
       "  color: #000000;\n",
       "}\n",
       "#T_07a77_row9_col11, #T_07a77_row16_col8, #T_07a77_row17_col12 {\n",
       "  background-color: #f3edf5;\n",
       "  color: #000000;\n",
       "}\n",
       "#T_07a77_row9_col15, #T_07a77_row15_col16, #T_07a77_row19_col11, #T_07a77_row19_col18 {\n",
       "  background-color: #abbfdc;\n",
       "  color: #000000;\n",
       "}\n",
       "#T_07a77_row10_col4 {\n",
       "  background-color: #0567a1;\n",
       "  color: #f1f1f1;\n",
       "}\n",
       "#T_07a77_row10_col6 {\n",
       "  background-color: #509ac6;\n",
       "  color: #f1f1f1;\n",
       "}\n",
       "#T_07a77_row10_col11 {\n",
       "  background-color: #0566a0;\n",
       "  color: #f1f1f1;\n",
       "}\n",
       "#T_07a77_row10_col13, #T_07a77_row13_col6 {\n",
       "  background-color: #4496c3;\n",
       "  color: #f1f1f1;\n",
       "}\n",
       "#T_07a77_row10_col17 {\n",
       "  background-color: #79abd0;\n",
       "  color: #f1f1f1;\n",
       "}\n",
       "#T_07a77_row10_col18 {\n",
       "  background-color: #056ba9;\n",
       "  color: #f1f1f1;\n",
       "}\n",
       "#T_07a77_row11_col1 {\n",
       "  background-color: #358fc0;\n",
       "  color: #f1f1f1;\n",
       "}\n",
       "#T_07a77_row11_col3 {\n",
       "  background-color: #0872b1;\n",
       "  color: #f1f1f1;\n",
       "}\n",
       "#T_07a77_row11_col4 {\n",
       "  background-color: #045483;\n",
       "  color: #f1f1f1;\n",
       "}\n",
       "#T_07a77_row11_col13, #T_07a77_row18_col17 {\n",
       "  background-color: #4e9ac6;\n",
       "  color: #f1f1f1;\n",
       "}\n",
       "#T_07a77_row11_col18 {\n",
       "  background-color: #0569a4;\n",
       "  color: #f1f1f1;\n",
       "}\n",
       "#T_07a77_row12_col1, #T_07a77_row18_col12 {\n",
       "  background-color: #acc0dd;\n",
       "  color: #000000;\n",
       "}\n",
       "#T_07a77_row12_col4 {\n",
       "  background-color: #65a3cb;\n",
       "  color: #f1f1f1;\n",
       "}\n",
       "#T_07a77_row12_col6, #T_07a77_row13_col7 {\n",
       "  background-color: #fdf5fa;\n",
       "  color: #000000;\n",
       "}\n",
       "#T_07a77_row12_col9 {\n",
       "  background-color: #9fbad9;\n",
       "  color: #000000;\n",
       "}\n",
       "#T_07a77_row12_col11, #T_07a77_row12_col13 {\n",
       "  background-color: #e3e0ee;\n",
       "  color: #000000;\n",
       "}\n",
       "#T_07a77_row12_col14, #T_07a77_row19_col3 {\n",
       "  background-color: #d2d3e7;\n",
       "  color: #000000;\n",
       "}\n",
       "#T_07a77_row12_col15 {\n",
       "  background-color: #99b8d8;\n",
       "  color: #000000;\n",
       "}\n",
       "#T_07a77_row13_col3 {\n",
       "  background-color: #4897c4;\n",
       "  color: #f1f1f1;\n",
       "}\n",
       "#T_07a77_row13_col4, #T_07a77_row18_col6 {\n",
       "  background-color: #8fb4d6;\n",
       "  color: #000000;\n",
       "}\n",
       "#T_07a77_row13_col8 {\n",
       "  background-color: #fcf4fa;\n",
       "  color: #000000;\n",
       "}\n",
       "#T_07a77_row13_col10, #T_07a77_row16_col15 {\n",
       "  background-color: #63a2cb;\n",
       "  color: #f1f1f1;\n",
       "}\n",
       "#T_07a77_row13_col12 {\n",
       "  background-color: #f1ebf5;\n",
       "  color: #000000;\n",
       "}\n",
       "#T_07a77_row13_col18 {\n",
       "  background-color: #7eadd1;\n",
       "  color: #f1f1f1;\n",
       "}\n",
       "#T_07a77_row14_col12, #T_07a77_row15_col12, #T_07a77_row16_col9, #T_07a77_row16_col18, #T_07a77_row19_col10 {\n",
       "  background-color: #ced0e6;\n",
       "  color: #000000;\n",
       "}\n",
       "#T_07a77_row14_col17, #T_07a77_row17_col5, #T_07a77_row19_col4, #T_07a77_row19_col13 {\n",
       "  background-color: #b9c6e0;\n",
       "  color: #000000;\n",
       "}\n",
       "#T_07a77_row15_col7, #T_07a77_row19_col7 {\n",
       "  background-color: #f5eef6;\n",
       "  color: #000000;\n",
       "}\n",
       "#T_07a77_row15_col13, #T_07a77_row17_col16 {\n",
       "  background-color: #fef6fa;\n",
       "  color: #000000;\n",
       "}\n",
       "#T_07a77_row15_col14 {\n",
       "  background-color: #d3d4e7;\n",
       "  color: #000000;\n",
       "}\n",
       "#T_07a77_row16_col5 {\n",
       "  background-color: #f9f2f8;\n",
       "  color: #000000;\n",
       "}\n",
       "#T_07a77_row16_col7 {\n",
       "  background-color: #fbf4f9;\n",
       "  color: #000000;\n",
       "}\n",
       "#T_07a77_row16_col17 {\n",
       "  background-color: #c8cde4;\n",
       "  color: #000000;\n",
       "}\n",
       "#T_07a77_row17_col4 {\n",
       "  background-color: #a9bfdc;\n",
       "  color: #000000;\n",
       "}\n",
       "#T_07a77_row17_col9 {\n",
       "  background-color: #dfddec;\n",
       "  color: #000000;\n",
       "}\n",
       "#T_07a77_row17_col11, #T_07a77_row17_col18 {\n",
       "  background-color: #7dacd1;\n",
       "  color: #f1f1f1;\n",
       "}\n",
       "#T_07a77_row17_col13 {\n",
       "  background-color: #549cc7;\n",
       "  color: #f1f1f1;\n",
       "}\n",
       "#T_07a77_row17_col19 {\n",
       "  background-color: #afc1dd;\n",
       "  color: #000000;\n",
       "}\n",
       "#T_07a77_row18_col2 {\n",
       "  background-color: #80aed2;\n",
       "  color: #f1f1f1;\n",
       "}\n",
       "#T_07a77_row18_col3 {\n",
       "  background-color: #2f8bbe;\n",
       "  color: #f1f1f1;\n",
       "}\n",
       "#T_07a77_row18_col10 {\n",
       "  background-color: #056ead;\n",
       "  color: #f1f1f1;\n",
       "}\n",
       "#T_07a77_row18_col11 {\n",
       "  background-color: #0569a5;\n",
       "  color: #f1f1f1;\n",
       "}\n",
       "#T_07a77_row19_col17 {\n",
       "  background-color: #69a5cc;\n",
       "  color: #f1f1f1;\n",
       "}\n",
       "</style>\n",
       "<table id=\"T_07a77_\">\n",
       "  <thead>\n",
       "    <tr>\n",
       "      <th class=\"blank level0\" >&nbsp;</th>\n",
       "      <th class=\"col_heading level0 col0\" >id</th>\n",
       "      <th class=\"col_heading level0 col1\" >price</th>\n",
       "      <th class=\"col_heading level0 col2\" >bedrooms</th>\n",
       "      <th class=\"col_heading level0 col3\" >bathrooms</th>\n",
       "      <th class=\"col_heading level0 col4\" >sqft_living</th>\n",
       "      <th class=\"col_heading level0 col5\" >sqft_lot</th>\n",
       "      <th class=\"col_heading level0 col6\" >floors</th>\n",
       "      <th class=\"col_heading level0 col7\" >waterfront</th>\n",
       "      <th class=\"col_heading level0 col8\" >view</th>\n",
       "      <th class=\"col_heading level0 col9\" >condition</th>\n",
       "      <th class=\"col_heading level0 col10\" >grade</th>\n",
       "      <th class=\"col_heading level0 col11\" >sqft_above</th>\n",
       "      <th class=\"col_heading level0 col12\" >sqft_basement</th>\n",
       "      <th class=\"col_heading level0 col13\" >yr_built</th>\n",
       "      <th class=\"col_heading level0 col14\" >yr_renovated</th>\n",
       "      <th class=\"col_heading level0 col15\" >zipcode</th>\n",
       "      <th class=\"col_heading level0 col16\" >lat</th>\n",
       "      <th class=\"col_heading level0 col17\" >long</th>\n",
       "      <th class=\"col_heading level0 col18\" >sqft_living15</th>\n",
       "      <th class=\"col_heading level0 col19\" >sqft_lot15</th>\n",
       "    </tr>\n",
       "  </thead>\n",
       "  <tbody>\n",
       "    <tr>\n",
       "      <th id=\"T_07a77_level0_row0\" class=\"row_heading level0 row0\" >id</th>\n",
       "      <td id=\"T_07a77_row0_col0\" class=\"data row0 col0\" >1.000000</td>\n",
       "      <td id=\"T_07a77_row0_col1\" class=\"data row0 col1\" >-0.016742</td>\n",
       "      <td id=\"T_07a77_row0_col2\" class=\"data row0 col2\" >0.001243</td>\n",
       "      <td id=\"T_07a77_row0_col3\" class=\"data row0 col3\" >0.005237</td>\n",
       "      <td id=\"T_07a77_row0_col4\" class=\"data row0 col4\" >-0.012166</td>\n",
       "      <td id=\"T_07a77_row0_col5\" class=\"data row0 col5\" >-0.132110</td>\n",
       "      <td id=\"T_07a77_row0_col6\" class=\"data row0 col6\" >0.018484</td>\n",
       "      <td id=\"T_07a77_row0_col7\" class=\"data row0 col7\" >-0.002722</td>\n",
       "      <td id=\"T_07a77_row0_col8\" class=\"data row0 col8\" >0.011590</td>\n",
       "      <td id=\"T_07a77_row0_col9\" class=\"data row0 col9\" >-0.023846</td>\n",
       "      <td id=\"T_07a77_row0_col10\" class=\"data row0 col10\" >0.008165</td>\n",
       "      <td id=\"T_07a77_row0_col11\" class=\"data row0 col11\" >-0.010830</td>\n",
       "      <td id=\"T_07a77_row0_col12\" class=\"data row0 col12\" >-0.004983</td>\n",
       "      <td id=\"T_07a77_row0_col13\" class=\"data row0 col13\" >0.021442</td>\n",
       "      <td id=\"T_07a77_row0_col14\" class=\"data row0 col14\" >-0.016910</td>\n",
       "      <td id=\"T_07a77_row0_col15\" class=\"data row0 col15\" >-0.008303</td>\n",
       "      <td id=\"T_07a77_row0_col16\" class=\"data row0 col16\" >-0.001905</td>\n",
       "      <td id=\"T_07a77_row0_col17\" class=\"data row0 col17\" >0.020856</td>\n",
       "      <td id=\"T_07a77_row0_col18\" class=\"data row0 col18\" >-0.002866</td>\n",
       "      <td id=\"T_07a77_row0_col19\" class=\"data row0 col19\" >-0.138798</td>\n",
       "    </tr>\n",
       "    <tr>\n",
       "      <th id=\"T_07a77_level0_row1\" class=\"row_heading level0 row1\" >price</th>\n",
       "      <td id=\"T_07a77_row1_col0\" class=\"data row1 col0\" >-0.016742</td>\n",
       "      <td id=\"T_07a77_row1_col1\" class=\"data row1 col1\" >1.000000</td>\n",
       "      <td id=\"T_07a77_row1_col2\" class=\"data row1 col2\" >0.308366</td>\n",
       "      <td id=\"T_07a77_row1_col3\" class=\"data row1 col3\" >0.525150</td>\n",
       "      <td id=\"T_07a77_row1_col4\" class=\"data row1 col4\" >0.702055</td>\n",
       "      <td id=\"T_07a77_row1_col5\" class=\"data row1 col5\" >0.089661</td>\n",
       "      <td id=\"T_07a77_row1_col6\" class=\"data row1 col6\" >0.256814</td>\n",
       "      <td id=\"T_07a77_row1_col7\" class=\"data row1 col7\" >0.266371</td>\n",
       "      <td id=\"T_07a77_row1_col8\" class=\"data row1 col8\" >0.397299</td>\n",
       "      <td id=\"T_07a77_row1_col9\" class=\"data row1 col9\" >0.036379</td>\n",
       "      <td id=\"T_07a77_row1_col10\" class=\"data row1 col10\" >0.667434</td>\n",
       "      <td id=\"T_07a77_row1_col11\" class=\"data row1 col11\" >0.605567</td>\n",
       "      <td id=\"T_07a77_row1_col12\" class=\"data row1 col12\" >0.323842</td>\n",
       "      <td id=\"T_07a77_row1_col13\" class=\"data row1 col13\" >0.054006</td>\n",
       "      <td id=\"T_07a77_row1_col14\" class=\"data row1 col14\" >0.126436</td>\n",
       "      <td id=\"T_07a77_row1_col15\" class=\"data row1 col15\" >-0.053182</td>\n",
       "      <td id=\"T_07a77_row1_col16\" class=\"data row1 col16\" >0.307010</td>\n",
       "      <td id=\"T_07a77_row1_col17\" class=\"data row1 col17\" >0.021613</td>\n",
       "      <td id=\"T_07a77_row1_col18\" class=\"data row1 col18\" >0.585377</td>\n",
       "      <td id=\"T_07a77_row1_col19\" class=\"data row1 col19\" >0.082448</td>\n",
       "    </tr>\n",
       "    <tr>\n",
       "      <th id=\"T_07a77_level0_row2\" class=\"row_heading level0 row2\" >bedrooms</th>\n",
       "      <td id=\"T_07a77_row2_col0\" class=\"data row2 col0\" >0.001243</td>\n",
       "      <td id=\"T_07a77_row2_col1\" class=\"data row2 col1\" >0.308366</td>\n",
       "      <td id=\"T_07a77_row2_col2\" class=\"data row2 col2\" >1.000000</td>\n",
       "      <td id=\"T_07a77_row2_col3\" class=\"data row2 col3\" >0.515974</td>\n",
       "      <td id=\"T_07a77_row2_col4\" class=\"data row2 col4\" >0.576763</td>\n",
       "      <td id=\"T_07a77_row2_col5\" class=\"data row2 col5\" >0.031710</td>\n",
       "      <td id=\"T_07a77_row2_col6\" class=\"data row2 col6\" >0.175418</td>\n",
       "      <td id=\"T_07a77_row2_col7\" class=\"data row2 col7\" >-0.006581</td>\n",
       "      <td id=\"T_07a77_row2_col8\" class=\"data row2 col8\" >0.079537</td>\n",
       "      <td id=\"T_07a77_row2_col9\" class=\"data row2 col9\" >0.028433</td>\n",
       "      <td id=\"T_07a77_row2_col10\" class=\"data row2 col10\" >0.356998</td>\n",
       "      <td id=\"T_07a77_row2_col11\" class=\"data row2 col11\" >0.477616</td>\n",
       "      <td id=\"T_07a77_row2_col12\" class=\"data row2 col12\" >0.303251</td>\n",
       "      <td id=\"T_07a77_row2_col13\" class=\"data row2 col13\" >0.154248</td>\n",
       "      <td id=\"T_07a77_row2_col14\" class=\"data row2 col14\" >0.018844</td>\n",
       "      <td id=\"T_07a77_row2_col15\" class=\"data row2 col15\" >-0.152717</td>\n",
       "      <td id=\"T_07a77_row2_col16\" class=\"data row2 col16\" >-0.008950</td>\n",
       "      <td id=\"T_07a77_row2_col17\" class=\"data row2 col17\" >0.129516</td>\n",
       "      <td id=\"T_07a77_row2_col18\" class=\"data row2 col18\" >0.391670</td>\n",
       "      <td id=\"T_07a77_row2_col19\" class=\"data row2 col19\" >0.029252</td>\n",
       "    </tr>\n",
       "    <tr>\n",
       "      <th id=\"T_07a77_level0_row3\" class=\"row_heading level0 row3\" >bathrooms</th>\n",
       "      <td id=\"T_07a77_row3_col0\" class=\"data row3 col0\" >0.005237</td>\n",
       "      <td id=\"T_07a77_row3_col1\" class=\"data row3 col1\" >0.525150</td>\n",
       "      <td id=\"T_07a77_row3_col2\" class=\"data row3 col2\" >0.515974</td>\n",
       "      <td id=\"T_07a77_row3_col3\" class=\"data row3 col3\" >1.000000</td>\n",
       "      <td id=\"T_07a77_row3_col4\" class=\"data row3 col4\" >0.754684</td>\n",
       "      <td id=\"T_07a77_row3_col5\" class=\"data row3 col5\" >0.087730</td>\n",
       "      <td id=\"T_07a77_row3_col6\" class=\"data row3 col6\" >0.500712</td>\n",
       "      <td id=\"T_07a77_row3_col7\" class=\"data row3 col7\" >0.063743</td>\n",
       "      <td id=\"T_07a77_row3_col8\" class=\"data row3 col8\" >0.187735</td>\n",
       "      <td id=\"T_07a77_row3_col9\" class=\"data row3 col9\" >-0.124917</td>\n",
       "      <td id=\"T_07a77_row3_col10\" class=\"data row3 col10\" >0.664981</td>\n",
       "      <td id=\"T_07a77_row3_col11\" class=\"data row3 col11\" >0.685363</td>\n",
       "      <td id=\"T_07a77_row3_col12\" class=\"data row3 col12\" >0.283737</td>\n",
       "      <td id=\"T_07a77_row3_col13\" class=\"data row3 col13\" >0.505968</td>\n",
       "      <td id=\"T_07a77_row3_col14\" class=\"data row3 col14\" >0.050733</td>\n",
       "      <td id=\"T_07a77_row3_col15\" class=\"data row3 col15\" >-0.203825</td>\n",
       "      <td id=\"T_07a77_row3_col16\" class=\"data row3 col16\" >0.024619</td>\n",
       "      <td id=\"T_07a77_row3_col17\" class=\"data row3 col17\" >0.222987</td>\n",
       "      <td id=\"T_07a77_row3_col18\" class=\"data row3 col18\" >0.568626</td>\n",
       "      <td id=\"T_07a77_row3_col19\" class=\"data row3 col19\" >0.087163</td>\n",
       "    </tr>\n",
       "    <tr>\n",
       "      <th id=\"T_07a77_level0_row4\" class=\"row_heading level0 row4\" >sqft_living</th>\n",
       "      <td id=\"T_07a77_row4_col0\" class=\"data row4 col0\" >-0.012166</td>\n",
       "      <td id=\"T_07a77_row4_col1\" class=\"data row4 col1\" >0.702055</td>\n",
       "      <td id=\"T_07a77_row4_col2\" class=\"data row4 col2\" >0.576763</td>\n",
       "      <td id=\"T_07a77_row4_col3\" class=\"data row4 col3\" >0.754684</td>\n",
       "      <td id=\"T_07a77_row4_col4\" class=\"data row4 col4\" >1.000000</td>\n",
       "      <td id=\"T_07a77_row4_col5\" class=\"data row4 col5\" >0.172841</td>\n",
       "      <td id=\"T_07a77_row4_col6\" class=\"data row4 col6\" >0.354048</td>\n",
       "      <td id=\"T_07a77_row4_col7\" class=\"data row4 col7\" >0.103829</td>\n",
       "      <td id=\"T_07a77_row4_col8\" class=\"data row4 col8\" >0.284647</td>\n",
       "      <td id=\"T_07a77_row4_col9\" class=\"data row4 col9\" >-0.058689</td>\n",
       "      <td id=\"T_07a77_row4_col10\" class=\"data row4 col10\" >0.762727</td>\n",
       "      <td id=\"T_07a77_row4_col11\" class=\"data row4 col11\" >0.876644</td>\n",
       "      <td id=\"T_07a77_row4_col12\" class=\"data row4 col12\" >0.434925</td>\n",
       "      <td id=\"T_07a77_row4_col13\" class=\"data row4 col13\" >0.318066</td>\n",
       "      <td id=\"T_07a77_row4_col14\" class=\"data row4 col14\" >0.055377</td>\n",
       "      <td id=\"T_07a77_row4_col15\" class=\"data row4 col15\" >-0.199342</td>\n",
       "      <td id=\"T_07a77_row4_col16\" class=\"data row4 col16\" >0.052530</td>\n",
       "      <td id=\"T_07a77_row4_col17\" class=\"data row4 col17\" >0.240187</td>\n",
       "      <td id=\"T_07a77_row4_col18\" class=\"data row4 col18\" >0.756440</td>\n",
       "      <td id=\"T_07a77_row4_col19\" class=\"data row4 col19\" >0.183301</td>\n",
       "    </tr>\n",
       "    <tr>\n",
       "      <th id=\"T_07a77_level0_row5\" class=\"row_heading level0 row5\" >sqft_lot</th>\n",
       "      <td id=\"T_07a77_row5_col0\" class=\"data row5 col0\" >-0.132110</td>\n",
       "      <td id=\"T_07a77_row5_col1\" class=\"data row5 col1\" >0.089661</td>\n",
       "      <td id=\"T_07a77_row5_col2\" class=\"data row5 col2\" >0.031710</td>\n",
       "      <td id=\"T_07a77_row5_col3\" class=\"data row5 col3\" >0.087730</td>\n",
       "      <td id=\"T_07a77_row5_col4\" class=\"data row5 col4\" >0.172841</td>\n",
       "      <td id=\"T_07a77_row5_col5\" class=\"data row5 col5\" >1.000000</td>\n",
       "      <td id=\"T_07a77_row5_col6\" class=\"data row5 col6\" >-0.005206</td>\n",
       "      <td id=\"T_07a77_row5_col7\" class=\"data row5 col7\" >0.021602</td>\n",
       "      <td id=\"T_07a77_row5_col8\" class=\"data row5 col8\" >0.074705</td>\n",
       "      <td id=\"T_07a77_row5_col9\" class=\"data row5 col9\" >-0.008951</td>\n",
       "      <td id=\"T_07a77_row5_col10\" class=\"data row5 col10\" >0.113617</td>\n",
       "      <td id=\"T_07a77_row5_col11\" class=\"data row5 col11\" >0.183511</td>\n",
       "      <td id=\"T_07a77_row5_col12\" class=\"data row5 col12\" >0.015301</td>\n",
       "      <td id=\"T_07a77_row5_col13\" class=\"data row5 col13\" >0.053061</td>\n",
       "      <td id=\"T_07a77_row5_col14\" class=\"data row5 col14\" >0.007640</td>\n",
       "      <td id=\"T_07a77_row5_col15\" class=\"data row5 col15\" >-0.129583</td>\n",
       "      <td id=\"T_07a77_row5_col16\" class=\"data row5 col16\" >-0.085673</td>\n",
       "      <td id=\"T_07a77_row5_col17\" class=\"data row5 col17\" >0.229519</td>\n",
       "      <td id=\"T_07a77_row5_col18\" class=\"data row5 col18\" >0.144605</td>\n",
       "      <td id=\"T_07a77_row5_col19\" class=\"data row5 col19\" >0.718556</td>\n",
       "    </tr>\n",
       "    <tr>\n",
       "      <th id=\"T_07a77_level0_row6\" class=\"row_heading level0 row6\" >floors</th>\n",
       "      <td id=\"T_07a77_row6_col0\" class=\"data row6 col0\" >0.018484</td>\n",
       "      <td id=\"T_07a77_row6_col1\" class=\"data row6 col1\" >0.256814</td>\n",
       "      <td id=\"T_07a77_row6_col2\" class=\"data row6 col2\" >0.175418</td>\n",
       "      <td id=\"T_07a77_row6_col3\" class=\"data row6 col3\" >0.500712</td>\n",
       "      <td id=\"T_07a77_row6_col4\" class=\"data row6 col4\" >0.354048</td>\n",
       "      <td id=\"T_07a77_row6_col5\" class=\"data row6 col5\" >-0.005206</td>\n",
       "      <td id=\"T_07a77_row6_col6\" class=\"data row6 col6\" >1.000000</td>\n",
       "      <td id=\"T_07a77_row6_col7\" class=\"data row6 col7\" >0.023695</td>\n",
       "      <td id=\"T_07a77_row6_col8\" class=\"data row6 col8\" >0.029432</td>\n",
       "      <td id=\"T_07a77_row6_col9\" class=\"data row6 col9\" >-0.263808</td>\n",
       "      <td id=\"T_07a77_row6_col10\" class=\"data row6 col10\" >0.458208</td>\n",
       "      <td id=\"T_07a77_row6_col11\" class=\"data row6 col11\" >0.523899</td>\n",
       "      <td id=\"T_07a77_row6_col12\" class=\"data row6 col12\" >-0.245634</td>\n",
       "      <td id=\"T_07a77_row6_col13\" class=\"data row6 col13\" >0.489361</td>\n",
       "      <td id=\"T_07a77_row6_col14\" class=\"data row6 col14\" >0.006330</td>\n",
       "      <td id=\"T_07a77_row6_col15\" class=\"data row6 col15\" >-0.059181</td>\n",
       "      <td id=\"T_07a77_row6_col16\" class=\"data row6 col16\" >0.049628</td>\n",
       "      <td id=\"T_07a77_row6_col17\" class=\"data row6 col17\" >0.125446</td>\n",
       "      <td id=\"T_07a77_row6_col18\" class=\"data row6 col18\" >0.279907</td>\n",
       "      <td id=\"T_07a77_row6_col19\" class=\"data row6 col19\" >-0.011275</td>\n",
       "    </tr>\n",
       "    <tr>\n",
       "      <th id=\"T_07a77_level0_row7\" class=\"row_heading level0 row7\" >waterfront</th>\n",
       "      <td id=\"T_07a77_row7_col0\" class=\"data row7 col0\" >-0.002722</td>\n",
       "      <td id=\"T_07a77_row7_col1\" class=\"data row7 col1\" >0.266371</td>\n",
       "      <td id=\"T_07a77_row7_col2\" class=\"data row7 col2\" >-0.006581</td>\n",
       "      <td id=\"T_07a77_row7_col3\" class=\"data row7 col3\" >0.063743</td>\n",
       "      <td id=\"T_07a77_row7_col4\" class=\"data row7 col4\" >0.103829</td>\n",
       "      <td id=\"T_07a77_row7_col5\" class=\"data row7 col5\" >0.021602</td>\n",
       "      <td id=\"T_07a77_row7_col6\" class=\"data row7 col6\" >0.023695</td>\n",
       "      <td id=\"T_07a77_row7_col7\" class=\"data row7 col7\" >1.000000</td>\n",
       "      <td id=\"T_07a77_row7_col8\" class=\"data row7 col8\" >0.401857</td>\n",
       "      <td id=\"T_07a77_row7_col9\" class=\"data row7 col9\" >0.016655</td>\n",
       "      <td id=\"T_07a77_row7_col10\" class=\"data row7 col10\" >0.082775</td>\n",
       "      <td id=\"T_07a77_row7_col11\" class=\"data row7 col11\" >0.072074</td>\n",
       "      <td id=\"T_07a77_row7_col12\" class=\"data row7 col12\" >0.080618</td>\n",
       "      <td id=\"T_07a77_row7_col13\" class=\"data row7 col13\" >-0.026172</td>\n",
       "      <td id=\"T_07a77_row7_col14\" class=\"data row7 col14\" >0.092883</td>\n",
       "      <td id=\"T_07a77_row7_col15\" class=\"data row7 col15\" >0.030283</td>\n",
       "      <td id=\"T_07a77_row7_col16\" class=\"data row7 col16\" >-0.014270</td>\n",
       "      <td id=\"T_07a77_row7_col17\" class=\"data row7 col17\" >-0.041913</td>\n",
       "      <td id=\"T_07a77_row7_col18\" class=\"data row7 col18\" >0.086463</td>\n",
       "      <td id=\"T_07a77_row7_col19\" class=\"data row7 col19\" >0.030702</td>\n",
       "    </tr>\n",
       "    <tr>\n",
       "      <th id=\"T_07a77_level0_row8\" class=\"row_heading level0 row8\" >view</th>\n",
       "      <td id=\"T_07a77_row8_col0\" class=\"data row8 col0\" >0.011590</td>\n",
       "      <td id=\"T_07a77_row8_col1\" class=\"data row8 col1\" >0.397299</td>\n",
       "      <td id=\"T_07a77_row8_col2\" class=\"data row8 col2\" >0.079537</td>\n",
       "      <td id=\"T_07a77_row8_col3\" class=\"data row8 col3\" >0.187735</td>\n",
       "      <td id=\"T_07a77_row8_col4\" class=\"data row8 col4\" >0.284647</td>\n",
       "      <td id=\"T_07a77_row8_col5\" class=\"data row8 col5\" >0.074705</td>\n",
       "      <td id=\"T_07a77_row8_col6\" class=\"data row8 col6\" >0.029432</td>\n",
       "      <td id=\"T_07a77_row8_col7\" class=\"data row8 col7\" >0.401857</td>\n",
       "      <td id=\"T_07a77_row8_col8\" class=\"data row8 col8\" >1.000000</td>\n",
       "      <td id=\"T_07a77_row8_col9\" class=\"data row8 col9\" >0.045995</td>\n",
       "      <td id=\"T_07a77_row8_col10\" class=\"data row8 col10\" >0.251320</td>\n",
       "      <td id=\"T_07a77_row8_col11\" class=\"data row8 col11\" >0.167648</td>\n",
       "      <td id=\"T_07a77_row8_col12\" class=\"data row8 col12\" >0.277051</td>\n",
       "      <td id=\"T_07a77_row8_col13\" class=\"data row8 col13\" >-0.053474</td>\n",
       "      <td id=\"T_07a77_row8_col14\" class=\"data row8 col14\" >0.103912</td>\n",
       "      <td id=\"T_07a77_row8_col15\" class=\"data row8 col15\" >0.084819</td>\n",
       "      <td id=\"T_07a77_row8_col16\" class=\"data row8 col16\" >0.006172</td>\n",
       "      <td id=\"T_07a77_row8_col17\" class=\"data row8 col17\" >-0.078408</td>\n",
       "      <td id=\"T_07a77_row8_col18\" class=\"data row8 col18\" >0.280440</td>\n",
       "      <td id=\"T_07a77_row8_col19\" class=\"data row8 col19\" >0.072569</td>\n",
       "    </tr>\n",
       "    <tr>\n",
       "      <th id=\"T_07a77_level0_row9\" class=\"row_heading level0 row9\" >condition</th>\n",
       "      <td id=\"T_07a77_row9_col0\" class=\"data row9 col0\" >-0.023846</td>\n",
       "      <td id=\"T_07a77_row9_col1\" class=\"data row9 col1\" >0.036379</td>\n",
       "      <td id=\"T_07a77_row9_col2\" class=\"data row9 col2\" >0.028433</td>\n",
       "      <td id=\"T_07a77_row9_col3\" class=\"data row9 col3\" >-0.124917</td>\n",
       "      <td id=\"T_07a77_row9_col4\" class=\"data row9 col4\" >-0.058689</td>\n",
       "      <td id=\"T_07a77_row9_col5\" class=\"data row9 col5\" >-0.008951</td>\n",
       "      <td id=\"T_07a77_row9_col6\" class=\"data row9 col6\" >-0.263808</td>\n",
       "      <td id=\"T_07a77_row9_col7\" class=\"data row9 col7\" >0.016655</td>\n",
       "      <td id=\"T_07a77_row9_col8\" class=\"data row9 col8\" >0.045995</td>\n",
       "      <td id=\"T_07a77_row9_col9\" class=\"data row9 col9\" >1.000000</td>\n",
       "      <td id=\"T_07a77_row9_col10\" class=\"data row9 col10\" >-0.144647</td>\n",
       "      <td id=\"T_07a77_row9_col11\" class=\"data row9 col11\" >-0.158206</td>\n",
       "      <td id=\"T_07a77_row9_col12\" class=\"data row9 col12\" >0.174273</td>\n",
       "      <td id=\"T_07a77_row9_col13\" class=\"data row9 col13\" >-0.361384</td>\n",
       "      <td id=\"T_07a77_row9_col14\" class=\"data row9 col14\" >-0.060617</td>\n",
       "      <td id=\"T_07a77_row9_col15\" class=\"data row9 col15\" >0.002967</td>\n",
       "      <td id=\"T_07a77_row9_col16\" class=\"data row9 col16\" >-0.014965</td>\n",
       "      <td id=\"T_07a77_row9_col17\" class=\"data row9 col17\" >-0.106453</td>\n",
       "      <td id=\"T_07a77_row9_col18\" class=\"data row9 col18\" >-0.092795</td>\n",
       "      <td id=\"T_07a77_row9_col19\" class=\"data row9 col19\" >-0.003397</td>\n",
       "    </tr>\n",
       "    <tr>\n",
       "      <th id=\"T_07a77_level0_row10\" class=\"row_heading level0 row10\" >grade</th>\n",
       "      <td id=\"T_07a77_row10_col0\" class=\"data row10 col0\" >0.008165</td>\n",
       "      <td id=\"T_07a77_row10_col1\" class=\"data row10 col1\" >0.667434</td>\n",
       "      <td id=\"T_07a77_row10_col2\" class=\"data row10 col2\" >0.356998</td>\n",
       "      <td id=\"T_07a77_row10_col3\" class=\"data row10 col3\" >0.664981</td>\n",
       "      <td id=\"T_07a77_row10_col4\" class=\"data row10 col4\" >0.762727</td>\n",
       "      <td id=\"T_07a77_row10_col5\" class=\"data row10 col5\" >0.113617</td>\n",
       "      <td id=\"T_07a77_row10_col6\" class=\"data row10 col6\" >0.458208</td>\n",
       "      <td id=\"T_07a77_row10_col7\" class=\"data row10 col7\" >0.082775</td>\n",
       "      <td id=\"T_07a77_row10_col8\" class=\"data row10 col8\" >0.251320</td>\n",
       "      <td id=\"T_07a77_row10_col9\" class=\"data row10 col9\" >-0.144647</td>\n",
       "      <td id=\"T_07a77_row10_col10\" class=\"data row10 col10\" >1.000000</td>\n",
       "      <td id=\"T_07a77_row10_col11\" class=\"data row10 col11\" >0.755924</td>\n",
       "      <td id=\"T_07a77_row10_col12\" class=\"data row10 col12\" >0.168375</td>\n",
       "      <td id=\"T_07a77_row10_col13\" class=\"data row10 col13\" >0.446958</td>\n",
       "      <td id=\"T_07a77_row10_col14\" class=\"data row10 col14\" >0.014412</td>\n",
       "      <td id=\"T_07a77_row10_col15\" class=\"data row10 col15\" >-0.184842</td>\n",
       "      <td id=\"T_07a77_row10_col16\" class=\"data row10 col16\" >0.114102</td>\n",
       "      <td id=\"T_07a77_row10_col17\" class=\"data row10 col17\" >0.198349</td>\n",
       "      <td id=\"T_07a77_row10_col18\" class=\"data row10 col18\" >0.713197</td>\n",
       "      <td id=\"T_07a77_row10_col19\" class=\"data row10 col19\" >0.119243</td>\n",
       "    </tr>\n",
       "    <tr>\n",
       "      <th id=\"T_07a77_level0_row11\" class=\"row_heading level0 row11\" >sqft_above</th>\n",
       "      <td id=\"T_07a77_row11_col0\" class=\"data row11 col0\" >-0.010830</td>\n",
       "      <td id=\"T_07a77_row11_col1\" class=\"data row11 col1\" >0.605567</td>\n",
       "      <td id=\"T_07a77_row11_col2\" class=\"data row11 col2\" >0.477616</td>\n",
       "      <td id=\"T_07a77_row11_col3\" class=\"data row11 col3\" >0.685363</td>\n",
       "      <td id=\"T_07a77_row11_col4\" class=\"data row11 col4\" >0.876644</td>\n",
       "      <td id=\"T_07a77_row11_col5\" class=\"data row11 col5\" >0.183511</td>\n",
       "      <td id=\"T_07a77_row11_col6\" class=\"data row11 col6\" >0.523899</td>\n",
       "      <td id=\"T_07a77_row11_col7\" class=\"data row11 col7\" >0.072074</td>\n",
       "      <td id=\"T_07a77_row11_col8\" class=\"data row11 col8\" >0.167648</td>\n",
       "      <td id=\"T_07a77_row11_col9\" class=\"data row11 col9\" >-0.158206</td>\n",
       "      <td id=\"T_07a77_row11_col10\" class=\"data row11 col10\" >0.755924</td>\n",
       "      <td id=\"T_07a77_row11_col11\" class=\"data row11 col11\" >1.000000</td>\n",
       "      <td id=\"T_07a77_row11_col12\" class=\"data row11 col12\" >-0.051976</td>\n",
       "      <td id=\"T_07a77_row11_col13\" class=\"data row11 col13\" >0.423915</td>\n",
       "      <td id=\"T_07a77_row11_col14\" class=\"data row11 col14\" >0.023283</td>\n",
       "      <td id=\"T_07a77_row11_col15\" class=\"data row11 col15\" >-0.261192</td>\n",
       "      <td id=\"T_07a77_row11_col16\" class=\"data row11 col16\" >-0.000810</td>\n",
       "      <td id=\"T_07a77_row11_col17\" class=\"data row11 col17\" >0.343800</td>\n",
       "      <td id=\"T_07a77_row11_col18\" class=\"data row11 col18\" >0.731871</td>\n",
       "      <td id=\"T_07a77_row11_col19\" class=\"data row11 col19\" >0.194048</td>\n",
       "    </tr>\n",
       "    <tr>\n",
       "      <th id=\"T_07a77_level0_row12\" class=\"row_heading level0 row12\" >sqft_basement</th>\n",
       "      <td id=\"T_07a77_row12_col0\" class=\"data row12 col0\" >-0.004983</td>\n",
       "      <td id=\"T_07a77_row12_col1\" class=\"data row12 col1\" >0.323842</td>\n",
       "      <td id=\"T_07a77_row12_col2\" class=\"data row12 col2\" >0.303251</td>\n",
       "      <td id=\"T_07a77_row12_col3\" class=\"data row12 col3\" >0.283737</td>\n",
       "      <td id=\"T_07a77_row12_col4\" class=\"data row12 col4\" >0.434925</td>\n",
       "      <td id=\"T_07a77_row12_col5\" class=\"data row12 col5\" >0.015301</td>\n",
       "      <td id=\"T_07a77_row12_col6\" class=\"data row12 col6\" >-0.245634</td>\n",
       "      <td id=\"T_07a77_row12_col7\" class=\"data row12 col7\" >0.080618</td>\n",
       "      <td id=\"T_07a77_row12_col8\" class=\"data row12 col8\" >0.277051</td>\n",
       "      <td id=\"T_07a77_row12_col9\" class=\"data row12 col9\" >0.174273</td>\n",
       "      <td id=\"T_07a77_row12_col10\" class=\"data row12 col10\" >0.168375</td>\n",
       "      <td id=\"T_07a77_row12_col11\" class=\"data row12 col11\" >-0.051976</td>\n",
       "      <td id=\"T_07a77_row12_col12\" class=\"data row12 col12\" >1.000000</td>\n",
       "      <td id=\"T_07a77_row12_col13\" class=\"data row12 col13\" >-0.133195</td>\n",
       "      <td id=\"T_07a77_row12_col14\" class=\"data row12 col14\" >0.071365</td>\n",
       "      <td id=\"T_07a77_row12_col15\" class=\"data row12 col15\" >0.075076</td>\n",
       "      <td id=\"T_07a77_row12_col16\" class=\"data row12 col16\" >0.110546</td>\n",
       "      <td id=\"T_07a77_row12_col17\" class=\"data row12 col17\" >-0.144904</td>\n",
       "      <td id=\"T_07a77_row12_col18\" class=\"data row12 col18\" >0.200341</td>\n",
       "      <td id=\"T_07a77_row12_col19\" class=\"data row12 col19\" >0.017292</td>\n",
       "    </tr>\n",
       "    <tr>\n",
       "      <th id=\"T_07a77_level0_row13\" class=\"row_heading level0 row13\" >yr_built</th>\n",
       "      <td id=\"T_07a77_row13_col0\" class=\"data row13 col0\" >0.021442</td>\n",
       "      <td id=\"T_07a77_row13_col1\" class=\"data row13 col1\" >0.054006</td>\n",
       "      <td id=\"T_07a77_row13_col2\" class=\"data row13 col2\" >0.154248</td>\n",
       "      <td id=\"T_07a77_row13_col3\" class=\"data row13 col3\" >0.505968</td>\n",
       "      <td id=\"T_07a77_row13_col4\" class=\"data row13 col4\" >0.318066</td>\n",
       "      <td id=\"T_07a77_row13_col5\" class=\"data row13 col5\" >0.053061</td>\n",
       "      <td id=\"T_07a77_row13_col6\" class=\"data row13 col6\" >0.489361</td>\n",
       "      <td id=\"T_07a77_row13_col7\" class=\"data row13 col7\" >-0.026172</td>\n",
       "      <td id=\"T_07a77_row13_col8\" class=\"data row13 col8\" >-0.053474</td>\n",
       "      <td id=\"T_07a77_row13_col9\" class=\"data row13 col9\" >-0.361384</td>\n",
       "      <td id=\"T_07a77_row13_col10\" class=\"data row13 col10\" >0.446958</td>\n",
       "      <td id=\"T_07a77_row13_col11\" class=\"data row13 col11\" >0.423915</td>\n",
       "      <td id=\"T_07a77_row13_col12\" class=\"data row13 col12\" >-0.133195</td>\n",
       "      <td id=\"T_07a77_row13_col13\" class=\"data row13 col13\" >1.000000</td>\n",
       "      <td id=\"T_07a77_row13_col14\" class=\"data row13 col14\" >-0.224913</td>\n",
       "      <td id=\"T_07a77_row13_col15\" class=\"data row13 col15\" >-0.346885</td>\n",
       "      <td id=\"T_07a77_row13_col16\" class=\"data row13 col16\" >-0.148069</td>\n",
       "      <td id=\"T_07a77_row13_col17\" class=\"data row13 col17\" >0.409325</td>\n",
       "      <td id=\"T_07a77_row13_col18\" class=\"data row13 col18\" >0.326214</td>\n",
       "      <td id=\"T_07a77_row13_col19\" class=\"data row13 col19\" >0.070936</td>\n",
       "    </tr>\n",
       "    <tr>\n",
       "      <th id=\"T_07a77_level0_row14\" class=\"row_heading level0 row14\" >yr_renovated</th>\n",
       "      <td id=\"T_07a77_row14_col0\" class=\"data row14 col0\" >-0.016910</td>\n",
       "      <td id=\"T_07a77_row14_col1\" class=\"data row14 col1\" >0.126436</td>\n",
       "      <td id=\"T_07a77_row14_col2\" class=\"data row14 col2\" >0.018844</td>\n",
       "      <td id=\"T_07a77_row14_col3\" class=\"data row14 col3\" >0.050733</td>\n",
       "      <td id=\"T_07a77_row14_col4\" class=\"data row14 col4\" >0.055377</td>\n",
       "      <td id=\"T_07a77_row14_col5\" class=\"data row14 col5\" >0.007640</td>\n",
       "      <td id=\"T_07a77_row14_col6\" class=\"data row14 col6\" >0.006330</td>\n",
       "      <td id=\"T_07a77_row14_col7\" class=\"data row14 col7\" >0.092883</td>\n",
       "      <td id=\"T_07a77_row14_col8\" class=\"data row14 col8\" >0.103912</td>\n",
       "      <td id=\"T_07a77_row14_col9\" class=\"data row14 col9\" >-0.060617</td>\n",
       "      <td id=\"T_07a77_row14_col10\" class=\"data row14 col10\" >0.014412</td>\n",
       "      <td id=\"T_07a77_row14_col11\" class=\"data row14 col11\" >0.023283</td>\n",
       "      <td id=\"T_07a77_row14_col12\" class=\"data row14 col12\" >0.071365</td>\n",
       "      <td id=\"T_07a77_row14_col13\" class=\"data row14 col13\" >-0.224913</td>\n",
       "      <td id=\"T_07a77_row14_col14\" class=\"data row14 col14\" >1.000000</td>\n",
       "      <td id=\"T_07a77_row14_col15\" class=\"data row14 col15\" >0.064352</td>\n",
       "      <td id=\"T_07a77_row14_col16\" class=\"data row14 col16\" >0.029408</td>\n",
       "      <td id=\"T_07a77_row14_col17\" class=\"data row14 col17\" >-0.068378</td>\n",
       "      <td id=\"T_07a77_row14_col18\" class=\"data row14 col18\" >-0.002675</td>\n",
       "      <td id=\"T_07a77_row14_col19\" class=\"data row14 col19\" >0.007849</td>\n",
       "    </tr>\n",
       "    <tr>\n",
       "      <th id=\"T_07a77_level0_row15\" class=\"row_heading level0 row15\" >zipcode</th>\n",
       "      <td id=\"T_07a77_row15_col0\" class=\"data row15 col0\" >-0.008303</td>\n",
       "      <td id=\"T_07a77_row15_col1\" class=\"data row15 col1\" >-0.053182</td>\n",
       "      <td id=\"T_07a77_row15_col2\" class=\"data row15 col2\" >-0.152717</td>\n",
       "      <td id=\"T_07a77_row15_col3\" class=\"data row15 col3\" >-0.203825</td>\n",
       "      <td id=\"T_07a77_row15_col4\" class=\"data row15 col4\" >-0.199342</td>\n",
       "      <td id=\"T_07a77_row15_col5\" class=\"data row15 col5\" >-0.129583</td>\n",
       "      <td id=\"T_07a77_row15_col6\" class=\"data row15 col6\" >-0.059181</td>\n",
       "      <td id=\"T_07a77_row15_col7\" class=\"data row15 col7\" >0.030283</td>\n",
       "      <td id=\"T_07a77_row15_col8\" class=\"data row15 col8\" >0.084819</td>\n",
       "      <td id=\"T_07a77_row15_col9\" class=\"data row15 col9\" >0.002967</td>\n",
       "      <td id=\"T_07a77_row15_col10\" class=\"data row15 col10\" >-0.184842</td>\n",
       "      <td id=\"T_07a77_row15_col11\" class=\"data row15 col11\" >-0.261192</td>\n",
       "      <td id=\"T_07a77_row15_col12\" class=\"data row15 col12\" >0.075076</td>\n",
       "      <td id=\"T_07a77_row15_col13\" class=\"data row15 col13\" >-0.346885</td>\n",
       "      <td id=\"T_07a77_row15_col14\" class=\"data row15 col14\" >0.064352</td>\n",
       "      <td id=\"T_07a77_row15_col15\" class=\"data row15 col15\" >1.000000</td>\n",
       "      <td id=\"T_07a77_row15_col16\" class=\"data row15 col16\" >0.267066</td>\n",
       "      <td id=\"T_07a77_row15_col17\" class=\"data row15 col17\" >-0.564062</td>\n",
       "      <td id=\"T_07a77_row15_col18\" class=\"data row15 col18\" >-0.279016</td>\n",
       "      <td id=\"T_07a77_row15_col19\" class=\"data row15 col19\" >-0.147230</td>\n",
       "    </tr>\n",
       "    <tr>\n",
       "      <th id=\"T_07a77_level0_row16\" class=\"row_heading level0 row16\" >lat</th>\n",
       "      <td id=\"T_07a77_row16_col0\" class=\"data row16 col0\" >-0.001905</td>\n",
       "      <td id=\"T_07a77_row16_col1\" class=\"data row16 col1\" >0.307010</td>\n",
       "      <td id=\"T_07a77_row16_col2\" class=\"data row16 col2\" >-0.008950</td>\n",
       "      <td id=\"T_07a77_row16_col3\" class=\"data row16 col3\" >0.024619</td>\n",
       "      <td id=\"T_07a77_row16_col4\" class=\"data row16 col4\" >0.052530</td>\n",
       "      <td id=\"T_07a77_row16_col5\" class=\"data row16 col5\" >-0.085673</td>\n",
       "      <td id=\"T_07a77_row16_col6\" class=\"data row16 col6\" >0.049628</td>\n",
       "      <td id=\"T_07a77_row16_col7\" class=\"data row16 col7\" >-0.014270</td>\n",
       "      <td id=\"T_07a77_row16_col8\" class=\"data row16 col8\" >0.006172</td>\n",
       "      <td id=\"T_07a77_row16_col9\" class=\"data row16 col9\" >-0.014965</td>\n",
       "      <td id=\"T_07a77_row16_col10\" class=\"data row16 col10\" >0.114102</td>\n",
       "      <td id=\"T_07a77_row16_col11\" class=\"data row16 col11\" >-0.000810</td>\n",
       "      <td id=\"T_07a77_row16_col12\" class=\"data row16 col12\" >0.110546</td>\n",
       "      <td id=\"T_07a77_row16_col13\" class=\"data row16 col13\" >-0.148069</td>\n",
       "      <td id=\"T_07a77_row16_col14\" class=\"data row16 col14\" >0.029408</td>\n",
       "      <td id=\"T_07a77_row16_col15\" class=\"data row16 col15\" >0.267066</td>\n",
       "      <td id=\"T_07a77_row16_col16\" class=\"data row16 col16\" >1.000000</td>\n",
       "      <td id=\"T_07a77_row16_col17\" class=\"data row16 col17\" >-0.135492</td>\n",
       "      <td id=\"T_07a77_row16_col18\" class=\"data row16 col18\" >0.048874</td>\n",
       "      <td id=\"T_07a77_row16_col19\" class=\"data row16 col19\" >-0.086408</td>\n",
       "    </tr>\n",
       "    <tr>\n",
       "      <th id=\"T_07a77_level0_row17\" class=\"row_heading level0 row17\" >long</th>\n",
       "      <td id=\"T_07a77_row17_col0\" class=\"data row17 col0\" >0.020856</td>\n",
       "      <td id=\"T_07a77_row17_col1\" class=\"data row17 col1\" >0.021613</td>\n",
       "      <td id=\"T_07a77_row17_col2\" class=\"data row17 col2\" >0.129516</td>\n",
       "      <td id=\"T_07a77_row17_col3\" class=\"data row17 col3\" >0.222987</td>\n",
       "      <td id=\"T_07a77_row17_col4\" class=\"data row17 col4\" >0.240187</td>\n",
       "      <td id=\"T_07a77_row17_col5\" class=\"data row17 col5\" >0.229519</td>\n",
       "      <td id=\"T_07a77_row17_col6\" class=\"data row17 col6\" >0.125446</td>\n",
       "      <td id=\"T_07a77_row17_col7\" class=\"data row17 col7\" >-0.041913</td>\n",
       "      <td id=\"T_07a77_row17_col8\" class=\"data row17 col8\" >-0.078408</td>\n",
       "      <td id=\"T_07a77_row17_col9\" class=\"data row17 col9\" >-0.106453</td>\n",
       "      <td id=\"T_07a77_row17_col10\" class=\"data row17 col10\" >0.198349</td>\n",
       "      <td id=\"T_07a77_row17_col11\" class=\"data row17 col11\" >0.343800</td>\n",
       "      <td id=\"T_07a77_row17_col12\" class=\"data row17 col12\" >-0.144904</td>\n",
       "      <td id=\"T_07a77_row17_col13\" class=\"data row17 col13\" >0.409325</td>\n",
       "      <td id=\"T_07a77_row17_col14\" class=\"data row17 col14\" >-0.068378</td>\n",
       "      <td id=\"T_07a77_row17_col15\" class=\"data row17 col15\" >-0.564062</td>\n",
       "      <td id=\"T_07a77_row17_col16\" class=\"data row17 col16\" >-0.135492</td>\n",
       "      <td id=\"T_07a77_row17_col17\" class=\"data row17 col17\" >1.000000</td>\n",
       "      <td id=\"T_07a77_row17_col18\" class=\"data row17 col18\" >0.334586</td>\n",
       "      <td id=\"T_07a77_row17_col19\" class=\"data row17 col19\" >0.254448</td>\n",
       "    </tr>\n",
       "    <tr>\n",
       "      <th id=\"T_07a77_level0_row18\" class=\"row_heading level0 row18\" >sqft_living15</th>\n",
       "      <td id=\"T_07a77_row18_col0\" class=\"data row18 col0\" >-0.002866</td>\n",
       "      <td id=\"T_07a77_row18_col1\" class=\"data row18 col1\" >0.585377</td>\n",
       "      <td id=\"T_07a77_row18_col2\" class=\"data row18 col2\" >0.391670</td>\n",
       "      <td id=\"T_07a77_row18_col3\" class=\"data row18 col3\" >0.568626</td>\n",
       "      <td id=\"T_07a77_row18_col4\" class=\"data row18 col4\" >0.756440</td>\n",
       "      <td id=\"T_07a77_row18_col5\" class=\"data row18 col5\" >0.144605</td>\n",
       "      <td id=\"T_07a77_row18_col6\" class=\"data row18 col6\" >0.279907</td>\n",
       "      <td id=\"T_07a77_row18_col7\" class=\"data row18 col7\" >0.086463</td>\n",
       "      <td id=\"T_07a77_row18_col8\" class=\"data row18 col8\" >0.280440</td>\n",
       "      <td id=\"T_07a77_row18_col9\" class=\"data row18 col9\" >-0.092795</td>\n",
       "      <td id=\"T_07a77_row18_col10\" class=\"data row18 col10\" >0.713197</td>\n",
       "      <td id=\"T_07a77_row18_col11\" class=\"data row18 col11\" >0.731871</td>\n",
       "      <td id=\"T_07a77_row18_col12\" class=\"data row18 col12\" >0.200341</td>\n",
       "      <td id=\"T_07a77_row18_col13\" class=\"data row18 col13\" >0.326214</td>\n",
       "      <td id=\"T_07a77_row18_col14\" class=\"data row18 col14\" >-0.002675</td>\n",
       "      <td id=\"T_07a77_row18_col15\" class=\"data row18 col15\" >-0.279016</td>\n",
       "      <td id=\"T_07a77_row18_col16\" class=\"data row18 col16\" >0.048874</td>\n",
       "      <td id=\"T_07a77_row18_col17\" class=\"data row18 col17\" >0.334586</td>\n",
       "      <td id=\"T_07a77_row18_col18\" class=\"data row18 col18\" >1.000000</td>\n",
       "      <td id=\"T_07a77_row18_col19\" class=\"data row18 col19\" >0.183188</td>\n",
       "    </tr>\n",
       "    <tr>\n",
       "      <th id=\"T_07a77_level0_row19\" class=\"row_heading level0 row19\" >sqft_lot15</th>\n",
       "      <td id=\"T_07a77_row19_col0\" class=\"data row19 col0\" >-0.138798</td>\n",
       "      <td id=\"T_07a77_row19_col1\" class=\"data row19 col1\" >0.082448</td>\n",
       "      <td id=\"T_07a77_row19_col2\" class=\"data row19 col2\" >0.029252</td>\n",
       "      <td id=\"T_07a77_row19_col3\" class=\"data row19 col3\" >0.087163</td>\n",
       "      <td id=\"T_07a77_row19_col4\" class=\"data row19 col4\" >0.183301</td>\n",
       "      <td id=\"T_07a77_row19_col5\" class=\"data row19 col5\" >0.718556</td>\n",
       "      <td id=\"T_07a77_row19_col6\" class=\"data row19 col6\" >-0.011275</td>\n",
       "      <td id=\"T_07a77_row19_col7\" class=\"data row19 col7\" >0.030702</td>\n",
       "      <td id=\"T_07a77_row19_col8\" class=\"data row19 col8\" >0.072569</td>\n",
       "      <td id=\"T_07a77_row19_col9\" class=\"data row19 col9\" >-0.003397</td>\n",
       "      <td id=\"T_07a77_row19_col10\" class=\"data row19 col10\" >0.119243</td>\n",
       "      <td id=\"T_07a77_row19_col11\" class=\"data row19 col11\" >0.194048</td>\n",
       "      <td id=\"T_07a77_row19_col12\" class=\"data row19 col12\" >0.017292</td>\n",
       "      <td id=\"T_07a77_row19_col13\" class=\"data row19 col13\" >0.070936</td>\n",
       "      <td id=\"T_07a77_row19_col14\" class=\"data row19 col14\" >0.007849</td>\n",
       "      <td id=\"T_07a77_row19_col15\" class=\"data row19 col15\" >-0.147230</td>\n",
       "      <td id=\"T_07a77_row19_col16\" class=\"data row19 col16\" >-0.086408</td>\n",
       "      <td id=\"T_07a77_row19_col17\" class=\"data row19 col17\" >0.254448</td>\n",
       "      <td id=\"T_07a77_row19_col18\" class=\"data row19 col18\" >0.183188</td>\n",
       "      <td id=\"T_07a77_row19_col19\" class=\"data row19 col19\" >1.000000</td>\n",
       "    </tr>\n",
       "  </tbody>\n",
       "</table>\n"
      ],
      "text/plain": [
       "<pandas.io.formats.style.Styler at 0x1dec78e8250>"
      ]
     },
     "execution_count": 30,
     "metadata": {},
     "output_type": "execute_result"
    }
   ],
   "source": [
    "kcpp.corr().style.background_gradient()"
   ]
  },
  {
   "cell_type": "code",
   "execution_count": 31,
   "id": "c2fa91f2",
   "metadata": {
    "scrolled": true
   },
   "outputs": [
    {
     "data": {
      "text/html": [
       "<div>\n",
       "<style scoped>\n",
       "    .dataframe tbody tr th:only-of-type {\n",
       "        vertical-align: middle;\n",
       "    }\n",
       "\n",
       "    .dataframe tbody tr th {\n",
       "        vertical-align: top;\n",
       "    }\n",
       "\n",
       "    .dataframe thead th {\n",
       "        text-align: right;\n",
       "    }\n",
       "</style>\n",
       "<table border=\"1\" class=\"dataframe\">\n",
       "  <thead>\n",
       "    <tr style=\"text-align: right;\">\n",
       "      <th></th>\n",
       "      <th>id</th>\n",
       "      <th>date</th>\n",
       "      <th>price</th>\n",
       "      <th>bedrooms</th>\n",
       "      <th>bathrooms</th>\n",
       "      <th>sqft_living</th>\n",
       "      <th>sqft_lot</th>\n",
       "      <th>floors</th>\n",
       "      <th>waterfront</th>\n",
       "      <th>view</th>\n",
       "      <th>...</th>\n",
       "      <th>grade</th>\n",
       "      <th>sqft_above</th>\n",
       "      <th>sqft_basement</th>\n",
       "      <th>yr_built</th>\n",
       "      <th>yr_renovated</th>\n",
       "      <th>zipcode</th>\n",
       "      <th>lat</th>\n",
       "      <th>long</th>\n",
       "      <th>sqft_living15</th>\n",
       "      <th>sqft_lot15</th>\n",
       "    </tr>\n",
       "  </thead>\n",
       "  <tbody>\n",
       "    <tr>\n",
       "      <th>21608</th>\n",
       "      <td>263000018</td>\n",
       "      <td>20140521T000000</td>\n",
       "      <td>360000.0</td>\n",
       "      <td>3</td>\n",
       "      <td>2.50</td>\n",
       "      <td>1530</td>\n",
       "      <td>1131</td>\n",
       "      <td>3.0</td>\n",
       "      <td>0</td>\n",
       "      <td>0</td>\n",
       "      <td>...</td>\n",
       "      <td>8</td>\n",
       "      <td>1530.0</td>\n",
       "      <td>0</td>\n",
       "      <td>2009</td>\n",
       "      <td>0</td>\n",
       "      <td>98103</td>\n",
       "      <td>47.6993</td>\n",
       "      <td>-122.346</td>\n",
       "      <td>1530</td>\n",
       "      <td>1509</td>\n",
       "    </tr>\n",
       "    <tr>\n",
       "      <th>21609</th>\n",
       "      <td>6600060120</td>\n",
       "      <td>20150223T000000</td>\n",
       "      <td>400000.0</td>\n",
       "      <td>4</td>\n",
       "      <td>2.50</td>\n",
       "      <td>2310</td>\n",
       "      <td>5813</td>\n",
       "      <td>2.0</td>\n",
       "      <td>0</td>\n",
       "      <td>0</td>\n",
       "      <td>...</td>\n",
       "      <td>8</td>\n",
       "      <td>2310.0</td>\n",
       "      <td>0</td>\n",
       "      <td>2014</td>\n",
       "      <td>0</td>\n",
       "      <td>98146</td>\n",
       "      <td>47.5107</td>\n",
       "      <td>-122.362</td>\n",
       "      <td>1830</td>\n",
       "      <td>7200</td>\n",
       "    </tr>\n",
       "    <tr>\n",
       "      <th>21610</th>\n",
       "      <td>1523300141</td>\n",
       "      <td>20140623T000000</td>\n",
       "      <td>402101.0</td>\n",
       "      <td>2</td>\n",
       "      <td>0.75</td>\n",
       "      <td>1020</td>\n",
       "      <td>1350</td>\n",
       "      <td>2.0</td>\n",
       "      <td>0</td>\n",
       "      <td>0</td>\n",
       "      <td>...</td>\n",
       "      <td>7</td>\n",
       "      <td>1020.0</td>\n",
       "      <td>0</td>\n",
       "      <td>2009</td>\n",
       "      <td>0</td>\n",
       "      <td>98144</td>\n",
       "      <td>47.5944</td>\n",
       "      <td>-122.299</td>\n",
       "      <td>1020</td>\n",
       "      <td>2007</td>\n",
       "    </tr>\n",
       "    <tr>\n",
       "      <th>21611</th>\n",
       "      <td>291310100</td>\n",
       "      <td>20150116T000000</td>\n",
       "      <td>400000.0</td>\n",
       "      <td>3</td>\n",
       "      <td>2.50</td>\n",
       "      <td>1600</td>\n",
       "      <td>2388</td>\n",
       "      <td>2.0</td>\n",
       "      <td>0</td>\n",
       "      <td>0</td>\n",
       "      <td>...</td>\n",
       "      <td>8</td>\n",
       "      <td>1600.0</td>\n",
       "      <td>0</td>\n",
       "      <td>2004</td>\n",
       "      <td>0</td>\n",
       "      <td>98027</td>\n",
       "      <td>47.5345</td>\n",
       "      <td>-122.069</td>\n",
       "      <td>1410</td>\n",
       "      <td>1287</td>\n",
       "    </tr>\n",
       "    <tr>\n",
       "      <th>21612</th>\n",
       "      <td>1523300157</td>\n",
       "      <td>20141015T000000</td>\n",
       "      <td>325000.0</td>\n",
       "      <td>2</td>\n",
       "      <td>0.75</td>\n",
       "      <td>1020</td>\n",
       "      <td>1076</td>\n",
       "      <td>2.0</td>\n",
       "      <td>0</td>\n",
       "      <td>0</td>\n",
       "      <td>...</td>\n",
       "      <td>7</td>\n",
       "      <td>1020.0</td>\n",
       "      <td>0</td>\n",
       "      <td>2008</td>\n",
       "      <td>0</td>\n",
       "      <td>98144</td>\n",
       "      <td>47.5941</td>\n",
       "      <td>-122.299</td>\n",
       "      <td>1020</td>\n",
       "      <td>1357</td>\n",
       "    </tr>\n",
       "  </tbody>\n",
       "</table>\n",
       "<p>5 rows × 21 columns</p>\n",
       "</div>"
      ],
      "text/plain": [
       "               id             date     price  bedrooms  bathrooms  \\\n",
       "21608   263000018  20140521T000000  360000.0         3       2.50   \n",
       "21609  6600060120  20150223T000000  400000.0         4       2.50   \n",
       "21610  1523300141  20140623T000000  402101.0         2       0.75   \n",
       "21611   291310100  20150116T000000  400000.0         3       2.50   \n",
       "21612  1523300157  20141015T000000  325000.0         2       0.75   \n",
       "\n",
       "       sqft_living  sqft_lot  floors  waterfront  view  ...  grade  \\\n",
       "21608         1530      1131     3.0           0     0  ...      8   \n",
       "21609         2310      5813     2.0           0     0  ...      8   \n",
       "21610         1020      1350     2.0           0     0  ...      7   \n",
       "21611         1600      2388     2.0           0     0  ...      8   \n",
       "21612         1020      1076     2.0           0     0  ...      7   \n",
       "\n",
       "       sqft_above  sqft_basement  yr_built  yr_renovated  zipcode      lat  \\\n",
       "21608      1530.0              0      2009             0    98103  47.6993   \n",
       "21609      2310.0              0      2014             0    98146  47.5107   \n",
       "21610      1020.0              0      2009             0    98144  47.5944   \n",
       "21611      1600.0              0      2004             0    98027  47.5345   \n",
       "21612      1020.0              0      2008             0    98144  47.5941   \n",
       "\n",
       "          long  sqft_living15  sqft_lot15  \n",
       "21608 -122.346           1530        1509  \n",
       "21609 -122.362           1830        7200  \n",
       "21610 -122.299           1020        2007  \n",
       "21611 -122.069           1410        1287  \n",
       "21612 -122.299           1020        1357  \n",
       "\n",
       "[5 rows x 21 columns]"
      ]
     },
     "execution_count": 31,
     "metadata": {},
     "output_type": "execute_result"
    }
   ],
   "source": [
    "kcpp.tail()"
   ]
  },
  {
   "cell_type": "code",
   "execution_count": 32,
   "id": "a1f4f68c",
   "metadata": {},
   "outputs": [
    {
     "data": {
      "text/plain": [
       "array([   0, 1991, 2002, 2010, 1999, 1992, 2013, 1994, 1978, 2005, 2008,\n",
       "       2003, 1984, 1954, 2014, 2011, 1974, 1983, 1945, 1990, 1988, 1957,\n",
       "       1977, 1981, 1995, 2000, 1998, 1970, 1989, 2004, 1986, 2009, 2007,\n",
       "       1987, 1973, 2006, 1985, 2001, 1980, 1971, 1979, 1997, 1950, 1969,\n",
       "       1948, 2015, 1968, 2012, 1963, 1951, 1993, 1962, 1996, 1972, 1953,\n",
       "       1955, 1982, 1956, 1940, 1976, 1946, 1975, 1958, 1964, 1959, 1960,\n",
       "       1967, 1965, 1934, 1944], dtype=int64)"
      ]
     },
     "execution_count": 32,
     "metadata": {},
     "output_type": "execute_result"
    }
   ],
   "source": [
    "kcpp.yr_renovated.unique()"
   ]
  },
  {
   "cell_type": "code",
   "execution_count": 33,
   "id": "be881e86",
   "metadata": {
    "scrolled": true
   },
   "outputs": [
    {
     "data": {
      "text/plain": [
       "Index(['id', 'date', 'price', 'bedrooms', 'bathrooms', 'sqft_living',\n",
       "       'sqft_lot', 'floors', 'waterfront', 'view', 'condition', 'grade',\n",
       "       'sqft_above', 'sqft_basement', 'yr_built', 'yr_renovated', 'zipcode',\n",
       "       'lat', 'long', 'sqft_living15', 'sqft_lot15'],\n",
       "      dtype='object')"
      ]
     },
     "execution_count": 33,
     "metadata": {},
     "output_type": "execute_result"
    }
   ],
   "source": [
    "kcpp.columns"
   ]
  },
  {
   "cell_type": "code",
   "execution_count": 34,
   "id": "380d1d62",
   "metadata": {},
   "outputs": [
    {
     "data": {
      "text/html": [
       "<style type=\"text/css\">\n",
       "#T_07516_row0_col0, #T_07516_row1_col1, #T_07516_row2_col2, #T_07516_row3_col3, #T_07516_row4_col4, #T_07516_row5_col5, #T_07516_row6_col6 {\n",
       "  background-color: #023858;\n",
       "  color: #f1f1f1;\n",
       "}\n",
       "#T_07516_row0_col1 {\n",
       "  background-color: #308cbe;\n",
       "  color: #f1f1f1;\n",
       "}\n",
       "#T_07516_row0_col2 {\n",
       "  background-color: #f4edf6;\n",
       "  color: #000000;\n",
       "}\n",
       "#T_07516_row0_col3 {\n",
       "  background-color: #358fc0;\n",
       "  color: #f1f1f1;\n",
       "}\n",
       "#T_07516_row0_col4 {\n",
       "  background-color: #acc0dd;\n",
       "  color: #000000;\n",
       "}\n",
       "#T_07516_row0_col5 {\n",
       "  background-color: #6da6cd;\n",
       "  color: #f1f1f1;\n",
       "}\n",
       "#T_07516_row0_col6, #T_07516_row2_col4, #T_07516_row4_col5, #T_07516_row6_col4 {\n",
       "  background-color: #f5eff6;\n",
       "  color: #000000;\n",
       "}\n",
       "#T_07516_row1_col0 {\n",
       "  background-color: #2383ba;\n",
       "  color: #f1f1f1;\n",
       "}\n",
       "#T_07516_row1_col2 {\n",
       "  background-color: #e5e1ef;\n",
       "  color: #000000;\n",
       "}\n",
       "#T_07516_row1_col3 {\n",
       "  background-color: #04588a;\n",
       "  color: #f1f1f1;\n",
       "}\n",
       "#T_07516_row1_col4 {\n",
       "  background-color: #83afd3;\n",
       "  color: #f1f1f1;\n",
       "}\n",
       "#T_07516_row1_col5 {\n",
       "  background-color: #1278b4;\n",
       "  color: #f1f1f1;\n",
       "}\n",
       "#T_07516_row1_col6, #T_07516_row3_col2, #T_07516_row5_col6 {\n",
       "  background-color: #e2dfee;\n",
       "  color: #000000;\n",
       "}\n",
       "#T_07516_row2_col0 {\n",
       "  background-color: #fef6fa;\n",
       "  color: #000000;\n",
       "}\n",
       "#T_07516_row2_col1, #T_07516_row2_col5, #T_07516_row3_col4, #T_07516_row4_col2, #T_07516_row4_col3, #T_07516_row4_col6, #T_07516_row6_col0 {\n",
       "  background-color: #fff7fb;\n",
       "  color: #000000;\n",
       "}\n",
       "#T_07516_row2_col3 {\n",
       "  background-color: #d6d6e9;\n",
       "  color: #000000;\n",
       "}\n",
       "#T_07516_row2_col6, #T_07516_row6_col2 {\n",
       "  background-color: #1379b5;\n",
       "  color: #f1f1f1;\n",
       "}\n",
       "#T_07516_row3_col0 {\n",
       "  background-color: #529bc7;\n",
       "  color: #f1f1f1;\n",
       "}\n",
       "#T_07516_row3_col1 {\n",
       "  background-color: #045e94;\n",
       "  color: #f1f1f1;\n",
       "}\n",
       "#T_07516_row3_col5 {\n",
       "  background-color: #1e80b8;\n",
       "  color: #f1f1f1;\n",
       "}\n",
       "#T_07516_row3_col6 {\n",
       "  background-color: #e0dded;\n",
       "  color: #000000;\n",
       "}\n",
       "#T_07516_row4_col0 {\n",
       "  background-color: #cccfe5;\n",
       "  color: #000000;\n",
       "}\n",
       "#T_07516_row4_col1 {\n",
       "  background-color: #b9c6e0;\n",
       "  color: #000000;\n",
       "}\n",
       "#T_07516_row5_col0 {\n",
       "  background-color: #5c9fc9;\n",
       "  color: #f1f1f1;\n",
       "}\n",
       "#T_07516_row5_col1 {\n",
       "  background-color: #167bb6;\n",
       "  color: #f1f1f1;\n",
       "}\n",
       "#T_07516_row5_col2 {\n",
       "  background-color: #ebe6f2;\n",
       "  color: #000000;\n",
       "}\n",
       "#T_07516_row5_col3 {\n",
       "  background-color: #0771b1;\n",
       "  color: #f1f1f1;\n",
       "}\n",
       "#T_07516_row5_col4 {\n",
       "  background-color: #d2d3e7;\n",
       "  color: #000000;\n",
       "}\n",
       "#T_07516_row6_col1 {\n",
       "  background-color: #fdf5fa;\n",
       "  color: #000000;\n",
       "}\n",
       "#T_07516_row6_col3 {\n",
       "  background-color: #d4d4e8;\n",
       "  color: #000000;\n",
       "}\n",
       "#T_07516_row6_col5 {\n",
       "  background-color: #f8f1f8;\n",
       "  color: #000000;\n",
       "}\n",
       "</style>\n",
       "<table id=\"T_07516_\">\n",
       "  <thead>\n",
       "    <tr>\n",
       "      <th class=\"blank level0\" >&nbsp;</th>\n",
       "      <th class=\"col_heading level0 col0\" >price</th>\n",
       "      <th class=\"col_heading level0 col1\" >sqft_living</th>\n",
       "      <th class=\"col_heading level0 col2\" >sqft_lot</th>\n",
       "      <th class=\"col_heading level0 col3\" >sqft_above</th>\n",
       "      <th class=\"col_heading level0 col4\" >sqft_basement</th>\n",
       "      <th class=\"col_heading level0 col5\" >sqft_living15</th>\n",
       "      <th class=\"col_heading level0 col6\" >sqft_lot15</th>\n",
       "    </tr>\n",
       "  </thead>\n",
       "  <tbody>\n",
       "    <tr>\n",
       "      <th id=\"T_07516_level0_row0\" class=\"row_heading level0 row0\" >price</th>\n",
       "      <td id=\"T_07516_row0_col0\" class=\"data row0 col0\" >1.000000</td>\n",
       "      <td id=\"T_07516_row0_col1\" class=\"data row0 col1\" >0.702055</td>\n",
       "      <td id=\"T_07516_row0_col2\" class=\"data row0 col2\" >0.089661</td>\n",
       "      <td id=\"T_07516_row0_col3\" class=\"data row0 col3\" >0.605567</td>\n",
       "      <td id=\"T_07516_row0_col4\" class=\"data row0 col4\" >0.323842</td>\n",
       "      <td id=\"T_07516_row0_col5\" class=\"data row0 col5\" >0.585377</td>\n",
       "      <td id=\"T_07516_row0_col6\" class=\"data row0 col6\" >0.082448</td>\n",
       "    </tr>\n",
       "    <tr>\n",
       "      <th id=\"T_07516_level0_row1\" class=\"row_heading level0 row1\" >sqft_living</th>\n",
       "      <td id=\"T_07516_row1_col0\" class=\"data row1 col0\" >0.702055</td>\n",
       "      <td id=\"T_07516_row1_col1\" class=\"data row1 col1\" >1.000000</td>\n",
       "      <td id=\"T_07516_row1_col2\" class=\"data row1 col2\" >0.172841</td>\n",
       "      <td id=\"T_07516_row1_col3\" class=\"data row1 col3\" >0.876644</td>\n",
       "      <td id=\"T_07516_row1_col4\" class=\"data row1 col4\" >0.434925</td>\n",
       "      <td id=\"T_07516_row1_col5\" class=\"data row1 col5\" >0.756440</td>\n",
       "      <td id=\"T_07516_row1_col6\" class=\"data row1 col6\" >0.183301</td>\n",
       "    </tr>\n",
       "    <tr>\n",
       "      <th id=\"T_07516_level0_row2\" class=\"row_heading level0 row2\" >sqft_lot</th>\n",
       "      <td id=\"T_07516_row2_col0\" class=\"data row2 col0\" >0.089661</td>\n",
       "      <td id=\"T_07516_row2_col1\" class=\"data row2 col1\" >0.172841</td>\n",
       "      <td id=\"T_07516_row2_col2\" class=\"data row2 col2\" >1.000000</td>\n",
       "      <td id=\"T_07516_row2_col3\" class=\"data row2 col3\" >0.183511</td>\n",
       "      <td id=\"T_07516_row2_col4\" class=\"data row2 col4\" >0.015301</td>\n",
       "      <td id=\"T_07516_row2_col5\" class=\"data row2 col5\" >0.144605</td>\n",
       "      <td id=\"T_07516_row2_col6\" class=\"data row2 col6\" >0.718556</td>\n",
       "    </tr>\n",
       "    <tr>\n",
       "      <th id=\"T_07516_level0_row3\" class=\"row_heading level0 row3\" >sqft_above</th>\n",
       "      <td id=\"T_07516_row3_col0\" class=\"data row3 col0\" >0.605567</td>\n",
       "      <td id=\"T_07516_row3_col1\" class=\"data row3 col1\" >0.876644</td>\n",
       "      <td id=\"T_07516_row3_col2\" class=\"data row3 col2\" >0.183511</td>\n",
       "      <td id=\"T_07516_row3_col3\" class=\"data row3 col3\" >1.000000</td>\n",
       "      <td id=\"T_07516_row3_col4\" class=\"data row3 col4\" >-0.051976</td>\n",
       "      <td id=\"T_07516_row3_col5\" class=\"data row3 col5\" >0.731871</td>\n",
       "      <td id=\"T_07516_row3_col6\" class=\"data row3 col6\" >0.194048</td>\n",
       "    </tr>\n",
       "    <tr>\n",
       "      <th id=\"T_07516_level0_row4\" class=\"row_heading level0 row4\" >sqft_basement</th>\n",
       "      <td id=\"T_07516_row4_col0\" class=\"data row4 col0\" >0.323842</td>\n",
       "      <td id=\"T_07516_row4_col1\" class=\"data row4 col1\" >0.434925</td>\n",
       "      <td id=\"T_07516_row4_col2\" class=\"data row4 col2\" >0.015301</td>\n",
       "      <td id=\"T_07516_row4_col3\" class=\"data row4 col3\" >-0.051976</td>\n",
       "      <td id=\"T_07516_row4_col4\" class=\"data row4 col4\" >1.000000</td>\n",
       "      <td id=\"T_07516_row4_col5\" class=\"data row4 col5\" >0.200341</td>\n",
       "      <td id=\"T_07516_row4_col6\" class=\"data row4 col6\" >0.017292</td>\n",
       "    </tr>\n",
       "    <tr>\n",
       "      <th id=\"T_07516_level0_row5\" class=\"row_heading level0 row5\" >sqft_living15</th>\n",
       "      <td id=\"T_07516_row5_col0\" class=\"data row5 col0\" >0.585377</td>\n",
       "      <td id=\"T_07516_row5_col1\" class=\"data row5 col1\" >0.756440</td>\n",
       "      <td id=\"T_07516_row5_col2\" class=\"data row5 col2\" >0.144605</td>\n",
       "      <td id=\"T_07516_row5_col3\" class=\"data row5 col3\" >0.731871</td>\n",
       "      <td id=\"T_07516_row5_col4\" class=\"data row5 col4\" >0.200341</td>\n",
       "      <td id=\"T_07516_row5_col5\" class=\"data row5 col5\" >1.000000</td>\n",
       "      <td id=\"T_07516_row5_col6\" class=\"data row5 col6\" >0.183188</td>\n",
       "    </tr>\n",
       "    <tr>\n",
       "      <th id=\"T_07516_level0_row6\" class=\"row_heading level0 row6\" >sqft_lot15</th>\n",
       "      <td id=\"T_07516_row6_col0\" class=\"data row6 col0\" >0.082448</td>\n",
       "      <td id=\"T_07516_row6_col1\" class=\"data row6 col1\" >0.183301</td>\n",
       "      <td id=\"T_07516_row6_col2\" class=\"data row6 col2\" >0.718556</td>\n",
       "      <td id=\"T_07516_row6_col3\" class=\"data row6 col3\" >0.194048</td>\n",
       "      <td id=\"T_07516_row6_col4\" class=\"data row6 col4\" >0.017292</td>\n",
       "      <td id=\"T_07516_row6_col5\" class=\"data row6 col5\" >0.183188</td>\n",
       "      <td id=\"T_07516_row6_col6\" class=\"data row6 col6\" >1.000000</td>\n",
       "    </tr>\n",
       "  </tbody>\n",
       "</table>\n"
      ],
      "text/plain": [
       "<pandas.io.formats.style.Styler at 0x1dec78e0160>"
      ]
     },
     "execution_count": 34,
     "metadata": {},
     "output_type": "execute_result"
    }
   ],
   "source": [
    "kcpp[['price','sqft_living','sqft_lot','sqft_above','sqft_basement','sqft_living15','sqft_lot15']].corr().style.background_gradient()"
   ]
  },
  {
   "cell_type": "code",
   "execution_count": 35,
   "id": "d99d91f4",
   "metadata": {},
   "outputs": [
    {
     "data": {
      "text/html": [
       "<style type=\"text/css\">\n",
       "#T_a2de5_row0_col0, #T_a2de5_row1_col1, #T_a2de5_row2_col2, #T_a2de5_row3_col3, #T_a2de5_row4_col4, #T_a2de5_row5_col5 {\n",
       "  background-color: #023858;\n",
       "  color: #f1f1f1;\n",
       "}\n",
       "#T_a2de5_row0_col1, #T_a2de5_row0_col3, #T_a2de5_row0_col5, #T_a2de5_row5_col0, #T_a2de5_row5_col2, #T_a2de5_row5_col4 {\n",
       "  background-color: #fff7fb;\n",
       "  color: #000000;\n",
       "}\n",
       "#T_a2de5_row0_col2 {\n",
       "  background-color: #fef6fb;\n",
       "  color: #000000;\n",
       "}\n",
       "#T_a2de5_row0_col4 {\n",
       "  background-color: #faf2f8;\n",
       "  color: #000000;\n",
       "}\n",
       "#T_a2de5_row1_col0 {\n",
       "  background-color: #a7bddb;\n",
       "  color: #000000;\n",
       "}\n",
       "#T_a2de5_row1_col2 {\n",
       "  background-color: #c2cbe2;\n",
       "  color: #000000;\n",
       "}\n",
       "#T_a2de5_row1_col3 {\n",
       "  background-color: #1e80b8;\n",
       "  color: #f1f1f1;\n",
       "}\n",
       "#T_a2de5_row1_col4 {\n",
       "  background-color: #8eb3d5;\n",
       "  color: #000000;\n",
       "}\n",
       "#T_a2de5_row1_col5 {\n",
       "  background-color: #7bacd1;\n",
       "  color: #f1f1f1;\n",
       "}\n",
       "#T_a2de5_row2_col0 {\n",
       "  background-color: #c0c9e2;\n",
       "  color: #000000;\n",
       "}\n",
       "#T_a2de5_row2_col1 {\n",
       "  background-color: #dad9ea;\n",
       "  color: #000000;\n",
       "}\n",
       "#T_a2de5_row2_col3 {\n",
       "  background-color: #a4bcda;\n",
       "  color: #000000;\n",
       "}\n",
       "#T_a2de5_row2_col4 {\n",
       "  background-color: #b4c4df;\n",
       "  color: #000000;\n",
       "}\n",
       "#T_a2de5_row2_col5 {\n",
       "  background-color: #c1cae2;\n",
       "  color: #000000;\n",
       "}\n",
       "#T_a2de5_row3_col0 {\n",
       "  background-color: #e2dfee;\n",
       "  color: #000000;\n",
       "}\n",
       "#T_a2de5_row3_col1 {\n",
       "  background-color: #4897c4;\n",
       "  color: #f1f1f1;\n",
       "}\n",
       "#T_a2de5_row3_col2 {\n",
       "  background-color: #c9cee4;\n",
       "  color: #000000;\n",
       "}\n",
       "#T_a2de5_row3_col4 {\n",
       "  background-color: #a5bddb;\n",
       "  color: #000000;\n",
       "}\n",
       "#T_a2de5_row3_col5 {\n",
       "  background-color: #b3c3de;\n",
       "  color: #000000;\n",
       "}\n",
       "#T_a2de5_row4_col0 {\n",
       "  background-color: #ece7f2;\n",
       "  color: #000000;\n",
       "}\n",
       "#T_a2de5_row4_col1 {\n",
       "  background-color: #e0dded;\n",
       "  color: #000000;\n",
       "}\n",
       "#T_a2de5_row4_col2 {\n",
       "  background-color: #e8e4f0;\n",
       "  color: #000000;\n",
       "}\n",
       "#T_a2de5_row4_col3 {\n",
       "  background-color: #b9c6e0;\n",
       "  color: #000000;\n",
       "}\n",
       "#T_a2de5_row4_col5 {\n",
       "  background-color: #f1ebf5;\n",
       "  color: #000000;\n",
       "}\n",
       "#T_a2de5_row5_col1 {\n",
       "  background-color: #e0deed;\n",
       "  color: #000000;\n",
       "}\n",
       "#T_a2de5_row5_col3 {\n",
       "  background-color: #dbdaeb;\n",
       "  color: #000000;\n",
       "}\n",
       "</style>\n",
       "<table id=\"T_a2de5_\">\n",
       "  <thead>\n",
       "    <tr>\n",
       "      <th class=\"blank level0\" >&nbsp;</th>\n",
       "      <th class=\"col_heading level0 col0\" >price</th>\n",
       "      <th class=\"col_heading level0 col1\" >sqft_living</th>\n",
       "      <th class=\"col_heading level0 col2\" >grade</th>\n",
       "      <th class=\"col_heading level0 col3\" >sqft_above</th>\n",
       "      <th class=\"col_heading level0 col4\" >sqft_living15</th>\n",
       "      <th class=\"col_heading level0 col5\" >bathrooms</th>\n",
       "    </tr>\n",
       "  </thead>\n",
       "  <tbody>\n",
       "    <tr>\n",
       "      <th id=\"T_a2de5_level0_row0\" class=\"row_heading level0 row0\" >price</th>\n",
       "      <td id=\"T_a2de5_row0_col0\" class=\"data row0 col0\" >1.000000</td>\n",
       "      <td id=\"T_a2de5_row0_col1\" class=\"data row0 col1\" >0.702055</td>\n",
       "      <td id=\"T_a2de5_row0_col2\" class=\"data row0 col2\" >0.667434</td>\n",
       "      <td id=\"T_a2de5_row0_col3\" class=\"data row0 col3\" >0.605567</td>\n",
       "      <td id=\"T_a2de5_row0_col4\" class=\"data row0 col4\" >0.585377</td>\n",
       "      <td id=\"T_a2de5_row0_col5\" class=\"data row0 col5\" >0.525150</td>\n",
       "    </tr>\n",
       "    <tr>\n",
       "      <th id=\"T_a2de5_level0_row1\" class=\"row_heading level0 row1\" >sqft_living</th>\n",
       "      <td id=\"T_a2de5_row1_col0\" class=\"data row1 col0\" >0.702055</td>\n",
       "      <td id=\"T_a2de5_row1_col1\" class=\"data row1 col1\" >1.000000</td>\n",
       "      <td id=\"T_a2de5_row1_col2\" class=\"data row1 col2\" >0.762727</td>\n",
       "      <td id=\"T_a2de5_row1_col3\" class=\"data row1 col3\" >0.876644</td>\n",
       "      <td id=\"T_a2de5_row1_col4\" class=\"data row1 col4\" >0.756440</td>\n",
       "      <td id=\"T_a2de5_row1_col5\" class=\"data row1 col5\" >0.754684</td>\n",
       "    </tr>\n",
       "    <tr>\n",
       "      <th id=\"T_a2de5_level0_row2\" class=\"row_heading level0 row2\" >grade</th>\n",
       "      <td id=\"T_a2de5_row2_col0\" class=\"data row2 col0\" >0.667434</td>\n",
       "      <td id=\"T_a2de5_row2_col1\" class=\"data row2 col1\" >0.762727</td>\n",
       "      <td id=\"T_a2de5_row2_col2\" class=\"data row2 col2\" >1.000000</td>\n",
       "      <td id=\"T_a2de5_row2_col3\" class=\"data row2 col3\" >0.755924</td>\n",
       "      <td id=\"T_a2de5_row2_col4\" class=\"data row2 col4\" >0.713197</td>\n",
       "      <td id=\"T_a2de5_row2_col5\" class=\"data row2 col5\" >0.664981</td>\n",
       "    </tr>\n",
       "    <tr>\n",
       "      <th id=\"T_a2de5_level0_row3\" class=\"row_heading level0 row3\" >sqft_above</th>\n",
       "      <td id=\"T_a2de5_row3_col0\" class=\"data row3 col0\" >0.605567</td>\n",
       "      <td id=\"T_a2de5_row3_col1\" class=\"data row3 col1\" >0.876644</td>\n",
       "      <td id=\"T_a2de5_row3_col2\" class=\"data row3 col2\" >0.755924</td>\n",
       "      <td id=\"T_a2de5_row3_col3\" class=\"data row3 col3\" >1.000000</td>\n",
       "      <td id=\"T_a2de5_row3_col4\" class=\"data row3 col4\" >0.731871</td>\n",
       "      <td id=\"T_a2de5_row3_col5\" class=\"data row3 col5\" >0.685363</td>\n",
       "    </tr>\n",
       "    <tr>\n",
       "      <th id=\"T_a2de5_level0_row4\" class=\"row_heading level0 row4\" >sqft_living15</th>\n",
       "      <td id=\"T_a2de5_row4_col0\" class=\"data row4 col0\" >0.585377</td>\n",
       "      <td id=\"T_a2de5_row4_col1\" class=\"data row4 col1\" >0.756440</td>\n",
       "      <td id=\"T_a2de5_row4_col2\" class=\"data row4 col2\" >0.713197</td>\n",
       "      <td id=\"T_a2de5_row4_col3\" class=\"data row4 col3\" >0.731871</td>\n",
       "      <td id=\"T_a2de5_row4_col4\" class=\"data row4 col4\" >1.000000</td>\n",
       "      <td id=\"T_a2de5_row4_col5\" class=\"data row4 col5\" >0.568626</td>\n",
       "    </tr>\n",
       "    <tr>\n",
       "      <th id=\"T_a2de5_level0_row5\" class=\"row_heading level0 row5\" >bathrooms</th>\n",
       "      <td id=\"T_a2de5_row5_col0\" class=\"data row5 col0\" >0.525150</td>\n",
       "      <td id=\"T_a2de5_row5_col1\" class=\"data row5 col1\" >0.754684</td>\n",
       "      <td id=\"T_a2de5_row5_col2\" class=\"data row5 col2\" >0.664981</td>\n",
       "      <td id=\"T_a2de5_row5_col3\" class=\"data row5 col3\" >0.685363</td>\n",
       "      <td id=\"T_a2de5_row5_col4\" class=\"data row5 col4\" >0.568626</td>\n",
       "      <td id=\"T_a2de5_row5_col5\" class=\"data row5 col5\" >1.000000</td>\n",
       "    </tr>\n",
       "  </tbody>\n",
       "</table>\n"
      ],
      "text/plain": [
       "<pandas.io.formats.style.Styler at 0x1dec7901a60>"
      ]
     },
     "execution_count": 35,
     "metadata": {},
     "output_type": "execute_result"
    }
   ],
   "source": [
    "kcpp[['price','sqft_living','grade','sqft_above','sqft_living15','bathrooms']].corr().style.background_gradient()"
   ]
  },
  {
   "cell_type": "code",
   "execution_count": 36,
   "id": "00a07fda",
   "metadata": {
    "scrolled": true
   },
   "outputs": [
    {
     "data": {
      "image/png": "[encoded data removed]",
      "text/plain": [
       "<Figure size 1008x720 with 36 Axes>"
      ]
     },
     "metadata": {
      "needs_background": "light"
     },
     "output_type": "display_data"
    }
   ],
   "source": [
    "from pandas.plotting import scatter_matrix\n",
    "scatter_matrix(kcpp[['sqft_living','sqft_lot','sqft_above','sqft_basement','sqft_living15','sqft_lot15']],alpha = 1,figsize=(14,10),\n",
    "               diagonal = 'hist')\n",
    "plt.show()"
   ]
  },
  {
   "cell_type": "code",
   "execution_count": 37,
   "id": "898d938b",
   "metadata": {},
   "outputs": [
    {
     "data": {
      "text/plain": [
       "<AxesSubplot:xlabel='bedrooms'>"
      ]
     },
     "execution_count": 37,
     "metadata": {},
     "output_type": "execute_result"
    },
    {
     "data": {
      "image/png": "[encoded data removed]",
      "text/plain": [
       "<Figure size 432x288 with 1 Axes>"
      ]
     },
     "metadata": {
      "needs_background": "light"
     },
     "output_type": "display_data"
    }
   ],
   "source": [
    "plt.subplot(1, 2, 1)\n",
    "sns.boxplot(kcpp[\"bedrooms\"])"
   ]
  },
  {
   "cell_type": "code",
   "execution_count": 38,
   "id": "3644dc89",
   "metadata": {
    "scrolled": true
   },
   "outputs": [
    {
     "data": {
      "image/png": "[encoded data removed]",
      "text/plain": [
       "<Figure size 576x576 with 1 Axes>"
      ]
     },
     "metadata": {
      "needs_background": "light"
     },
     "output_type": "display_data"
    }
   ],
   "source": [
    "ax = kcpp[['bedrooms', 'bathrooms']].plot(kind='box', title='boxplot',figsize=(8,8),grid=True)\n"
   ]
  },
  {
   "cell_type": "code",
   "execution_count": 39,
   "id": "b62ca118",
   "metadata": {
    "scrolled": true
   },
   "outputs": [
    {
     "data": {
      "text/plain": [
       "<AxesSubplot:title={'center':'boxplot'}>"
      ]
     },
     "execution_count": 39,
     "metadata": {},
     "output_type": "execute_result"
    },
    {
     "data": {
      "image/png": "[encoded data removed]",
      "text/plain": [
       "<Figure size 1080x1080 with 1 Axes>"
      ]
     },
     "metadata": {
      "needs_background": "light"
     },
     "output_type": "display_data"
    }
   ],
   "source": [
    "ax = kcpp[['bedrooms', 'bathrooms',\"floors\",\"view\",\"condition\",\"grade\"]].plot(kind='box', title='boxplot',figsize=(15,15),grid=True)\n",
    "ax\n"
   ]
  },
  {
   "cell_type": "code",
   "execution_count": 40,
   "id": "05dabd43",
   "metadata": {},
   "outputs": [
    {
     "data": {
      "text/plain": [
       "<seaborn.axisgrid.PairGrid at 0x1deccab0fa0>"
      ]
     },
     "execution_count": 40,
     "metadata": {},
     "output_type": "execute_result"
    },
    {
     "data": {
      "image/png": "[encoded data removed]",
      "text/plain": [
       "<Figure size 2772x360 with 11 Axes>"
      ]
     },
     "metadata": {
      "needs_background": "light"
     },
     "output_type": "display_data"
    }
   ],
   "source": [
    "sns.pairplot(kcpp,x_vars=['sqft_living','sqft_lot','sqft_above','sqft_basement','sqft_living15','sqft_lot15', 'bathrooms',\"floors\",\"view\",\"condition\",\"grade\"],y_vars=\"price\",height=5,aspect=0.7)"
   ]
  },
  {
   "cell_type": "code",
   "execution_count": null,
   "id": "20276355",
   "metadata": {},
   "outputs": [],
   "source": []
  },
  {
   "cell_type": "markdown",
   "id": "be3b9736",
   "metadata": {},
   "source": [
    "# Base Line Model:"
   ]
  },
  {
   "cell_type": "markdown",
   "id": "9b52d532",
   "metadata": {},
   "source": [
    "# Train test split-validation"
   ]
  },
  {
   "cell_type": "code",
   "execution_count": 41,
   "id": "c93f97ac",
   "metadata": {},
   "outputs": [],
   "source": [
    "x=kcpp.drop([\"price\",'date','zipcode'],axis=1)\n",
    "y=kcpp.price"
   ]
  },
  {
   "cell_type": "code",
   "execution_count": 42,
   "id": "a5e3185a",
   "metadata": {},
   "outputs": [],
   "source": [
    "x_train,x_test,y_train,y_test=train_test_split(x,y,test_size=0.2,random_state=42)"
   ]
  },
  {
   "cell_type": "code",
   "execution_count": 43,
   "id": "e999b9e1",
   "metadata": {},
   "outputs": [
    {
     "data": {
      "text/plain": [
       "(4323, 18)"
      ]
     },
     "execution_count": 43,
     "metadata": {},
     "output_type": "execute_result"
    }
   ],
   "source": [
    "x_test.shape"
   ]
  },
  {
   "cell_type": "code",
   "execution_count": 44,
   "id": "2b14dd9f",
   "metadata": {},
   "outputs": [],
   "source": [
    "x_train,x_valid,y_train,y_valid=train_test_split(x_train,y_train,test_size=0.25,random_state=42)"
   ]
  },
  {
   "cell_type": "code",
   "execution_count": 45,
   "id": "bed2b5e6",
   "metadata": {},
   "outputs": [
    {
     "data": {
      "text/plain": [
       "(12966,)"
      ]
     },
     "execution_count": 45,
     "metadata": {},
     "output_type": "execute_result"
    }
   ],
   "source": [
    "y_train.shape"
   ]
  },
  {
   "cell_type": "code",
   "execution_count": 46,
   "id": "f4482caa",
   "metadata": {},
   "outputs": [
    {
     "data": {
      "text/plain": [
       "(12966, 18)"
      ]
     },
     "execution_count": 46,
     "metadata": {},
     "output_type": "execute_result"
    }
   ],
   "source": [
    "x_train.shape"
   ]
  },
  {
   "cell_type": "code",
   "execution_count": null,
   "id": "f1e28697",
   "metadata": {},
   "outputs": [],
   "source": []
  },
  {
   "cell_type": "code",
   "execution_count": 47,
   "id": "fd1a37c6",
   "metadata": {},
   "outputs": [
    {
     "data": {
      "text/plain": [
       "LinearRegression()"
      ]
     },
     "execution_count": 47,
     "metadata": {},
     "output_type": "execute_result"
    }
   ],
   "source": [
    "linmod=LinearRegression()\n",
    "linmod"
   ]
  },
  {
   "cell_type": "code",
   "execution_count": 48,
   "id": "16876a87",
   "metadata": {
    "scrolled": true
   },
   "outputs": [],
   "source": [
    "fit=linmod.fit(x_train,y_train)"
   ]
  },
  {
   "cell_type": "code",
   "execution_count": 49,
   "id": "5751a1fa",
   "metadata": {},
   "outputs": [],
   "source": [
    "ytrain_predicted=linmod.predict(x_train)"
   ]
  },
  {
   "cell_type": "markdown",
   "id": "3e76e273",
   "metadata": {},
   "source": [
    "### MAPE on Train data"
   ]
  },
  {
   "cell_type": "code",
   "execution_count": 50,
   "id": "5b9b96e3",
   "metadata": {},
   "outputs": [
    {
     "data": {
      "text/plain": [
       "24.980834933208058"
      ]
     },
     "execution_count": 50,
     "metadata": {},
     "output_type": "execute_result"
    }
   ],
   "source": [
    "MAPE = np.mean(np.abs((y_train - ytrain_predicted)/y_train))*100\n",
    "MAPE"
   ]
  },
  {
   "cell_type": "markdown",
   "id": "bc974f1c",
   "metadata": {},
   "source": [
    "### MAE on Train data"
   ]
  },
  {
   "cell_type": "code",
   "execution_count": 51,
   "id": "972d0e66",
   "metadata": {},
   "outputs": [
    {
     "data": {
      "text/plain": [
       "123589.68029422172"
      ]
     },
     "execution_count": 51,
     "metadata": {},
     "output_type": "execute_result"
    }
   ],
   "source": [
    "MAE = np.mean(np.abs(y_train - ytrain_predicted))\n",
    "MAE"
   ]
  },
  {
   "cell_type": "code",
   "execution_count": 52,
   "id": "8d80be94",
   "metadata": {},
   "outputs": [
    {
     "data": {
      "text/plain": [
       "array([-1.50347768e-06, -3.51990859e+04,  4.85588789e+04,  1.00734063e+02,\n",
       "        1.31775901e-01, -2.58367209e+03,  5.65074549e+05,  5.21646513e+04,\n",
       "        2.98096487e+04,  9.78148738e+04,  6.76109634e+01,  3.31231000e+01,\n",
       "       -2.37549162e+03,  2.05234466e+01,  5.59690187e+05, -1.07958500e+05,\n",
       "        2.98089905e+01, -4.07514095e-01])"
      ]
     },
     "execution_count": 52,
     "metadata": {},
     "output_type": "execute_result"
    }
   ],
   "source": [
    "fit.coef_"
   ]
  },
  {
   "cell_type": "code",
   "execution_count": 53,
   "id": "a2ee3a44",
   "metadata": {},
   "outputs": [
    {
     "data": {
      "text/plain": [
       "-35829795.96556024"
      ]
     },
     "execution_count": 53,
     "metadata": {},
     "output_type": "execute_result"
    }
   ],
   "source": [
    "fit.intercept_"
   ]
  },
  {
   "cell_type": "code",
   "execution_count": 54,
   "id": "dba4eadc",
   "metadata": {},
   "outputs": [
    {
     "data": {
      "text/plain": [
       "array([336430.90103412, 947647.51411812, 423379.36322673, ...,\n",
       "       507716.84507759, 276460.29419716, 352745.832722  ])"
      ]
     },
     "execution_count": 54,
     "metadata": {},
     "output_type": "execute_result"
    }
   ],
   "source": [
    "y_predicted=linmod.predict(x_valid)\n",
    "y_predicted"
   ]
  },
  {
   "cell_type": "code",
   "execution_count": 55,
   "id": "21b42a47",
   "metadata": {},
   "outputs": [
    {
     "data": {
      "text/plain": [
       "array([415679.77611375, 120155.72855727, 389535.45689818, ...,\n",
       "       489930.58290119, 360009.86128277, 308547.29856743])"
      ]
     },
     "execution_count": 55,
     "metadata": {},
     "output_type": "execute_result"
    }
   ],
   "source": [
    "y_predicted_train=linmod.predict(x_train)\n",
    "y_predicted_train"
   ]
  },
  {
   "cell_type": "code",
   "execution_count": 56,
   "id": "134ff287",
   "metadata": {},
   "outputs": [
    {
     "data": {
      "text/plain": [
       "0.6780841984240285"
      ]
     },
     "execution_count": 56,
     "metadata": {},
     "output_type": "execute_result"
    }
   ],
   "source": [
    "linmod.score(x_valid, y_valid)"
   ]
  },
  {
   "cell_type": "code",
   "execution_count": 57,
   "id": "8e575c6b",
   "metadata": {},
   "outputs": [],
   "source": [
    "import sklearn.model_selection as sm"
   ]
  },
  {
   "cell_type": "code",
   "execution_count": 58,
   "id": "d68cebc3",
   "metadata": {},
   "outputs": [
    {
     "data": {
      "text/plain": [
       "208648.17127783265"
      ]
     },
     "execution_count": 58,
     "metadata": {},
     "output_type": "execute_result"
    }
   ],
   "source": [
    "from sklearn.metrics import mean_squared_error\n",
    "RMSE = np.sqrt(mean_squared_error(y_valid,y_predicted))\n",
    "RMSE"
   ]
  },
  {
   "cell_type": "code",
   "execution_count": 59,
   "id": "b810e29c",
   "metadata": {},
   "outputs": [
    {
     "data": {
      "text/plain": [
       "25.40208155843095"
      ]
     },
     "execution_count": 59,
     "metadata": {},
     "output_type": "execute_result"
    }
   ],
   "source": [
    "MAPE = np.mean(np.abs((y_valid - y_predicted)/y_valid))*100\n",
    "MAPE"
   ]
  },
  {
   "cell_type": "code",
   "execution_count": 60,
   "id": "40e1e11d",
   "metadata": {},
   "outputs": [
    {
     "data": {
      "text/plain": [
       "126944.57401737316"
      ]
     },
     "execution_count": 60,
     "metadata": {},
     "output_type": "execute_result"
    }
   ],
   "source": [
    "MAE = np.mean(np.abs(y_valid - y_predicted))\n",
    "MAE"
   ]
  },
  {
   "cell_type": "code",
   "execution_count": 61,
   "id": "da8886d3",
   "metadata": {},
   "outputs": [
    {
     "data": {
      "text/plain": [
       "69.63895963571349"
      ]
     },
     "execution_count": 61,
     "metadata": {},
     "output_type": "execute_result"
    }
   ],
   "source": [
    "from sklearn.metrics import r2_score\n",
    "r2 = r2_score(y_train,y_predicted_train)*100\n",
    "r2"
   ]
  },
  {
   "cell_type": "code",
   "execution_count": 62,
   "id": "31b62058",
   "metadata": {},
   "outputs": [
    {
     "data": {
      "text/plain": [
       "0.6963895963571349"
      ]
     },
     "execution_count": 62,
     "metadata": {},
     "output_type": "execute_result"
    }
   ],
   "source": [
    "linmod.score(x_train, y_train)"
   ]
  },
  {
   "cell_type": "markdown",
   "id": "04fd8ee9",
   "metadata": {},
   "source": [
    "# Feature Scaling"
   ]
  },
  {
   "cell_type": "markdown",
   "id": "fcf8426e",
   "metadata": {},
   "source": [
    "# Model 1:"
   ]
  },
  {
   "cell_type": "markdown",
   "id": "ada60d49",
   "metadata": {},
   "source": [
    "## Log Transformation"
   ]
  },
  {
   "cell_type": "code",
   "execution_count": 63,
   "id": "5524df3b",
   "metadata": {},
   "outputs": [
    {
     "data": {
      "text/html": [
       "<div>\n",
       "<style scoped>\n",
       "    .dataframe tbody tr th:only-of-type {\n",
       "        vertical-align: middle;\n",
       "    }\n",
       "\n",
       "    .dataframe tbody tr th {\n",
       "        vertical-align: top;\n",
       "    }\n",
       "\n",
       "    .dataframe thead th {\n",
       "        text-align: right;\n",
       "    }\n",
       "</style>\n",
       "<table border=\"1\" class=\"dataframe\">\n",
       "  <thead>\n",
       "    <tr style=\"text-align: right;\">\n",
       "      <th></th>\n",
       "      <th>id</th>\n",
       "      <th>date</th>\n",
       "      <th>price</th>\n",
       "      <th>bedrooms</th>\n",
       "      <th>bathrooms</th>\n",
       "      <th>sqft_living</th>\n",
       "      <th>sqft_lot</th>\n",
       "      <th>floors</th>\n",
       "      <th>waterfront</th>\n",
       "      <th>view</th>\n",
       "      <th>...</th>\n",
       "      <th>grade</th>\n",
       "      <th>sqft_above</th>\n",
       "      <th>sqft_basement</th>\n",
       "      <th>yr_built</th>\n",
       "      <th>yr_renovated</th>\n",
       "      <th>zipcode</th>\n",
       "      <th>lat</th>\n",
       "      <th>long</th>\n",
       "      <th>sqft_living15</th>\n",
       "      <th>sqft_lot15</th>\n",
       "    </tr>\n",
       "  </thead>\n",
       "  <tbody>\n",
       "    <tr>\n",
       "      <th>0</th>\n",
       "      <td>7129300520</td>\n",
       "      <td>20141013T000000</td>\n",
       "      <td>221900.0</td>\n",
       "      <td>3</td>\n",
       "      <td>1.00</td>\n",
       "      <td>1180</td>\n",
       "      <td>5650</td>\n",
       "      <td>1.0</td>\n",
       "      <td>0</td>\n",
       "      <td>0</td>\n",
       "      <td>...</td>\n",
       "      <td>7</td>\n",
       "      <td>1180.0</td>\n",
       "      <td>0</td>\n",
       "      <td>1955</td>\n",
       "      <td>0</td>\n",
       "      <td>98178</td>\n",
       "      <td>47.5112</td>\n",
       "      <td>-122.257</td>\n",
       "      <td>1340</td>\n",
       "      <td>5650</td>\n",
       "    </tr>\n",
       "    <tr>\n",
       "      <th>1</th>\n",
       "      <td>6414100192</td>\n",
       "      <td>20141209T000000</td>\n",
       "      <td>538000.0</td>\n",
       "      <td>3</td>\n",
       "      <td>2.25</td>\n",
       "      <td>2570</td>\n",
       "      <td>7242</td>\n",
       "      <td>2.0</td>\n",
       "      <td>0</td>\n",
       "      <td>0</td>\n",
       "      <td>...</td>\n",
       "      <td>7</td>\n",
       "      <td>2170.0</td>\n",
       "      <td>400</td>\n",
       "      <td>1951</td>\n",
       "      <td>1991</td>\n",
       "      <td>98125</td>\n",
       "      <td>47.7210</td>\n",
       "      <td>-122.319</td>\n",
       "      <td>1690</td>\n",
       "      <td>7639</td>\n",
       "    </tr>\n",
       "    <tr>\n",
       "      <th>2</th>\n",
       "      <td>5631500400</td>\n",
       "      <td>20150225T000000</td>\n",
       "      <td>180000.0</td>\n",
       "      <td>2</td>\n",
       "      <td>1.00</td>\n",
       "      <td>770</td>\n",
       "      <td>10000</td>\n",
       "      <td>1.0</td>\n",
       "      <td>0</td>\n",
       "      <td>0</td>\n",
       "      <td>...</td>\n",
       "      <td>6</td>\n",
       "      <td>770.0</td>\n",
       "      <td>0</td>\n",
       "      <td>1933</td>\n",
       "      <td>0</td>\n",
       "      <td>98028</td>\n",
       "      <td>47.7379</td>\n",
       "      <td>-122.233</td>\n",
       "      <td>2720</td>\n",
       "      <td>8062</td>\n",
       "    </tr>\n",
       "    <tr>\n",
       "      <th>3</th>\n",
       "      <td>2487200875</td>\n",
       "      <td>20141209T000000</td>\n",
       "      <td>604000.0</td>\n",
       "      <td>4</td>\n",
       "      <td>3.00</td>\n",
       "      <td>1960</td>\n",
       "      <td>5000</td>\n",
       "      <td>1.0</td>\n",
       "      <td>0</td>\n",
       "      <td>0</td>\n",
       "      <td>...</td>\n",
       "      <td>7</td>\n",
       "      <td>1050.0</td>\n",
       "      <td>910</td>\n",
       "      <td>1965</td>\n",
       "      <td>0</td>\n",
       "      <td>98136</td>\n",
       "      <td>47.5208</td>\n",
       "      <td>-122.393</td>\n",
       "      <td>1360</td>\n",
       "      <td>5000</td>\n",
       "    </tr>\n",
       "    <tr>\n",
       "      <th>4</th>\n",
       "      <td>1954400510</td>\n",
       "      <td>20150218T000000</td>\n",
       "      <td>510000.0</td>\n",
       "      <td>3</td>\n",
       "      <td>2.00</td>\n",
       "      <td>1680</td>\n",
       "      <td>8080</td>\n",
       "      <td>1.0</td>\n",
       "      <td>0</td>\n",
       "      <td>0</td>\n",
       "      <td>...</td>\n",
       "      <td>8</td>\n",
       "      <td>1680.0</td>\n",
       "      <td>0</td>\n",
       "      <td>1987</td>\n",
       "      <td>0</td>\n",
       "      <td>98074</td>\n",
       "      <td>47.6168</td>\n",
       "      <td>-122.045</td>\n",
       "      <td>1800</td>\n",
       "      <td>7503</td>\n",
       "    </tr>\n",
       "    <tr>\n",
       "      <th>...</th>\n",
       "      <td>...</td>\n",
       "      <td>...</td>\n",
       "      <td>...</td>\n",
       "      <td>...</td>\n",
       "      <td>...</td>\n",
       "      <td>...</td>\n",
       "      <td>...</td>\n",
       "      <td>...</td>\n",
       "      <td>...</td>\n",
       "      <td>...</td>\n",
       "      <td>...</td>\n",
       "      <td>...</td>\n",
       "      <td>...</td>\n",
       "      <td>...</td>\n",
       "      <td>...</td>\n",
       "      <td>...</td>\n",
       "      <td>...</td>\n",
       "      <td>...</td>\n",
       "      <td>...</td>\n",
       "      <td>...</td>\n",
       "      <td>...</td>\n",
       "    </tr>\n",
       "    <tr>\n",
       "      <th>21608</th>\n",
       "      <td>263000018</td>\n",
       "      <td>20140521T000000</td>\n",
       "      <td>360000.0</td>\n",
       "      <td>3</td>\n",
       "      <td>2.50</td>\n",
       "      <td>1530</td>\n",
       "      <td>1131</td>\n",
       "      <td>3.0</td>\n",
       "      <td>0</td>\n",
       "      <td>0</td>\n",
       "      <td>...</td>\n",
       "      <td>8</td>\n",
       "      <td>1530.0</td>\n",
       "      <td>0</td>\n",
       "      <td>2009</td>\n",
       "      <td>0</td>\n",
       "      <td>98103</td>\n",
       "      <td>47.6993</td>\n",
       "      <td>-122.346</td>\n",
       "      <td>1530</td>\n",
       "      <td>1509</td>\n",
       "    </tr>\n",
       "    <tr>\n",
       "      <th>21609</th>\n",
       "      <td>6600060120</td>\n",
       "      <td>20150223T000000</td>\n",
       "      <td>400000.0</td>\n",
       "      <td>4</td>\n",
       "      <td>2.50</td>\n",
       "      <td>2310</td>\n",
       "      <td>5813</td>\n",
       "      <td>2.0</td>\n",
       "      <td>0</td>\n",
       "      <td>0</td>\n",
       "      <td>...</td>\n",
       "      <td>8</td>\n",
       "      <td>2310.0</td>\n",
       "      <td>0</td>\n",
       "      <td>2014</td>\n",
       "      <td>0</td>\n",
       "      <td>98146</td>\n",
       "      <td>47.5107</td>\n",
       "      <td>-122.362</td>\n",
       "      <td>1830</td>\n",
       "      <td>7200</td>\n",
       "    </tr>\n",
       "    <tr>\n",
       "      <th>21610</th>\n",
       "      <td>1523300141</td>\n",
       "      <td>20140623T000000</td>\n",
       "      <td>402101.0</td>\n",
       "      <td>2</td>\n",
       "      <td>0.75</td>\n",
       "      <td>1020</td>\n",
       "      <td>1350</td>\n",
       "      <td>2.0</td>\n",
       "      <td>0</td>\n",
       "      <td>0</td>\n",
       "      <td>...</td>\n",
       "      <td>7</td>\n",
       "      <td>1020.0</td>\n",
       "      <td>0</td>\n",
       "      <td>2009</td>\n",
       "      <td>0</td>\n",
       "      <td>98144</td>\n",
       "      <td>47.5944</td>\n",
       "      <td>-122.299</td>\n",
       "      <td>1020</td>\n",
       "      <td>2007</td>\n",
       "    </tr>\n",
       "    <tr>\n",
       "      <th>21611</th>\n",
       "      <td>291310100</td>\n",
       "      <td>20150116T000000</td>\n",
       "      <td>400000.0</td>\n",
       "      <td>3</td>\n",
       "      <td>2.50</td>\n",
       "      <td>1600</td>\n",
       "      <td>2388</td>\n",
       "      <td>2.0</td>\n",
       "      <td>0</td>\n",
       "      <td>0</td>\n",
       "      <td>...</td>\n",
       "      <td>8</td>\n",
       "      <td>1600.0</td>\n",
       "      <td>0</td>\n",
       "      <td>2004</td>\n",
       "      <td>0</td>\n",
       "      <td>98027</td>\n",
       "      <td>47.5345</td>\n",
       "      <td>-122.069</td>\n",
       "      <td>1410</td>\n",
       "      <td>1287</td>\n",
       "    </tr>\n",
       "    <tr>\n",
       "      <th>21612</th>\n",
       "      <td>1523300157</td>\n",
       "      <td>20141015T000000</td>\n",
       "      <td>325000.0</td>\n",
       "      <td>2</td>\n",
       "      <td>0.75</td>\n",
       "      <td>1020</td>\n",
       "      <td>1076</td>\n",
       "      <td>2.0</td>\n",
       "      <td>0</td>\n",
       "      <td>0</td>\n",
       "      <td>...</td>\n",
       "      <td>7</td>\n",
       "      <td>1020.0</td>\n",
       "      <td>0</td>\n",
       "      <td>2008</td>\n",
       "      <td>0</td>\n",
       "      <td>98144</td>\n",
       "      <td>47.5941</td>\n",
       "      <td>-122.299</td>\n",
       "      <td>1020</td>\n",
       "      <td>1357</td>\n",
       "    </tr>\n",
       "  </tbody>\n",
       "</table>\n",
       "<p>21611 rows × 21 columns</p>\n",
       "</div>"
      ],
      "text/plain": [
       "               id             date     price  bedrooms  bathrooms  \\\n",
       "0      7129300520  20141013T000000  221900.0         3       1.00   \n",
       "1      6414100192  20141209T000000  538000.0         3       2.25   \n",
       "2      5631500400  20150225T000000  180000.0         2       1.00   \n",
       "3      2487200875  20141209T000000  604000.0         4       3.00   \n",
       "4      1954400510  20150218T000000  510000.0         3       2.00   \n",
       "...           ...              ...       ...       ...        ...   \n",
       "21608   263000018  20140521T000000  360000.0         3       2.50   \n",
       "21609  6600060120  20150223T000000  400000.0         4       2.50   \n",
       "21610  1523300141  20140623T000000  402101.0         2       0.75   \n",
       "21611   291310100  20150116T000000  400000.0         3       2.50   \n",
       "21612  1523300157  20141015T000000  325000.0         2       0.75   \n",
       "\n",
       "       sqft_living  sqft_lot  floors  waterfront  view  ...  grade  \\\n",
       "0             1180      5650     1.0           0     0  ...      7   \n",
       "1             2570      7242     2.0           0     0  ...      7   \n",
       "2              770     10000     1.0           0     0  ...      6   \n",
       "3             1960      5000     1.0           0     0  ...      7   \n",
       "4             1680      8080     1.0           0     0  ...      8   \n",
       "...            ...       ...     ...         ...   ...  ...    ...   \n",
       "21608         1530      1131     3.0           0     0  ...      8   \n",
       "21609         2310      5813     2.0           0     0  ...      8   \n",
       "21610         1020      1350     2.0           0     0  ...      7   \n",
       "21611         1600      2388     2.0           0     0  ...      8   \n",
       "21612         1020      1076     2.0           0     0  ...      7   \n",
       "\n",
       "       sqft_above  sqft_basement  yr_built  yr_renovated  zipcode      lat  \\\n",
       "0          1180.0              0      1955             0    98178  47.5112   \n",
       "1          2170.0            400      1951          1991    98125  47.7210   \n",
       "2           770.0              0      1933             0    98028  47.7379   \n",
       "3          1050.0            910      1965             0    98136  47.5208   \n",
       "4          1680.0              0      1987             0    98074  47.6168   \n",
       "...           ...            ...       ...           ...      ...      ...   \n",
       "21608      1530.0              0      2009             0    98103  47.6993   \n",
       "21609      2310.0              0      2014             0    98146  47.5107   \n",
       "21610      1020.0              0      2009             0    98144  47.5944   \n",
       "21611      1600.0              0      2004             0    98027  47.5345   \n",
       "21612      1020.0              0      2008             0    98144  47.5941   \n",
       "\n",
       "          long  sqft_living15  sqft_lot15  \n",
       "0     -122.257           1340        5650  \n",
       "1     -122.319           1690        7639  \n",
       "2     -122.233           2720        8062  \n",
       "3     -122.393           1360        5000  \n",
       "4     -122.045           1800        7503  \n",
       "...        ...            ...         ...  \n",
       "21608 -122.346           1530        1509  \n",
       "21609 -122.362           1830        7200  \n",
       "21610 -122.299           1020        2007  \n",
       "21611 -122.069           1410        1287  \n",
       "21612 -122.299           1020        1357  \n",
       "\n",
       "[21611 rows x 21 columns]"
      ]
     },
     "execution_count": 63,
     "metadata": {},
     "output_type": "execute_result"
    }
   ],
   "source": [
    "kcpp"
   ]
  },
  {
   "cell_type": "code",
   "execution_count": 64,
   "id": "33f03870",
   "metadata": {},
   "outputs": [],
   "source": [
    "kcpp[\"log_price\"]=np.log(kcpp['price'])\n",
    "kcpp[\"log_sqftliv\"]=np.log(kcpp['sqft_living'])\n",
    "kcpp[\"log_sqftabo\"]=np.log(kcpp['sqft_above'])\n",
    "kcpp[\"log_sqftlot\"]=np.log(kcpp['sqft_lot'])\n",
    "kcpp[\"log_sqftlot15\"]=np.log(kcpp['sqft_lot15'])\n",
    "kcpp[\"log_sqftliv15\"]=np.log(kcpp['sqft_living15'])"
   ]
  },
  {
   "cell_type": "code",
   "execution_count": 65,
   "id": "57d74fed",
   "metadata": {},
   "outputs": [
    {
     "data": {
      "text/html": [
       "<div>\n",
       "<style scoped>\n",
       "    .dataframe tbody tr th:only-of-type {\n",
       "        vertical-align: middle;\n",
       "    }\n",
       "\n",
       "    .dataframe tbody tr th {\n",
       "        vertical-align: top;\n",
       "    }\n",
       "\n",
       "    .dataframe thead th {\n",
       "        text-align: right;\n",
       "    }\n",
       "</style>\n",
       "<table border=\"1\" class=\"dataframe\">\n",
       "  <thead>\n",
       "    <tr style=\"text-align: right;\">\n",
       "      <th></th>\n",
       "      <th>id</th>\n",
       "      <th>date</th>\n",
       "      <th>price</th>\n",
       "      <th>bedrooms</th>\n",
       "      <th>bathrooms</th>\n",
       "      <th>sqft_living</th>\n",
       "      <th>sqft_lot</th>\n",
       "      <th>floors</th>\n",
       "      <th>waterfront</th>\n",
       "      <th>view</th>\n",
       "      <th>...</th>\n",
       "      <th>lat</th>\n",
       "      <th>long</th>\n",
       "      <th>sqft_living15</th>\n",
       "      <th>sqft_lot15</th>\n",
       "      <th>log_price</th>\n",
       "      <th>log_sqftliv</th>\n",
       "      <th>log_sqftabo</th>\n",
       "      <th>log_sqftlot</th>\n",
       "      <th>log_sqftlot15</th>\n",
       "      <th>log_sqftliv15</th>\n",
       "    </tr>\n",
       "  </thead>\n",
       "  <tbody>\n",
       "    <tr>\n",
       "      <th>0</th>\n",
       "      <td>7129300520</td>\n",
       "      <td>20141013T000000</td>\n",
       "      <td>221900.0</td>\n",
       "      <td>3</td>\n",
       "      <td>1.00</td>\n",
       "      <td>1180</td>\n",
       "      <td>5650</td>\n",
       "      <td>1.0</td>\n",
       "      <td>0</td>\n",
       "      <td>0</td>\n",
       "      <td>...</td>\n",
       "      <td>47.5112</td>\n",
       "      <td>-122.257</td>\n",
       "      <td>1340</td>\n",
       "      <td>5650</td>\n",
       "      <td>12.309982</td>\n",
       "      <td>7.073270</td>\n",
       "      <td>7.073270</td>\n",
       "      <td>8.639411</td>\n",
       "      <td>8.639411</td>\n",
       "      <td>7.200425</td>\n",
       "    </tr>\n",
       "    <tr>\n",
       "      <th>1</th>\n",
       "      <td>6414100192</td>\n",
       "      <td>20141209T000000</td>\n",
       "      <td>538000.0</td>\n",
       "      <td>3</td>\n",
       "      <td>2.25</td>\n",
       "      <td>2570</td>\n",
       "      <td>7242</td>\n",
       "      <td>2.0</td>\n",
       "      <td>0</td>\n",
       "      <td>0</td>\n",
       "      <td>...</td>\n",
       "      <td>47.7210</td>\n",
       "      <td>-122.319</td>\n",
       "      <td>1690</td>\n",
       "      <td>7639</td>\n",
       "      <td>13.195614</td>\n",
       "      <td>7.851661</td>\n",
       "      <td>7.682482</td>\n",
       "      <td>8.887653</td>\n",
       "      <td>8.941022</td>\n",
       "      <td>7.432484</td>\n",
       "    </tr>\n",
       "    <tr>\n",
       "      <th>2</th>\n",
       "      <td>5631500400</td>\n",
       "      <td>20150225T000000</td>\n",
       "      <td>180000.0</td>\n",
       "      <td>2</td>\n",
       "      <td>1.00</td>\n",
       "      <td>770</td>\n",
       "      <td>10000</td>\n",
       "      <td>1.0</td>\n",
       "      <td>0</td>\n",
       "      <td>0</td>\n",
       "      <td>...</td>\n",
       "      <td>47.7379</td>\n",
       "      <td>-122.233</td>\n",
       "      <td>2720</td>\n",
       "      <td>8062</td>\n",
       "      <td>12.100712</td>\n",
       "      <td>6.646391</td>\n",
       "      <td>6.646391</td>\n",
       "      <td>9.210340</td>\n",
       "      <td>8.994917</td>\n",
       "      <td>7.908387</td>\n",
       "    </tr>\n",
       "    <tr>\n",
       "      <th>3</th>\n",
       "      <td>2487200875</td>\n",
       "      <td>20141209T000000</td>\n",
       "      <td>604000.0</td>\n",
       "      <td>4</td>\n",
       "      <td>3.00</td>\n",
       "      <td>1960</td>\n",
       "      <td>5000</td>\n",
       "      <td>1.0</td>\n",
       "      <td>0</td>\n",
       "      <td>0</td>\n",
       "      <td>...</td>\n",
       "      <td>47.5208</td>\n",
       "      <td>-122.393</td>\n",
       "      <td>1360</td>\n",
       "      <td>5000</td>\n",
       "      <td>13.311329</td>\n",
       "      <td>7.580700</td>\n",
       "      <td>6.956545</td>\n",
       "      <td>8.517193</td>\n",
       "      <td>8.517193</td>\n",
       "      <td>7.215240</td>\n",
       "    </tr>\n",
       "    <tr>\n",
       "      <th>4</th>\n",
       "      <td>1954400510</td>\n",
       "      <td>20150218T000000</td>\n",
       "      <td>510000.0</td>\n",
       "      <td>3</td>\n",
       "      <td>2.00</td>\n",
       "      <td>1680</td>\n",
       "      <td>8080</td>\n",
       "      <td>1.0</td>\n",
       "      <td>0</td>\n",
       "      <td>0</td>\n",
       "      <td>...</td>\n",
       "      <td>47.6168</td>\n",
       "      <td>-122.045</td>\n",
       "      <td>1800</td>\n",
       "      <td>7503</td>\n",
       "      <td>13.142166</td>\n",
       "      <td>7.426549</td>\n",
       "      <td>7.426549</td>\n",
       "      <td>8.997147</td>\n",
       "      <td>8.923058</td>\n",
       "      <td>7.495542</td>\n",
       "    </tr>\n",
       "  </tbody>\n",
       "</table>\n",
       "<p>5 rows × 27 columns</p>\n",
       "</div>"
      ],
      "text/plain": [
       "           id             date     price  bedrooms  bathrooms  sqft_living  \\\n",
       "0  7129300520  20141013T000000  221900.0         3       1.00         1180   \n",
       "1  6414100192  20141209T000000  538000.0         3       2.25         2570   \n",
       "2  5631500400  20150225T000000  180000.0         2       1.00          770   \n",
       "3  2487200875  20141209T000000  604000.0         4       3.00         1960   \n",
       "4  1954400510  20150218T000000  510000.0         3       2.00         1680   \n",
       "\n",
       "   sqft_lot  floors  waterfront  view  ...      lat     long  sqft_living15  \\\n",
       "0      5650     1.0           0     0  ...  47.5112 -122.257           1340   \n",
       "1      7242     2.0           0     0  ...  47.7210 -122.319           1690   \n",
       "2     10000     1.0           0     0  ...  47.7379 -122.233           2720   \n",
       "3      5000     1.0           0     0  ...  47.5208 -122.393           1360   \n",
       "4      8080     1.0           0     0  ...  47.6168 -122.045           1800   \n",
       "\n",
       "   sqft_lot15  log_price  log_sqftliv  log_sqftabo  log_sqftlot  \\\n",
       "0        5650  12.309982     7.073270     7.073270     8.639411   \n",
       "1        7639  13.195614     7.851661     7.682482     8.887653   \n",
       "2        8062  12.100712     6.646391     6.646391     9.210340   \n",
       "3        5000  13.311329     7.580700     6.956545     8.517193   \n",
       "4        7503  13.142166     7.426549     7.426549     8.997147   \n",
       "\n",
       "   log_sqftlot15  log_sqftliv15  \n",
       "0       8.639411       7.200425  \n",
       "1       8.941022       7.432484  \n",
       "2       8.994917       7.908387  \n",
       "3       8.517193       7.215240  \n",
       "4       8.923058       7.495542  \n",
       "\n",
       "[5 rows x 27 columns]"
      ]
     },
     "execution_count": 65,
     "metadata": {},
     "output_type": "execute_result"
    }
   ],
   "source": [
    "kcpp.head()"
   ]
  },
  {
   "cell_type": "code",
   "execution_count": 66,
   "id": "d99cb6a7",
   "metadata": {},
   "outputs": [],
   "source": [
    "x=kcpp.drop(['id','log_price','price','date','zipcode','sqft_living','sqft_lot','sqft_above','sqft_living15', 'sqft_lot15'],axis=1)\n",
    "y=kcpp.log_price"
   ]
  },
  {
   "cell_type": "code",
   "execution_count": 67,
   "id": "bef03098",
   "metadata": {},
   "outputs": [
    {
     "data": {
      "text/plain": [
       "Index(['bedrooms', 'bathrooms', 'floors', 'waterfront', 'view', 'condition',\n",
       "       'grade', 'sqft_basement', 'yr_built', 'yr_renovated', 'lat', 'long',\n",
       "       'log_sqftliv', 'log_sqftabo', 'log_sqftlot', 'log_sqftlot15',\n",
       "       'log_sqftliv15'],\n",
       "      dtype='object')"
      ]
     },
     "execution_count": 67,
     "metadata": {},
     "output_type": "execute_result"
    }
   ],
   "source": [
    "x.columns"
   ]
  },
  {
   "cell_type": "code",
   "execution_count": 68,
   "id": "a20b60a1",
   "metadata": {},
   "outputs": [],
   "source": [
    "x_train,x_test,y_train,y_test=train_test_split(x,y,test_size=0.2,random_state=42)"
   ]
  },
  {
   "cell_type": "code",
   "execution_count": 69,
   "id": "72204dbb",
   "metadata": {},
   "outputs": [
    {
     "data": {
      "text/plain": [
       "(4323, 17)"
      ]
     },
     "execution_count": 69,
     "metadata": {},
     "output_type": "execute_result"
    }
   ],
   "source": [
    "x_test.shape"
   ]
  },
  {
   "cell_type": "code",
   "execution_count": 70,
   "id": "40e088cb",
   "metadata": {},
   "outputs": [],
   "source": [
    "x_train,x_valid,y_train,y_valid=train_test_split(x_train,y_train,test_size=0.25,random_state=42)"
   ]
  },
  {
   "cell_type": "code",
   "execution_count": 71,
   "id": "fe6c1db1",
   "metadata": {},
   "outputs": [
    {
     "data": {
      "text/plain": [
       "(12966,)"
      ]
     },
     "execution_count": 71,
     "metadata": {},
     "output_type": "execute_result"
    }
   ],
   "source": [
    "y_train.shape"
   ]
  },
  {
   "cell_type": "code",
   "execution_count": 72,
   "id": "9bc0c36d",
   "metadata": {},
   "outputs": [
    {
     "data": {
      "text/plain": [
       "(12966, 17)"
      ]
     },
     "execution_count": 72,
     "metadata": {},
     "output_type": "execute_result"
    }
   ],
   "source": [
    "x_train.shape"
   ]
  },
  {
   "cell_type": "code",
   "execution_count": 73,
   "id": "71c5e774",
   "metadata": {},
   "outputs": [],
   "source": [
    "#from sklearn.linear_model import LinearRegression"
   ]
  },
  {
   "cell_type": "code",
   "execution_count": 74,
   "id": "b65e08f7",
   "metadata": {},
   "outputs": [
    {
     "data": {
      "text/plain": [
       "LinearRegression()"
      ]
     },
     "execution_count": 74,
     "metadata": {},
     "output_type": "execute_result"
    }
   ],
   "source": [
    "linmod=LinearRegression()\n",
    "linmod"
   ]
  },
  {
   "cell_type": "code",
   "execution_count": 75,
   "id": "c536187d",
   "metadata": {},
   "outputs": [
    {
     "data": {
      "text/plain": [
       "LinearRegression()"
      ]
     },
     "execution_count": 75,
     "metadata": {},
     "output_type": "execute_result"
    }
   ],
   "source": [
    "linmod.fit(x_train,y_train)"
   ]
  },
  {
   "cell_type": "code",
   "execution_count": 76,
   "id": "760e96d6",
   "metadata": {},
   "outputs": [],
   "source": [
    "ytrain_predicted=linmod.predict(x_train)"
   ]
  },
  {
   "cell_type": "markdown",
   "id": "a3be2d16",
   "metadata": {},
   "source": [
    "### MAPE on Train data"
   ]
  },
  {
   "cell_type": "code",
   "execution_count": 77,
   "id": "4229885f",
   "metadata": {},
   "outputs": [
    {
     "data": {
      "text/plain": [
       "19.790546058252538"
      ]
     },
     "execution_count": 77,
     "metadata": {},
     "output_type": "execute_result"
    }
   ],
   "source": [
    "MAPE = np.mean(np.abs((np.exp(y_train) - np.exp(ytrain_predicted))/np.exp(y_train)))*100\n",
    "MAPE"
   ]
  },
  {
   "cell_type": "markdown",
   "id": "1cb5e516",
   "metadata": {},
   "source": [
    "### MAE on Train data"
   ]
  },
  {
   "cell_type": "code",
   "execution_count": 78,
   "id": "86ce2f8b",
   "metadata": {},
   "outputs": [
    {
     "data": {
      "text/plain": [
       "108197.78016548514"
      ]
     },
     "execution_count": 78,
     "metadata": {},
     "output_type": "execute_result"
    }
   ],
   "source": [
    "MAE = np.mean(np.abs(np.exp(y_train) - np.exp(ytrain_predicted)))\n",
    "MAE"
   ]
  },
  {
   "cell_type": "code",
   "execution_count": 79,
   "id": "e2438d18",
   "metadata": {},
   "outputs": [
    {
     "data": {
      "text/plain": [
       "array([12.65823416, 13.74632749, 13.01865619, ..., 13.00587905,\n",
       "       12.62400119, 12.79874188])"
      ]
     },
     "execution_count": 79,
     "metadata": {},
     "output_type": "execute_result"
    }
   ],
   "source": [
    "y_predicted=linmod.predict(x_valid)\n",
    "y_predicted"
   ]
  },
  {
   "cell_type": "code",
   "execution_count": 80,
   "id": "6bdcb6f7",
   "metadata": {},
   "outputs": [
    {
     "data": {
      "text/plain": [
       "0.7689728376765467"
      ]
     },
     "execution_count": 80,
     "metadata": {},
     "output_type": "execute_result"
    }
   ],
   "source": [
    "linmod.score(x_train, y_train)"
   ]
  },
  {
   "cell_type": "code",
   "execution_count": 81,
   "id": "f0edee12",
   "metadata": {},
   "outputs": [],
   "source": [
    "#import sklearn.model_selection as sm"
   ]
  },
  {
   "cell_type": "code",
   "execution_count": 82,
   "id": "a604fa6e",
   "metadata": {},
   "outputs": [
    {
     "data": {
      "text/plain": [
       "191173.06558538176"
      ]
     },
     "execution_count": 82,
     "metadata": {},
     "output_type": "execute_result"
    }
   ],
   "source": [
    "#from sklearn.metrics import mean_squared_error\n",
    "RMSE = np.sqrt(mean_squared_error(np.exp(y_valid),np.exp(y_predicted)))\n",
    "RMSE"
   ]
  },
  {
   "cell_type": "code",
   "execution_count": 83,
   "id": "9644a2af",
   "metadata": {},
   "outputs": [
    {
     "data": {
      "text/plain": [
       "19.672993646038332"
      ]
     },
     "execution_count": 83,
     "metadata": {},
     "output_type": "execute_result"
    }
   ],
   "source": [
    "MAPE = np.mean(np.abs((np.exp(y_valid) - np.exp(y_predicted))/np.exp(y_valid)))*100\n",
    "MAPE"
   ]
  },
  {
   "cell_type": "code",
   "execution_count": 84,
   "id": "9d5f64e2",
   "metadata": {},
   "outputs": [
    {
     "data": {
      "text/plain": [
       "109316.5884136906"
      ]
     },
     "execution_count": 84,
     "metadata": {},
     "output_type": "execute_result"
    }
   ],
   "source": [
    "MAE = np.mean(np.abs(np.exp(y_valid) - np.exp(y_predicted)))\n",
    "MAE"
   ]
  },
  {
   "cell_type": "code",
   "execution_count": 85,
   "id": "21b1a05f",
   "metadata": {},
   "outputs": [],
   "source": [
    "# from sklearn.metrics import r2_score\n",
    "# r2 = r2_score(np.exp(y_train),np.exp(y_predicted_train))*100\n",
    "# r2"
   ]
  },
  {
   "cell_type": "code",
   "execution_count": null,
   "id": "18b4f6a3",
   "metadata": {},
   "outputs": [],
   "source": []
  },
  {
   "cell_type": "markdown",
   "id": "87c46ed6",
   "metadata": {},
   "source": [
    "### MAPE on Train data"
   ]
  },
  {
   "cell_type": "code",
   "execution_count": 86,
   "id": "54374065",
   "metadata": {},
   "outputs": [
    {
     "data": {
      "text/plain": [
       "19.790546058252538"
      ]
     },
     "execution_count": 86,
     "metadata": {},
     "output_type": "execute_result"
    }
   ],
   "source": [
    "MAPE = np.mean(np.abs((np.exp(y_train) - np.exp(ytrain_predicted))/np.exp(y_train)))*100\n",
    "MAPE"
   ]
  },
  {
   "cell_type": "markdown",
   "id": "f329c90f",
   "metadata": {},
   "source": [
    "### MAE on Train data"
   ]
  },
  {
   "cell_type": "code",
   "execution_count": 87,
   "id": "7d50ff2d",
   "metadata": {},
   "outputs": [
    {
     "data": {
      "text/plain": [
       "108197.78016548514"
      ]
     },
     "execution_count": 87,
     "metadata": {},
     "output_type": "execute_result"
    }
   ],
   "source": [
    "MAE = np.mean(np.abs(np.exp(y_train) - np.exp(ytrain_predicted)))\n",
    "MAE"
   ]
  },
  {
   "cell_type": "code",
   "execution_count": 88,
   "id": "2d0a4c49",
   "metadata": {},
   "outputs": [
    {
     "data": {
      "text/plain": [
       "1853     12.254863\n",
       "1344     13.500735\n",
       "20510    13.235692\n",
       "4305     12.660328\n",
       "13014    12.807653\n",
       "           ...    \n",
       "5464     12.757080\n",
       "8674     12.890873\n",
       "13427    13.161584\n",
       "8173     12.498742\n",
       "20271    12.765660\n",
       "Name: log_price, Length: 4322, dtype: float64"
      ]
     },
     "execution_count": 88,
     "metadata": {},
     "output_type": "execute_result"
    }
   ],
   "source": [
    "y_valid\n"
   ]
  },
  {
   "cell_type": "code",
   "execution_count": 89,
   "id": "9d360639",
   "metadata": {},
   "outputs": [
    {
     "data": {
      "text/plain": [
       "array([12.65823416, 13.74632749, 13.01865619, ..., 13.00587905,\n",
       "       12.62400119, 12.79874188])"
      ]
     },
     "execution_count": 89,
     "metadata": {},
     "output_type": "execute_result"
    }
   ],
   "source": [
    "y_predicted=linmod.predict(x_valid)\n",
    "y_predicted"
   ]
  },
  {
   "cell_type": "code",
   "execution_count": 90,
   "id": "4ea29c88",
   "metadata": {},
   "outputs": [
    {
     "data": {
      "text/plain": [
       "0.767663305844094"
      ]
     },
     "execution_count": 90,
     "metadata": {},
     "output_type": "execute_result"
    }
   ],
   "source": [
    "linmod.score(x_valid, y_valid)"
   ]
  },
  {
   "cell_type": "code",
   "execution_count": 91,
   "id": "6d546ac7",
   "metadata": {},
   "outputs": [],
   "source": [
    "#import sklearn.model_selection as sm"
   ]
  },
  {
   "cell_type": "code",
   "execution_count": 92,
   "id": "6b964d19",
   "metadata": {},
   "outputs": [
    {
     "data": {
      "text/plain": [
       "191173.06558538176"
      ]
     },
     "execution_count": 92,
     "metadata": {},
     "output_type": "execute_result"
    }
   ],
   "source": [
    "#from sklearn.metrics import mean_squared_error\n",
    "RMSE = np.sqrt(mean_squared_error(np.exp(y_valid),np.exp(y_predicted)))\n",
    "RMSE"
   ]
  },
  {
   "cell_type": "code",
   "execution_count": 93,
   "id": "1257da64",
   "metadata": {},
   "outputs": [
    {
     "data": {
      "text/plain": [
       "19.672993646038332"
      ]
     },
     "execution_count": 93,
     "metadata": {},
     "output_type": "execute_result"
    }
   ],
   "source": [
    "MAPE = np.mean(np.abs((np.exp(y_valid) - np.exp(y_predicted))/np.exp(y_valid)))*100\n",
    "MAPE"
   ]
  },
  {
   "cell_type": "code",
   "execution_count": 94,
   "id": "c9773993",
   "metadata": {},
   "outputs": [
    {
     "data": {
      "text/plain": [
       "0.1949914174774086"
      ]
     },
     "execution_count": 94,
     "metadata": {},
     "output_type": "execute_result"
    }
   ],
   "source": [
    "MAE = np.mean(np.abs(y_valid - y_predicted))\n",
    "MAE"
   ]
  },
  {
   "cell_type": "code",
   "execution_count": 95,
   "id": "3b241e99",
   "metadata": {},
   "outputs": [],
   "source": [
    "# #from sklearn.metrics import r2_score\n",
    "# r2 = r2_score(np.exp(y_train),np.exp(y_predicted_train))*100\n",
    "# r2"
   ]
  },
  {
   "cell_type": "markdown",
   "id": "6f582db7",
   "metadata": {},
   "source": [
    "# Model 2:"
   ]
  },
  {
   "cell_type": "markdown",
   "id": "744c5e39",
   "metadata": {},
   "source": [
    "## Log & Square Transformation"
   ]
  },
  {
   "cell_type": "code",
   "execution_count": 96,
   "id": "99dbe498",
   "metadata": {},
   "outputs": [],
   "source": [
    "kcpp[\"log_price\"]=np.log(kcpp['price'])\n",
    "kcpp[\"log_sqftliv\"]=np.log(kcpp['sqft_living'])\n",
    "kcpp[\"log_sqftabo\"]=np.log(kcpp['sqft_above'])\n",
    "kcpp[\"log_sqftlot\"]=np.log(kcpp['sqft_lot'])\n",
    "kcpp[\"log_sqftlot15\"]=np.log(kcpp['sqft_lot15'])\n",
    "kcpp[\"log_sqftliv15\"]=np.log(kcpp['sqft_living15'])\n",
    "kcpp[\"sq_bedrooms\"]=(kcpp['bedrooms'])**2\n",
    "kcpp[\"sq_bathrooms\"]=(kcpp['bathrooms'])**2"
   ]
  },
  {
   "cell_type": "code",
   "execution_count": 97,
   "id": "d93bb352",
   "metadata": {
    "scrolled": false
   },
   "outputs": [
    {
     "data": {
      "text/html": [
       "<div>\n",
       "<style scoped>\n",
       "    .dataframe tbody tr th:only-of-type {\n",
       "        vertical-align: middle;\n",
       "    }\n",
       "\n",
       "    .dataframe tbody tr th {\n",
       "        vertical-align: top;\n",
       "    }\n",
       "\n",
       "    .dataframe thead th {\n",
       "        text-align: right;\n",
       "    }\n",
       "</style>\n",
       "<table border=\"1\" class=\"dataframe\">\n",
       "  <thead>\n",
       "    <tr style=\"text-align: right;\">\n",
       "      <th></th>\n",
       "      <th>id</th>\n",
       "      <th>date</th>\n",
       "      <th>price</th>\n",
       "      <th>bedrooms</th>\n",
       "      <th>bathrooms</th>\n",
       "      <th>sqft_living</th>\n",
       "      <th>sqft_lot</th>\n",
       "      <th>floors</th>\n",
       "      <th>waterfront</th>\n",
       "      <th>view</th>\n",
       "      <th>...</th>\n",
       "      <th>sqft_living15</th>\n",
       "      <th>sqft_lot15</th>\n",
       "      <th>log_price</th>\n",
       "      <th>log_sqftliv</th>\n",
       "      <th>log_sqftabo</th>\n",
       "      <th>log_sqftlot</th>\n",
       "      <th>log_sqftlot15</th>\n",
       "      <th>log_sqftliv15</th>\n",
       "      <th>sq_bedrooms</th>\n",
       "      <th>sq_bathrooms</th>\n",
       "    </tr>\n",
       "  </thead>\n",
       "  <tbody>\n",
       "    <tr>\n",
       "      <th>0</th>\n",
       "      <td>7129300520</td>\n",
       "      <td>20141013T000000</td>\n",
       "      <td>221900.0</td>\n",
       "      <td>3</td>\n",
       "      <td>1.00</td>\n",
       "      <td>1180</td>\n",
       "      <td>5650</td>\n",
       "      <td>1.0</td>\n",
       "      <td>0</td>\n",
       "      <td>0</td>\n",
       "      <td>...</td>\n",
       "      <td>1340</td>\n",
       "      <td>5650</td>\n",
       "      <td>12.309982</td>\n",
       "      <td>7.073270</td>\n",
       "      <td>7.073270</td>\n",
       "      <td>8.639411</td>\n",
       "      <td>8.639411</td>\n",
       "      <td>7.200425</td>\n",
       "      <td>9</td>\n",
       "      <td>1.0000</td>\n",
       "    </tr>\n",
       "    <tr>\n",
       "      <th>1</th>\n",
       "      <td>6414100192</td>\n",
       "      <td>20141209T000000</td>\n",
       "      <td>538000.0</td>\n",
       "      <td>3</td>\n",
       "      <td>2.25</td>\n",
       "      <td>2570</td>\n",
       "      <td>7242</td>\n",
       "      <td>2.0</td>\n",
       "      <td>0</td>\n",
       "      <td>0</td>\n",
       "      <td>...</td>\n",
       "      <td>1690</td>\n",
       "      <td>7639</td>\n",
       "      <td>13.195614</td>\n",
       "      <td>7.851661</td>\n",
       "      <td>7.682482</td>\n",
       "      <td>8.887653</td>\n",
       "      <td>8.941022</td>\n",
       "      <td>7.432484</td>\n",
       "      <td>9</td>\n",
       "      <td>5.0625</td>\n",
       "    </tr>\n",
       "    <tr>\n",
       "      <th>2</th>\n",
       "      <td>5631500400</td>\n",
       "      <td>20150225T000000</td>\n",
       "      <td>180000.0</td>\n",
       "      <td>2</td>\n",
       "      <td>1.00</td>\n",
       "      <td>770</td>\n",
       "      <td>10000</td>\n",
       "      <td>1.0</td>\n",
       "      <td>0</td>\n",
       "      <td>0</td>\n",
       "      <td>...</td>\n",
       "      <td>2720</td>\n",
       "      <td>8062</td>\n",
       "      <td>12.100712</td>\n",
       "      <td>6.646391</td>\n",
       "      <td>6.646391</td>\n",
       "      <td>9.210340</td>\n",
       "      <td>8.994917</td>\n",
       "      <td>7.908387</td>\n",
       "      <td>4</td>\n",
       "      <td>1.0000</td>\n",
       "    </tr>\n",
       "    <tr>\n",
       "      <th>3</th>\n",
       "      <td>2487200875</td>\n",
       "      <td>20141209T000000</td>\n",
       "      <td>604000.0</td>\n",
       "      <td>4</td>\n",
       "      <td>3.00</td>\n",
       "      <td>1960</td>\n",
       "      <td>5000</td>\n",
       "      <td>1.0</td>\n",
       "      <td>0</td>\n",
       "      <td>0</td>\n",
       "      <td>...</td>\n",
       "      <td>1360</td>\n",
       "      <td>5000</td>\n",
       "      <td>13.311329</td>\n",
       "      <td>7.580700</td>\n",
       "      <td>6.956545</td>\n",
       "      <td>8.517193</td>\n",
       "      <td>8.517193</td>\n",
       "      <td>7.215240</td>\n",
       "      <td>16</td>\n",
       "      <td>9.0000</td>\n",
       "    </tr>\n",
       "    <tr>\n",
       "      <th>4</th>\n",
       "      <td>1954400510</td>\n",
       "      <td>20150218T000000</td>\n",
       "      <td>510000.0</td>\n",
       "      <td>3</td>\n",
       "      <td>2.00</td>\n",
       "      <td>1680</td>\n",
       "      <td>8080</td>\n",
       "      <td>1.0</td>\n",
       "      <td>0</td>\n",
       "      <td>0</td>\n",
       "      <td>...</td>\n",
       "      <td>1800</td>\n",
       "      <td>7503</td>\n",
       "      <td>13.142166</td>\n",
       "      <td>7.426549</td>\n",
       "      <td>7.426549</td>\n",
       "      <td>8.997147</td>\n",
       "      <td>8.923058</td>\n",
       "      <td>7.495542</td>\n",
       "      <td>9</td>\n",
       "      <td>4.0000</td>\n",
       "    </tr>\n",
       "  </tbody>\n",
       "</table>\n",
       "<p>5 rows × 29 columns</p>\n",
       "</div>"
      ],
      "text/plain": [
       "           id             date     price  bedrooms  bathrooms  sqft_living  \\\n",
       "0  7129300520  20141013T000000  221900.0         3       1.00         1180   \n",
       "1  6414100192  20141209T000000  538000.0         3       2.25         2570   \n",
       "2  5631500400  20150225T000000  180000.0         2       1.00          770   \n",
       "3  2487200875  20141209T000000  604000.0         4       3.00         1960   \n",
       "4  1954400510  20150218T000000  510000.0         3       2.00         1680   \n",
       "\n",
       "   sqft_lot  floors  waterfront  view  ...  sqft_living15  sqft_lot15  \\\n",
       "0      5650     1.0           0     0  ...           1340        5650   \n",
       "1      7242     2.0           0     0  ...           1690        7639   \n",
       "2     10000     1.0           0     0  ...           2720        8062   \n",
       "3      5000     1.0           0     0  ...           1360        5000   \n",
       "4      8080     1.0           0     0  ...           1800        7503   \n",
       "\n",
       "   log_price  log_sqftliv  log_sqftabo  log_sqftlot  log_sqftlot15  \\\n",
       "0  12.309982     7.073270     7.073270     8.639411       8.639411   \n",
       "1  13.195614     7.851661     7.682482     8.887653       8.941022   \n",
       "2  12.100712     6.646391     6.646391     9.210340       8.994917   \n",
       "3  13.311329     7.580700     6.956545     8.517193       8.517193   \n",
       "4  13.142166     7.426549     7.426549     8.997147       8.923058   \n",
       "\n",
       "   log_sqftliv15  sq_bedrooms  sq_bathrooms  \n",
       "0       7.200425            9        1.0000  \n",
       "1       7.432484            9        5.0625  \n",
       "2       7.908387            4        1.0000  \n",
       "3       7.215240           16        9.0000  \n",
       "4       7.495542            9        4.0000  \n",
       "\n",
       "[5 rows x 29 columns]"
      ]
     },
     "execution_count": 97,
     "metadata": {},
     "output_type": "execute_result"
    }
   ],
   "source": [
    "kcpp.head()"
   ]
  },
  {
   "cell_type": "code",
   "execution_count": 98,
   "id": "e404b5a2",
   "metadata": {},
   "outputs": [],
   "source": [
    "x=kcpp.drop(['log_price','bathrooms',\"bedrooms\",'price','date','zipcode','sqft_living','sqft_lot','sqft_above','sqft_living15', 'sqft_lot15'],axis=1)\n",
    "y=kcpp.log_price"
   ]
  },
  {
   "cell_type": "code",
   "execution_count": 99,
   "id": "99562edd",
   "metadata": {},
   "outputs": [],
   "source": [
    "x_train,x_test,y_train,y_test=train_test_split(x,y,test_size=0.2,random_state=42)"
   ]
  },
  {
   "cell_type": "code",
   "execution_count": 100,
   "id": "72204dbb",
   "metadata": {},
   "outputs": [
    {
     "data": {
      "text/plain": [
       "(4323, 18)"
      ]
     },
     "execution_count": 100,
     "metadata": {},
     "output_type": "execute_result"
    }
   ],
   "source": [
    "x_test.shape"
   ]
  },
  {
   "cell_type": "code",
   "execution_count": 101,
   "id": "40e088cb",
   "metadata": {},
   "outputs": [],
   "source": [
    "x_train,x_valid,y_train,y_valid=train_test_split(x_train,y_train,test_size=0.25,random_state=42)"
   ]
  },
  {
   "cell_type": "code",
   "execution_count": 102,
   "id": "fe6c1db1",
   "metadata": {},
   "outputs": [
    {
     "data": {
      "text/plain": [
       "(12966,)"
      ]
     },
     "execution_count": 102,
     "metadata": {},
     "output_type": "execute_result"
    }
   ],
   "source": [
    "y_train.shape"
   ]
  },
  {
   "cell_type": "code",
   "execution_count": 103,
   "id": "9bc0c36d",
   "metadata": {},
   "outputs": [
    {
     "data": {
      "text/plain": [
       "(12966, 18)"
      ]
     },
     "execution_count": 103,
     "metadata": {},
     "output_type": "execute_result"
    }
   ],
   "source": [
    "x_train.shape"
   ]
  },
  {
   "cell_type": "code",
   "execution_count": 104,
   "id": "71c5e774",
   "metadata": {},
   "outputs": [],
   "source": [
    "#from sklearn.linear_model import LinearRegression"
   ]
  },
  {
   "cell_type": "code",
   "execution_count": 105,
   "id": "b65e08f7",
   "metadata": {},
   "outputs": [
    {
     "data": {
      "text/plain": [
       "LinearRegression()"
      ]
     },
     "execution_count": 105,
     "metadata": {},
     "output_type": "execute_result"
    }
   ],
   "source": [
    "linmod=LinearRegression()\n",
    "linmod"
   ]
  },
  {
   "cell_type": "code",
   "execution_count": 106,
   "id": "c536187d",
   "metadata": {},
   "outputs": [
    {
     "data": {
      "text/plain": [
       "LinearRegression()"
      ]
     },
     "execution_count": 106,
     "metadata": {},
     "output_type": "execute_result"
    }
   ],
   "source": [
    "linmod.fit(x_train,y_train)"
   ]
  },
  {
   "cell_type": "code",
   "execution_count": 107,
   "id": "760e96d6",
   "metadata": {},
   "outputs": [],
   "source": [
    "ytrain_predicted=linmod.predict(x_train)"
   ]
  },
  {
   "cell_type": "markdown",
   "id": "a3be2d16",
   "metadata": {},
   "source": [
    "### MAPE on Train data"
   ]
  },
  {
   "cell_type": "code",
   "execution_count": 108,
   "id": "4229885f",
   "metadata": {},
   "outputs": [
    {
     "data": {
      "text/plain": [
       "19.80054894629821"
      ]
     },
     "execution_count": 108,
     "metadata": {},
     "output_type": "execute_result"
    }
   ],
   "source": [
    "MAPE = np.mean(np.abs((np.exp(y_train) - np.exp(ytrain_predicted))/np.exp(y_train)))*100\n",
    "MAPE"
   ]
  },
  {
   "cell_type": "markdown",
   "id": "1cb5e516",
   "metadata": {},
   "source": [
    "### MAE on Train data"
   ]
  },
  {
   "cell_type": "code",
   "execution_count": 109,
   "id": "86ce2f8b",
   "metadata": {},
   "outputs": [
    {
     "data": {
      "text/plain": [
       "108373.92507157687"
      ]
     },
     "execution_count": 109,
     "metadata": {},
     "output_type": "execute_result"
    }
   ],
   "source": [
    "MAE = np.mean(np.abs(np.exp(y_train) - np.exp(ytrain_predicted)))\n",
    "MAE"
   ]
  },
  {
   "cell_type": "code",
   "execution_count": 110,
   "id": "e2438d18",
   "metadata": {},
   "outputs": [
    {
     "data": {
      "text/plain": [
       "array([12.66942714, 13.72779969, 13.01673274, ..., 13.03345683,\n",
       "       12.62069596, 12.79905145])"
      ]
     },
     "execution_count": 110,
     "metadata": {},
     "output_type": "execute_result"
    }
   ],
   "source": [
    "y_predicted=linmod.predict(x_valid)\n",
    "y_predicted"
   ]
  },
  {
   "cell_type": "code",
   "execution_count": 111,
   "id": "6bdcb6f7",
   "metadata": {},
   "outputs": [
    {
     "data": {
      "text/plain": [
       "0.7682913808651284"
      ]
     },
     "execution_count": 111,
     "metadata": {},
     "output_type": "execute_result"
    }
   ],
   "source": [
    "linmod.score(x_valid, y_valid)"
   ]
  },
  {
   "cell_type": "code",
   "execution_count": 112,
   "id": "f0edee12",
   "metadata": {},
   "outputs": [],
   "source": [
    "#import sklearn.model_selection as sm"
   ]
  },
  {
   "cell_type": "code",
   "execution_count": 113,
   "id": "a604fa6e",
   "metadata": {},
   "outputs": [
    {
     "data": {
      "text/plain": [
       "189629.89507423833"
      ]
     },
     "execution_count": 113,
     "metadata": {},
     "output_type": "execute_result"
    }
   ],
   "source": [
    "#from sklearn.metrics import mean_squared_error\n",
    "RMSE = np.sqrt(mean_squared_error(np.exp(y_valid),np.exp(y_predicted)))\n",
    "RMSE"
   ]
  },
  {
   "cell_type": "code",
   "execution_count": 114,
   "id": "9644a2af",
   "metadata": {},
   "outputs": [
    {
     "data": {
      "text/plain": [
       "19.65069683008159"
      ]
     },
     "execution_count": 114,
     "metadata": {},
     "output_type": "execute_result"
    }
   ],
   "source": [
    "MAPE = np.mean(np.abs((np.exp(y_valid) - np.exp(y_predicted))/np.exp(y_valid)))*100\n",
    "MAPE"
   ]
  },
  {
   "cell_type": "code",
   "execution_count": 115,
   "id": "9d5f64e2",
   "metadata": {},
   "outputs": [
    {
     "data": {
      "text/plain": [
       "109092.9097424734"
      ]
     },
     "execution_count": 115,
     "metadata": {},
     "output_type": "execute_result"
    }
   ],
   "source": [
    "MAE = np.mean(np.abs(np.exp(y_valid) - np.exp(y_predicted)))\n",
    "MAE"
   ]
  },
  {
   "cell_type": "code",
   "execution_count": 116,
   "id": "21b1a05f",
   "metadata": {},
   "outputs": [],
   "source": [
    "# #from sklearn.metrics import r2_score\n",
    "# r2 = r2_score(np.exp(y_train),np.exp(y_predicted_train))*100\n",
    "# r2"
   ]
  },
  {
   "cell_type": "code",
   "execution_count": 117,
   "id": "1a659cb3",
   "metadata": {},
   "outputs": [
    {
     "data": {
      "text/plain": [
       "0.7691552908507044"
      ]
     },
     "execution_count": 117,
     "metadata": {},
     "output_type": "execute_result"
    }
   ],
   "source": [
    "linmod.score(x_train, y_train)"
   ]
  },
  {
   "cell_type": "markdown",
   "id": "76395273",
   "metadata": {},
   "source": [
    "# Model 3:"
   ]
  },
  {
   "cell_type": "markdown",
   "id": "e1724451",
   "metadata": {},
   "source": [
    "## Log & Square Transformation by adding new variable"
   ]
  },
  {
   "cell_type": "code",
   "execution_count": 118,
   "id": "8363293a",
   "metadata": {},
   "outputs": [],
   "source": [
    "kcpp[\"log_price\"]=np.log(kcpp['price'])\n",
    "kcpp[\"log_sqftliv\"]=np.log(kcpp['sqft_living'])\n",
    "kcpp[\"log_sqftabo\"]=np.log(kcpp['sqft_above'])\n",
    "kcpp[\"log_sqftlot\"]=np.log(kcpp['sqft_lot'])\n",
    "kcpp[\"log_sqftlot15\"]=np.log(kcpp['sqft_lot15'])\n",
    "kcpp[\"log_sqftliv15\"]=np.log(kcpp['sqft_living15'])\n",
    "kcpp[\"sq_bedrooms\"]=(kcpp['bedrooms'])**2\n",
    "kcpp[\"sq_bathrooms\"]=(kcpp['bathrooms'])**2\n",
    "kcpp[\"log_yr_built\"]=np.log(kcpp['yr_built'])"
   ]
  },
  {
   "cell_type": "code",
   "execution_count": 119,
   "id": "14091284",
   "metadata": {},
   "outputs": [
    {
     "data": {
      "text/html": [
       "<div>\n",
       "<style scoped>\n",
       "    .dataframe tbody tr th:only-of-type {\n",
       "        vertical-align: middle;\n",
       "    }\n",
       "\n",
       "    .dataframe tbody tr th {\n",
       "        vertical-align: top;\n",
       "    }\n",
       "\n",
       "    .dataframe thead th {\n",
       "        text-align: right;\n",
       "    }\n",
       "</style>\n",
       "<table border=\"1\" class=\"dataframe\">\n",
       "  <thead>\n",
       "    <tr style=\"text-align: right;\">\n",
       "      <th></th>\n",
       "      <th>id</th>\n",
       "      <th>date</th>\n",
       "      <th>price</th>\n",
       "      <th>bedrooms</th>\n",
       "      <th>bathrooms</th>\n",
       "      <th>sqft_living</th>\n",
       "      <th>sqft_lot</th>\n",
       "      <th>floors</th>\n",
       "      <th>waterfront</th>\n",
       "      <th>view</th>\n",
       "      <th>...</th>\n",
       "      <th>sqft_lot15</th>\n",
       "      <th>log_price</th>\n",
       "      <th>log_sqftliv</th>\n",
       "      <th>log_sqftabo</th>\n",
       "      <th>log_sqftlot</th>\n",
       "      <th>log_sqftlot15</th>\n",
       "      <th>log_sqftliv15</th>\n",
       "      <th>sq_bedrooms</th>\n",
       "      <th>sq_bathrooms</th>\n",
       "      <th>log_yr_built</th>\n",
       "    </tr>\n",
       "  </thead>\n",
       "  <tbody>\n",
       "    <tr>\n",
       "      <th>0</th>\n",
       "      <td>7129300520</td>\n",
       "      <td>20141013T000000</td>\n",
       "      <td>221900.0</td>\n",
       "      <td>3</td>\n",
       "      <td>1.00</td>\n",
       "      <td>1180</td>\n",
       "      <td>5650</td>\n",
       "      <td>1.0</td>\n",
       "      <td>0</td>\n",
       "      <td>0</td>\n",
       "      <td>...</td>\n",
       "      <td>5650</td>\n",
       "      <td>12.309982</td>\n",
       "      <td>7.073270</td>\n",
       "      <td>7.073270</td>\n",
       "      <td>8.639411</td>\n",
       "      <td>8.639411</td>\n",
       "      <td>7.200425</td>\n",
       "      <td>9</td>\n",
       "      <td>1.0000</td>\n",
       "      <td>7.578145</td>\n",
       "    </tr>\n",
       "    <tr>\n",
       "      <th>1</th>\n",
       "      <td>6414100192</td>\n",
       "      <td>20141209T000000</td>\n",
       "      <td>538000.0</td>\n",
       "      <td>3</td>\n",
       "      <td>2.25</td>\n",
       "      <td>2570</td>\n",
       "      <td>7242</td>\n",
       "      <td>2.0</td>\n",
       "      <td>0</td>\n",
       "      <td>0</td>\n",
       "      <td>...</td>\n",
       "      <td>7639</td>\n",
       "      <td>13.195614</td>\n",
       "      <td>7.851661</td>\n",
       "      <td>7.682482</td>\n",
       "      <td>8.887653</td>\n",
       "      <td>8.941022</td>\n",
       "      <td>7.432484</td>\n",
       "      <td>9</td>\n",
       "      <td>5.0625</td>\n",
       "      <td>7.576097</td>\n",
       "    </tr>\n",
       "    <tr>\n",
       "      <th>2</th>\n",
       "      <td>5631500400</td>\n",
       "      <td>20150225T000000</td>\n",
       "      <td>180000.0</td>\n",
       "      <td>2</td>\n",
       "      <td>1.00</td>\n",
       "      <td>770</td>\n",
       "      <td>10000</td>\n",
       "      <td>1.0</td>\n",
       "      <td>0</td>\n",
       "      <td>0</td>\n",
       "      <td>...</td>\n",
       "      <td>8062</td>\n",
       "      <td>12.100712</td>\n",
       "      <td>6.646391</td>\n",
       "      <td>6.646391</td>\n",
       "      <td>9.210340</td>\n",
       "      <td>8.994917</td>\n",
       "      <td>7.908387</td>\n",
       "      <td>4</td>\n",
       "      <td>1.0000</td>\n",
       "      <td>7.566828</td>\n",
       "    </tr>\n",
       "    <tr>\n",
       "      <th>3</th>\n",
       "      <td>2487200875</td>\n",
       "      <td>20141209T000000</td>\n",
       "      <td>604000.0</td>\n",
       "      <td>4</td>\n",
       "      <td>3.00</td>\n",
       "      <td>1960</td>\n",
       "      <td>5000</td>\n",
       "      <td>1.0</td>\n",
       "      <td>0</td>\n",
       "      <td>0</td>\n",
       "      <td>...</td>\n",
       "      <td>5000</td>\n",
       "      <td>13.311329</td>\n",
       "      <td>7.580700</td>\n",
       "      <td>6.956545</td>\n",
       "      <td>8.517193</td>\n",
       "      <td>8.517193</td>\n",
       "      <td>7.215240</td>\n",
       "      <td>16</td>\n",
       "      <td>9.0000</td>\n",
       "      <td>7.583248</td>\n",
       "    </tr>\n",
       "    <tr>\n",
       "      <th>4</th>\n",
       "      <td>1954400510</td>\n",
       "      <td>20150218T000000</td>\n",
       "      <td>510000.0</td>\n",
       "      <td>3</td>\n",
       "      <td>2.00</td>\n",
       "      <td>1680</td>\n",
       "      <td>8080</td>\n",
       "      <td>1.0</td>\n",
       "      <td>0</td>\n",
       "      <td>0</td>\n",
       "      <td>...</td>\n",
       "      <td>7503</td>\n",
       "      <td>13.142166</td>\n",
       "      <td>7.426549</td>\n",
       "      <td>7.426549</td>\n",
       "      <td>8.997147</td>\n",
       "      <td>8.923058</td>\n",
       "      <td>7.495542</td>\n",
       "      <td>9</td>\n",
       "      <td>4.0000</td>\n",
       "      <td>7.594381</td>\n",
       "    </tr>\n",
       "    <tr>\n",
       "      <th>...</th>\n",
       "      <td>...</td>\n",
       "      <td>...</td>\n",
       "      <td>...</td>\n",
       "      <td>...</td>\n",
       "      <td>...</td>\n",
       "      <td>...</td>\n",
       "      <td>...</td>\n",
       "      <td>...</td>\n",
       "      <td>...</td>\n",
       "      <td>...</td>\n",
       "      <td>...</td>\n",
       "      <td>...</td>\n",
       "      <td>...</td>\n",
       "      <td>...</td>\n",
       "      <td>...</td>\n",
       "      <td>...</td>\n",
       "      <td>...</td>\n",
       "      <td>...</td>\n",
       "      <td>...</td>\n",
       "      <td>...</td>\n",
       "      <td>...</td>\n",
       "    </tr>\n",
       "    <tr>\n",
       "      <th>21608</th>\n",
       "      <td>263000018</td>\n",
       "      <td>20140521T000000</td>\n",
       "      <td>360000.0</td>\n",
       "      <td>3</td>\n",
       "      <td>2.50</td>\n",
       "      <td>1530</td>\n",
       "      <td>1131</td>\n",
       "      <td>3.0</td>\n",
       "      <td>0</td>\n",
       "      <td>0</td>\n",
       "      <td>...</td>\n",
       "      <td>1509</td>\n",
       "      <td>12.793859</td>\n",
       "      <td>7.333023</td>\n",
       "      <td>7.333023</td>\n",
       "      <td>7.030857</td>\n",
       "      <td>7.319202</td>\n",
       "      <td>7.333023</td>\n",
       "      <td>9</td>\n",
       "      <td>6.2500</td>\n",
       "      <td>7.605392</td>\n",
       "    </tr>\n",
       "    <tr>\n",
       "      <th>21609</th>\n",
       "      <td>6600060120</td>\n",
       "      <td>20150223T000000</td>\n",
       "      <td>400000.0</td>\n",
       "      <td>4</td>\n",
       "      <td>2.50</td>\n",
       "      <td>2310</td>\n",
       "      <td>5813</td>\n",
       "      <td>2.0</td>\n",
       "      <td>0</td>\n",
       "      <td>0</td>\n",
       "      <td>...</td>\n",
       "      <td>7200</td>\n",
       "      <td>12.899220</td>\n",
       "      <td>7.745003</td>\n",
       "      <td>7.745003</td>\n",
       "      <td>8.667852</td>\n",
       "      <td>8.881836</td>\n",
       "      <td>7.512071</td>\n",
       "      <td>16</td>\n",
       "      <td>6.2500</td>\n",
       "      <td>7.607878</td>\n",
       "    </tr>\n",
       "    <tr>\n",
       "      <th>21610</th>\n",
       "      <td>1523300141</td>\n",
       "      <td>20140623T000000</td>\n",
       "      <td>402101.0</td>\n",
       "      <td>2</td>\n",
       "      <td>0.75</td>\n",
       "      <td>1020</td>\n",
       "      <td>1350</td>\n",
       "      <td>2.0</td>\n",
       "      <td>0</td>\n",
       "      <td>0</td>\n",
       "      <td>...</td>\n",
       "      <td>2007</td>\n",
       "      <td>12.904459</td>\n",
       "      <td>6.927558</td>\n",
       "      <td>6.927558</td>\n",
       "      <td>7.207860</td>\n",
       "      <td>7.604396</td>\n",
       "      <td>6.927558</td>\n",
       "      <td>4</td>\n",
       "      <td>0.5625</td>\n",
       "      <td>7.605392</td>\n",
       "    </tr>\n",
       "    <tr>\n",
       "      <th>21611</th>\n",
       "      <td>291310100</td>\n",
       "      <td>20150116T000000</td>\n",
       "      <td>400000.0</td>\n",
       "      <td>3</td>\n",
       "      <td>2.50</td>\n",
       "      <td>1600</td>\n",
       "      <td>2388</td>\n",
       "      <td>2.0</td>\n",
       "      <td>0</td>\n",
       "      <td>0</td>\n",
       "      <td>...</td>\n",
       "      <td>1287</td>\n",
       "      <td>12.899220</td>\n",
       "      <td>7.377759</td>\n",
       "      <td>7.377759</td>\n",
       "      <td>7.778211</td>\n",
       "      <td>7.160069</td>\n",
       "      <td>7.251345</td>\n",
       "      <td>9</td>\n",
       "      <td>6.2500</td>\n",
       "      <td>7.602900</td>\n",
       "    </tr>\n",
       "    <tr>\n",
       "      <th>21612</th>\n",
       "      <td>1523300157</td>\n",
       "      <td>20141015T000000</td>\n",
       "      <td>325000.0</td>\n",
       "      <td>2</td>\n",
       "      <td>0.75</td>\n",
       "      <td>1020</td>\n",
       "      <td>1076</td>\n",
       "      <td>2.0</td>\n",
       "      <td>0</td>\n",
       "      <td>0</td>\n",
       "      <td>...</td>\n",
       "      <td>1357</td>\n",
       "      <td>12.691580</td>\n",
       "      <td>6.927558</td>\n",
       "      <td>6.927558</td>\n",
       "      <td>6.981006</td>\n",
       "      <td>7.213032</td>\n",
       "      <td>6.927558</td>\n",
       "      <td>4</td>\n",
       "      <td>0.5625</td>\n",
       "      <td>7.604894</td>\n",
       "    </tr>\n",
       "  </tbody>\n",
       "</table>\n",
       "<p>21611 rows × 30 columns</p>\n",
       "</div>"
      ],
      "text/plain": [
       "               id             date     price  bedrooms  bathrooms  \\\n",
       "0      7129300520  20141013T000000  221900.0         3       1.00   \n",
       "1      6414100192  20141209T000000  538000.0         3       2.25   \n",
       "2      5631500400  20150225T000000  180000.0         2       1.00   \n",
       "3      2487200875  20141209T000000  604000.0         4       3.00   \n",
       "4      1954400510  20150218T000000  510000.0         3       2.00   \n",
       "...           ...              ...       ...       ...        ...   \n",
       "21608   263000018  20140521T000000  360000.0         3       2.50   \n",
       "21609  6600060120  20150223T000000  400000.0         4       2.50   \n",
       "21610  1523300141  20140623T000000  402101.0         2       0.75   \n",
       "21611   291310100  20150116T000000  400000.0         3       2.50   \n",
       "21612  1523300157  20141015T000000  325000.0         2       0.75   \n",
       "\n",
       "       sqft_living  sqft_lot  floors  waterfront  view  ...  sqft_lot15  \\\n",
       "0             1180      5650     1.0           0     0  ...        5650   \n",
       "1             2570      7242     2.0           0     0  ...        7639   \n",
       "2              770     10000     1.0           0     0  ...        8062   \n",
       "3             1960      5000     1.0           0     0  ...        5000   \n",
       "4             1680      8080     1.0           0     0  ...        7503   \n",
       "...            ...       ...     ...         ...   ...  ...         ...   \n",
       "21608         1530      1131     3.0           0     0  ...        1509   \n",
       "21609         2310      5813     2.0           0     0  ...        7200   \n",
       "21610         1020      1350     2.0           0     0  ...        2007   \n",
       "21611         1600      2388     2.0           0     0  ...        1287   \n",
       "21612         1020      1076     2.0           0     0  ...        1357   \n",
       "\n",
       "       log_price  log_sqftliv  log_sqftabo  log_sqftlot  log_sqftlot15  \\\n",
       "0      12.309982     7.073270     7.073270     8.639411       8.639411   \n",
       "1      13.195614     7.851661     7.682482     8.887653       8.941022   \n",
       "2      12.100712     6.646391     6.646391     9.210340       8.994917   \n",
       "3      13.311329     7.580700     6.956545     8.517193       8.517193   \n",
       "4      13.142166     7.426549     7.426549     8.997147       8.923058   \n",
       "...          ...          ...          ...          ...            ...   \n",
       "21608  12.793859     7.333023     7.333023     7.030857       7.319202   \n",
       "21609  12.899220     7.745003     7.745003     8.667852       8.881836   \n",
       "21610  12.904459     6.927558     6.927558     7.207860       7.604396   \n",
       "21611  12.899220     7.377759     7.377759     7.778211       7.160069   \n",
       "21612  12.691580     6.927558     6.927558     6.981006       7.213032   \n",
       "\n",
       "       log_sqftliv15  sq_bedrooms  sq_bathrooms  log_yr_built  \n",
       "0           7.200425            9        1.0000      7.578145  \n",
       "1           7.432484            9        5.0625      7.576097  \n",
       "2           7.908387            4        1.0000      7.566828  \n",
       "3           7.215240           16        9.0000      7.583248  \n",
       "4           7.495542            9        4.0000      7.594381  \n",
       "...              ...          ...           ...           ...  \n",
       "21608       7.333023            9        6.2500      7.605392  \n",
       "21609       7.512071           16        6.2500      7.607878  \n",
       "21610       6.927558            4        0.5625      7.605392  \n",
       "21611       7.251345            9        6.2500      7.602900  \n",
       "21612       6.927558            4        0.5625      7.604894  \n",
       "\n",
       "[21611 rows x 30 columns]"
      ]
     },
     "execution_count": 119,
     "metadata": {},
     "output_type": "execute_result"
    }
   ],
   "source": [
    "kcpp"
   ]
  },
  {
   "cell_type": "code",
   "execution_count": 120,
   "id": "5ba6e9c6",
   "metadata": {
    "scrolled": false
   },
   "outputs": [
    {
     "data": {
      "text/html": [
       "<div>\n",
       "<style scoped>\n",
       "    .dataframe tbody tr th:only-of-type {\n",
       "        vertical-align: middle;\n",
       "    }\n",
       "\n",
       "    .dataframe tbody tr th {\n",
       "        vertical-align: top;\n",
       "    }\n",
       "\n",
       "    .dataframe thead th {\n",
       "        text-align: right;\n",
       "    }\n",
       "</style>\n",
       "<table border=\"1\" class=\"dataframe\">\n",
       "  <thead>\n",
       "    <tr style=\"text-align: right;\">\n",
       "      <th></th>\n",
       "      <th>id</th>\n",
       "      <th>date</th>\n",
       "      <th>price</th>\n",
       "      <th>bedrooms</th>\n",
       "      <th>bathrooms</th>\n",
       "      <th>sqft_living</th>\n",
       "      <th>sqft_lot</th>\n",
       "      <th>floors</th>\n",
       "      <th>waterfront</th>\n",
       "      <th>view</th>\n",
       "      <th>...</th>\n",
       "      <th>sqft_lot15</th>\n",
       "      <th>log_price</th>\n",
       "      <th>log_sqftliv</th>\n",
       "      <th>log_sqftabo</th>\n",
       "      <th>log_sqftlot</th>\n",
       "      <th>log_sqftlot15</th>\n",
       "      <th>log_sqftliv15</th>\n",
       "      <th>sq_bedrooms</th>\n",
       "      <th>sq_bathrooms</th>\n",
       "      <th>log_yr_built</th>\n",
       "    </tr>\n",
       "  </thead>\n",
       "  <tbody>\n",
       "    <tr>\n",
       "      <th>0</th>\n",
       "      <td>7129300520</td>\n",
       "      <td>20141013T000000</td>\n",
       "      <td>221900.0</td>\n",
       "      <td>3</td>\n",
       "      <td>1.00</td>\n",
       "      <td>1180</td>\n",
       "      <td>5650</td>\n",
       "      <td>1.0</td>\n",
       "      <td>0</td>\n",
       "      <td>0</td>\n",
       "      <td>...</td>\n",
       "      <td>5650</td>\n",
       "      <td>12.309982</td>\n",
       "      <td>7.073270</td>\n",
       "      <td>7.073270</td>\n",
       "      <td>8.639411</td>\n",
       "      <td>8.639411</td>\n",
       "      <td>7.200425</td>\n",
       "      <td>9</td>\n",
       "      <td>1.0000</td>\n",
       "      <td>7.578145</td>\n",
       "    </tr>\n",
       "    <tr>\n",
       "      <th>1</th>\n",
       "      <td>6414100192</td>\n",
       "      <td>20141209T000000</td>\n",
       "      <td>538000.0</td>\n",
       "      <td>3</td>\n",
       "      <td>2.25</td>\n",
       "      <td>2570</td>\n",
       "      <td>7242</td>\n",
       "      <td>2.0</td>\n",
       "      <td>0</td>\n",
       "      <td>0</td>\n",
       "      <td>...</td>\n",
       "      <td>7639</td>\n",
       "      <td>13.195614</td>\n",
       "      <td>7.851661</td>\n",
       "      <td>7.682482</td>\n",
       "      <td>8.887653</td>\n",
       "      <td>8.941022</td>\n",
       "      <td>7.432484</td>\n",
       "      <td>9</td>\n",
       "      <td>5.0625</td>\n",
       "      <td>7.576097</td>\n",
       "    </tr>\n",
       "    <tr>\n",
       "      <th>2</th>\n",
       "      <td>5631500400</td>\n",
       "      <td>20150225T000000</td>\n",
       "      <td>180000.0</td>\n",
       "      <td>2</td>\n",
       "      <td>1.00</td>\n",
       "      <td>770</td>\n",
       "      <td>10000</td>\n",
       "      <td>1.0</td>\n",
       "      <td>0</td>\n",
       "      <td>0</td>\n",
       "      <td>...</td>\n",
       "      <td>8062</td>\n",
       "      <td>12.100712</td>\n",
       "      <td>6.646391</td>\n",
       "      <td>6.646391</td>\n",
       "      <td>9.210340</td>\n",
       "      <td>8.994917</td>\n",
       "      <td>7.908387</td>\n",
       "      <td>4</td>\n",
       "      <td>1.0000</td>\n",
       "      <td>7.566828</td>\n",
       "    </tr>\n",
       "    <tr>\n",
       "      <th>3</th>\n",
       "      <td>2487200875</td>\n",
       "      <td>20141209T000000</td>\n",
       "      <td>604000.0</td>\n",
       "      <td>4</td>\n",
       "      <td>3.00</td>\n",
       "      <td>1960</td>\n",
       "      <td>5000</td>\n",
       "      <td>1.0</td>\n",
       "      <td>0</td>\n",
       "      <td>0</td>\n",
       "      <td>...</td>\n",
       "      <td>5000</td>\n",
       "      <td>13.311329</td>\n",
       "      <td>7.580700</td>\n",
       "      <td>6.956545</td>\n",
       "      <td>8.517193</td>\n",
       "      <td>8.517193</td>\n",
       "      <td>7.215240</td>\n",
       "      <td>16</td>\n",
       "      <td>9.0000</td>\n",
       "      <td>7.583248</td>\n",
       "    </tr>\n",
       "    <tr>\n",
       "      <th>4</th>\n",
       "      <td>1954400510</td>\n",
       "      <td>20150218T000000</td>\n",
       "      <td>510000.0</td>\n",
       "      <td>3</td>\n",
       "      <td>2.00</td>\n",
       "      <td>1680</td>\n",
       "      <td>8080</td>\n",
       "      <td>1.0</td>\n",
       "      <td>0</td>\n",
       "      <td>0</td>\n",
       "      <td>...</td>\n",
       "      <td>7503</td>\n",
       "      <td>13.142166</td>\n",
       "      <td>7.426549</td>\n",
       "      <td>7.426549</td>\n",
       "      <td>8.997147</td>\n",
       "      <td>8.923058</td>\n",
       "      <td>7.495542</td>\n",
       "      <td>9</td>\n",
       "      <td>4.0000</td>\n",
       "      <td>7.594381</td>\n",
       "    </tr>\n",
       "  </tbody>\n",
       "</table>\n",
       "<p>5 rows × 30 columns</p>\n",
       "</div>"
      ],
      "text/plain": [
       "           id             date     price  bedrooms  bathrooms  sqft_living  \\\n",
       "0  7129300520  20141013T000000  221900.0         3       1.00         1180   \n",
       "1  6414100192  20141209T000000  538000.0         3       2.25         2570   \n",
       "2  5631500400  20150225T000000  180000.0         2       1.00          770   \n",
       "3  2487200875  20141209T000000  604000.0         4       3.00         1960   \n",
       "4  1954400510  20150218T000000  510000.0         3       2.00         1680   \n",
       "\n",
       "   sqft_lot  floors  waterfront  view  ...  sqft_lot15  log_price  \\\n",
       "0      5650     1.0           0     0  ...        5650  12.309982   \n",
       "1      7242     2.0           0     0  ...        7639  13.195614   \n",
       "2     10000     1.0           0     0  ...        8062  12.100712   \n",
       "3      5000     1.0           0     0  ...        5000  13.311329   \n",
       "4      8080     1.0           0     0  ...        7503  13.142166   \n",
       "\n",
       "   log_sqftliv  log_sqftabo  log_sqftlot  log_sqftlot15  log_sqftliv15  \\\n",
       "0     7.073270     7.073270     8.639411       8.639411       7.200425   \n",
       "1     7.851661     7.682482     8.887653       8.941022       7.432484   \n",
       "2     6.646391     6.646391     9.210340       8.994917       7.908387   \n",
       "3     7.580700     6.956545     8.517193       8.517193       7.215240   \n",
       "4     7.426549     7.426549     8.997147       8.923058       7.495542   \n",
       "\n",
       "   sq_bedrooms  sq_bathrooms  log_yr_built  \n",
       "0            9        1.0000      7.578145  \n",
       "1            9        5.0625      7.576097  \n",
       "2            4        1.0000      7.566828  \n",
       "3           16        9.0000      7.583248  \n",
       "4            9        4.0000      7.594381  \n",
       "\n",
       "[5 rows x 30 columns]"
      ]
     },
     "execution_count": 120,
     "metadata": {},
     "output_type": "execute_result"
    }
   ],
   "source": [
    "kcpp.head()"
   ]
  },
  {
   "cell_type": "code",
   "execution_count": 121,
   "id": "4239d50b",
   "metadata": {},
   "outputs": [
    {
     "data": {
      "text/plain": [
       "Index(['id', 'date', 'price', 'bedrooms', 'bathrooms', 'sqft_living',\n",
       "       'sqft_lot', 'floors', 'waterfront', 'view', 'condition', 'grade',\n",
       "       'sqft_above', 'sqft_basement', 'yr_built', 'yr_renovated', 'zipcode',\n",
       "       'lat', 'long', 'sqft_living15', 'sqft_lot15', 'log_price',\n",
       "       'log_sqftliv', 'log_sqftabo', 'log_sqftlot', 'log_sqftlot15',\n",
       "       'log_sqftliv15', 'sq_bedrooms', 'sq_bathrooms', 'log_yr_built'],\n",
       "      dtype='object')"
      ]
     },
     "execution_count": 121,
     "metadata": {},
     "output_type": "execute_result"
    }
   ],
   "source": [
    "kcpp.columns"
   ]
  },
  {
   "cell_type": "code",
   "execution_count": 122,
   "id": "82c6b98f",
   "metadata": {},
   "outputs": [],
   "source": [
    "x=kcpp.drop(['log_price','yr_built','bathrooms',\"bedrooms\",'price','date','zipcode','sqft_living','sqft_lot','sqft_above','sqft_living15', 'sqft_lot15'],axis=1)\n",
    "y=kcpp.log_price"
   ]
  },
  {
   "cell_type": "code",
   "execution_count": 123,
   "id": "a20b60a1",
   "metadata": {},
   "outputs": [],
   "source": [
    "x_train,x_test,y_train,y_test=train_test_split(x,y,test_size=0.2,random_state=42)"
   ]
  },
  {
   "cell_type": "code",
   "execution_count": 124,
   "id": "72204dbb",
   "metadata": {},
   "outputs": [
    {
     "data": {
      "text/plain": [
       "(4323, 18)"
      ]
     },
     "execution_count": 124,
     "metadata": {},
     "output_type": "execute_result"
    }
   ],
   "source": [
    "x_test.shape"
   ]
  },
  {
   "cell_type": "code",
   "execution_count": 125,
   "id": "40e088cb",
   "metadata": {},
   "outputs": [],
   "source": [
    "x_train,x_valid,y_train,y_valid=train_test_split(x_train,y_train,test_size=0.25,random_state=42)"
   ]
  },
  {
   "cell_type": "code",
   "execution_count": 126,
   "id": "fe6c1db1",
   "metadata": {},
   "outputs": [
    {
     "data": {
      "text/plain": [
       "(12966,)"
      ]
     },
     "execution_count": 126,
     "metadata": {},
     "output_type": "execute_result"
    }
   ],
   "source": [
    "y_train.shape"
   ]
  },
  {
   "cell_type": "code",
   "execution_count": 127,
   "id": "9bc0c36d",
   "metadata": {},
   "outputs": [
    {
     "data": {
      "text/plain": [
       "(12966, 18)"
      ]
     },
     "execution_count": 127,
     "metadata": {},
     "output_type": "execute_result"
    }
   ],
   "source": [
    "x_train.shape"
   ]
  },
  {
   "cell_type": "code",
   "execution_count": 128,
   "id": "71c5e774",
   "metadata": {},
   "outputs": [],
   "source": [
    "#from sklearn.linear_model import LinearRegression"
   ]
  },
  {
   "cell_type": "code",
   "execution_count": 129,
   "id": "b65e08f7",
   "metadata": {},
   "outputs": [
    {
     "data": {
      "text/plain": [
       "LinearRegression()"
      ]
     },
     "execution_count": 129,
     "metadata": {},
     "output_type": "execute_result"
    }
   ],
   "source": [
    "linmod=LinearRegression()\n",
    "linmod"
   ]
  },
  {
   "cell_type": "code",
   "execution_count": 130,
   "id": "c536187d",
   "metadata": {},
   "outputs": [
    {
     "data": {
      "text/plain": [
       "LinearRegression()"
      ]
     },
     "execution_count": 130,
     "metadata": {},
     "output_type": "execute_result"
    }
   ],
   "source": [
    "linmod.fit(x_train,y_train)"
   ]
  },
  {
   "cell_type": "code",
   "execution_count": 131,
   "id": "760e96d6",
   "metadata": {},
   "outputs": [],
   "source": [
    "ytrain_predicted=linmod.predict(x_train)"
   ]
  },
  {
   "cell_type": "markdown",
   "id": "a3be2d16",
   "metadata": {},
   "source": [
    "### MAPE on Train data"
   ]
  },
  {
   "cell_type": "code",
   "execution_count": 132,
   "id": "4229885f",
   "metadata": {},
   "outputs": [
    {
     "data": {
      "text/plain": [
       "19.79070056696304"
      ]
     },
     "execution_count": 132,
     "metadata": {},
     "output_type": "execute_result"
    }
   ],
   "source": [
    "MAPE = np.mean(np.abs((np.exp(y_train) - np.exp(ytrain_predicted))/np.exp(y_train)))*100\n",
    "MAPE"
   ]
  },
  {
   "cell_type": "markdown",
   "id": "1cb5e516",
   "metadata": {},
   "source": [
    "### MAE on Train data"
   ]
  },
  {
   "cell_type": "code",
   "execution_count": 133,
   "id": "86ce2f8b",
   "metadata": {},
   "outputs": [
    {
     "data": {
      "text/plain": [
       "108326.57846712571"
      ]
     },
     "execution_count": 133,
     "metadata": {},
     "output_type": "execute_result"
    }
   ],
   "source": [
    "MAE = np.mean(np.abs(np.exp(y_train) - np.exp(ytrain_predicted)))\n",
    "MAE"
   ]
  },
  {
   "cell_type": "code",
   "execution_count": 134,
   "id": "e2438d18",
   "metadata": {},
   "outputs": [
    {
     "data": {
      "text/plain": [
       "array([12.66910717, 13.72962643, 13.01628977, ..., 13.03409589,\n",
       "       12.62014722, 12.79984385])"
      ]
     },
     "execution_count": 134,
     "metadata": {},
     "output_type": "execute_result"
    }
   ],
   "source": [
    "y_predicted=linmod.predict(x_valid)\n",
    "y_predicted"
   ]
  },
  {
   "cell_type": "code",
   "execution_count": 135,
   "id": "6bdcb6f7",
   "metadata": {},
   "outputs": [
    {
     "data": {
      "text/plain": [
       "0.7684413239338225"
      ]
     },
     "execution_count": 135,
     "metadata": {},
     "output_type": "execute_result"
    }
   ],
   "source": [
    "linmod.score(x_valid, y_valid)"
   ]
  },
  {
   "cell_type": "code",
   "execution_count": 136,
   "id": "f0edee12",
   "metadata": {},
   "outputs": [],
   "source": [
    "#import sklearn.model_selection as sm"
   ]
  },
  {
   "cell_type": "code",
   "execution_count": 137,
   "id": "a604fa6e",
   "metadata": {},
   "outputs": [
    {
     "data": {
      "text/plain": [
       "189587.73328541953"
      ]
     },
     "execution_count": 137,
     "metadata": {},
     "output_type": "execute_result"
    }
   ],
   "source": [
    "#from sklearn.metrics import mean_squared_error\n",
    "RMSE = np.sqrt(mean_squared_error(np.exp(y_valid),np.exp(y_predicted)))\n",
    "RMSE"
   ]
  },
  {
   "cell_type": "code",
   "execution_count": 138,
   "id": "9644a2af",
   "metadata": {},
   "outputs": [
    {
     "data": {
      "text/plain": [
       "19.641793884639053"
      ]
     },
     "execution_count": 138,
     "metadata": {},
     "output_type": "execute_result"
    }
   ],
   "source": [
    "MAPE = np.mean(np.abs((np.exp(y_valid) - np.exp(y_predicted))/np.exp(y_valid)))*100\n",
    "MAPE"
   ]
  },
  {
   "cell_type": "code",
   "execution_count": 139,
   "id": "9d5f64e2",
   "metadata": {},
   "outputs": [
    {
     "data": {
      "text/plain": [
       "109054.92790467759"
      ]
     },
     "execution_count": 139,
     "metadata": {},
     "output_type": "execute_result"
    }
   ],
   "source": [
    "MAE = np.mean(np.abs(np.exp(y_valid) - np.exp(y_predicted)))\n",
    "MAE"
   ]
  },
  {
   "cell_type": "code",
   "execution_count": 140,
   "id": "21b1a05f",
   "metadata": {},
   "outputs": [],
   "source": [
    "# #from sklearn.metrics import r2_score\n",
    "# r2 = r2_score(np.exp(y_train),np.exp(y_predicted_train))*100\n",
    "# r2"
   ]
  },
  {
   "cell_type": "code",
   "execution_count": 141,
   "id": "432ef91d",
   "metadata": {},
   "outputs": [
    {
     "data": {
      "text/plain": [
       "0.769323376089088"
      ]
     },
     "execution_count": 141,
     "metadata": {},
     "output_type": "execute_result"
    }
   ],
   "source": [
    "linmod.score(x_train, y_train)"
   ]
  },
  {
   "cell_type": "markdown",
   "id": "df4ce26b",
   "metadata": {},
   "source": [
    "# Model 4:"
   ]
  },
  {
   "cell_type": "markdown",
   "id": "1a5476c2",
   "metadata": {},
   "source": [
    "## Log & Exponential Transformation"
   ]
  },
  {
   "cell_type": "code",
   "execution_count": 142,
   "id": "a2e27e50",
   "metadata": {},
   "outputs": [],
   "source": [
    "kcpp[\"log_price\"]=np.log(kcpp['price'])\n",
    "kcpp[\"log_sqftliv\"]=np.log(kcpp['sqft_living'])\n",
    "kcpp[\"log_sqftabo\"]=np.log(kcpp['sqft_above'])\n",
    "kcpp[\"log_sqftlot\"]=np.log(kcpp['sqft_lot'])\n",
    "kcpp[\"log_sqftlot15\"]=np.log(kcpp['sqft_lot15'])\n",
    "kcpp[\"log_sqftliv15\"]=np.log(kcpp['sqft_living15'])\n",
    "kcpp[\"sq_bedrooms\"]=np.exp((kcpp['bedrooms']))\n",
    "kcpp[\"sq_bathrooms\"]=np.exp((kcpp['bathrooms']))\n",
    "kcpp[\"log_yr_built\"]=np.log(kcpp['yr_built'])"
   ]
  },
  {
   "cell_type": "code",
   "execution_count": 143,
   "id": "85025953",
   "metadata": {},
   "outputs": [
    {
     "data": {
      "text/html": [
       "<div>\n",
       "<style scoped>\n",
       "    .dataframe tbody tr th:only-of-type {\n",
       "        vertical-align: middle;\n",
       "    }\n",
       "\n",
       "    .dataframe tbody tr th {\n",
       "        vertical-align: top;\n",
       "    }\n",
       "\n",
       "    .dataframe thead th {\n",
       "        text-align: right;\n",
       "    }\n",
       "</style>\n",
       "<table border=\"1\" class=\"dataframe\">\n",
       "  <thead>\n",
       "    <tr style=\"text-align: right;\">\n",
       "      <th></th>\n",
       "      <th>id</th>\n",
       "      <th>date</th>\n",
       "      <th>price</th>\n",
       "      <th>bedrooms</th>\n",
       "      <th>bathrooms</th>\n",
       "      <th>sqft_living</th>\n",
       "      <th>sqft_lot</th>\n",
       "      <th>floors</th>\n",
       "      <th>waterfront</th>\n",
       "      <th>view</th>\n",
       "      <th>...</th>\n",
       "      <th>sqft_lot15</th>\n",
       "      <th>log_price</th>\n",
       "      <th>log_sqftliv</th>\n",
       "      <th>log_sqftabo</th>\n",
       "      <th>log_sqftlot</th>\n",
       "      <th>log_sqftlot15</th>\n",
       "      <th>log_sqftliv15</th>\n",
       "      <th>sq_bedrooms</th>\n",
       "      <th>sq_bathrooms</th>\n",
       "      <th>log_yr_built</th>\n",
       "    </tr>\n",
       "  </thead>\n",
       "  <tbody>\n",
       "    <tr>\n",
       "      <th>0</th>\n",
       "      <td>7129300520</td>\n",
       "      <td>20141013T000000</td>\n",
       "      <td>221900.0</td>\n",
       "      <td>3</td>\n",
       "      <td>1.00</td>\n",
       "      <td>1180</td>\n",
       "      <td>5650</td>\n",
       "      <td>1.0</td>\n",
       "      <td>0</td>\n",
       "      <td>0</td>\n",
       "      <td>...</td>\n",
       "      <td>5650</td>\n",
       "      <td>12.309982</td>\n",
       "      <td>7.073270</td>\n",
       "      <td>7.073270</td>\n",
       "      <td>8.639411</td>\n",
       "      <td>8.639411</td>\n",
       "      <td>7.200425</td>\n",
       "      <td>20.085537</td>\n",
       "      <td>2.718282</td>\n",
       "      <td>7.578145</td>\n",
       "    </tr>\n",
       "    <tr>\n",
       "      <th>1</th>\n",
       "      <td>6414100192</td>\n",
       "      <td>20141209T000000</td>\n",
       "      <td>538000.0</td>\n",
       "      <td>3</td>\n",
       "      <td>2.25</td>\n",
       "      <td>2570</td>\n",
       "      <td>7242</td>\n",
       "      <td>2.0</td>\n",
       "      <td>0</td>\n",
       "      <td>0</td>\n",
       "      <td>...</td>\n",
       "      <td>7639</td>\n",
       "      <td>13.195614</td>\n",
       "      <td>7.851661</td>\n",
       "      <td>7.682482</td>\n",
       "      <td>8.887653</td>\n",
       "      <td>8.941022</td>\n",
       "      <td>7.432484</td>\n",
       "      <td>20.085537</td>\n",
       "      <td>9.487736</td>\n",
       "      <td>7.576097</td>\n",
       "    </tr>\n",
       "    <tr>\n",
       "      <th>2</th>\n",
       "      <td>5631500400</td>\n",
       "      <td>20150225T000000</td>\n",
       "      <td>180000.0</td>\n",
       "      <td>2</td>\n",
       "      <td>1.00</td>\n",
       "      <td>770</td>\n",
       "      <td>10000</td>\n",
       "      <td>1.0</td>\n",
       "      <td>0</td>\n",
       "      <td>0</td>\n",
       "      <td>...</td>\n",
       "      <td>8062</td>\n",
       "      <td>12.100712</td>\n",
       "      <td>6.646391</td>\n",
       "      <td>6.646391</td>\n",
       "      <td>9.210340</td>\n",
       "      <td>8.994917</td>\n",
       "      <td>7.908387</td>\n",
       "      <td>7.389056</td>\n",
       "      <td>2.718282</td>\n",
       "      <td>7.566828</td>\n",
       "    </tr>\n",
       "    <tr>\n",
       "      <th>3</th>\n",
       "      <td>2487200875</td>\n",
       "      <td>20141209T000000</td>\n",
       "      <td>604000.0</td>\n",
       "      <td>4</td>\n",
       "      <td>3.00</td>\n",
       "      <td>1960</td>\n",
       "      <td>5000</td>\n",
       "      <td>1.0</td>\n",
       "      <td>0</td>\n",
       "      <td>0</td>\n",
       "      <td>...</td>\n",
       "      <td>5000</td>\n",
       "      <td>13.311329</td>\n",
       "      <td>7.580700</td>\n",
       "      <td>6.956545</td>\n",
       "      <td>8.517193</td>\n",
       "      <td>8.517193</td>\n",
       "      <td>7.215240</td>\n",
       "      <td>54.598150</td>\n",
       "      <td>20.085537</td>\n",
       "      <td>7.583248</td>\n",
       "    </tr>\n",
       "    <tr>\n",
       "      <th>4</th>\n",
       "      <td>1954400510</td>\n",
       "      <td>20150218T000000</td>\n",
       "      <td>510000.0</td>\n",
       "      <td>3</td>\n",
       "      <td>2.00</td>\n",
       "      <td>1680</td>\n",
       "      <td>8080</td>\n",
       "      <td>1.0</td>\n",
       "      <td>0</td>\n",
       "      <td>0</td>\n",
       "      <td>...</td>\n",
       "      <td>7503</td>\n",
       "      <td>13.142166</td>\n",
       "      <td>7.426549</td>\n",
       "      <td>7.426549</td>\n",
       "      <td>8.997147</td>\n",
       "      <td>8.923058</td>\n",
       "      <td>7.495542</td>\n",
       "      <td>20.085537</td>\n",
       "      <td>7.389056</td>\n",
       "      <td>7.594381</td>\n",
       "    </tr>\n",
       "    <tr>\n",
       "      <th>...</th>\n",
       "      <td>...</td>\n",
       "      <td>...</td>\n",
       "      <td>...</td>\n",
       "      <td>...</td>\n",
       "      <td>...</td>\n",
       "      <td>...</td>\n",
       "      <td>...</td>\n",
       "      <td>...</td>\n",
       "      <td>...</td>\n",
       "      <td>...</td>\n",
       "      <td>...</td>\n",
       "      <td>...</td>\n",
       "      <td>...</td>\n",
       "      <td>...</td>\n",
       "      <td>...</td>\n",
       "      <td>...</td>\n",
       "      <td>...</td>\n",
       "      <td>...</td>\n",
       "      <td>...</td>\n",
       "      <td>...</td>\n",
       "      <td>...</td>\n",
       "    </tr>\n",
       "    <tr>\n",
       "      <th>21608</th>\n",
       "      <td>263000018</td>\n",
       "      <td>20140521T000000</td>\n",
       "      <td>360000.0</td>\n",
       "      <td>3</td>\n",
       "      <td>2.50</td>\n",
       "      <td>1530</td>\n",
       "      <td>1131</td>\n",
       "      <td>3.0</td>\n",
       "      <td>0</td>\n",
       "      <td>0</td>\n",
       "      <td>...</td>\n",
       "      <td>1509</td>\n",
       "      <td>12.793859</td>\n",
       "      <td>7.333023</td>\n",
       "      <td>7.333023</td>\n",
       "      <td>7.030857</td>\n",
       "      <td>7.319202</td>\n",
       "      <td>7.333023</td>\n",
       "      <td>20.085537</td>\n",
       "      <td>12.182494</td>\n",
       "      <td>7.605392</td>\n",
       "    </tr>\n",
       "    <tr>\n",
       "      <th>21609</th>\n",
       "      <td>6600060120</td>\n",
       "      <td>20150223T000000</td>\n",
       "      <td>400000.0</td>\n",
       "      <td>4</td>\n",
       "      <td>2.50</td>\n",
       "      <td>2310</td>\n",
       "      <td>5813</td>\n",
       "      <td>2.0</td>\n",
       "      <td>0</td>\n",
       "      <td>0</td>\n",
       "      <td>...</td>\n",
       "      <td>7200</td>\n",
       "      <td>12.899220</td>\n",
       "      <td>7.745003</td>\n",
       "      <td>7.745003</td>\n",
       "      <td>8.667852</td>\n",
       "      <td>8.881836</td>\n",
       "      <td>7.512071</td>\n",
       "      <td>54.598150</td>\n",
       "      <td>12.182494</td>\n",
       "      <td>7.607878</td>\n",
       "    </tr>\n",
       "    <tr>\n",
       "      <th>21610</th>\n",
       "      <td>1523300141</td>\n",
       "      <td>20140623T000000</td>\n",
       "      <td>402101.0</td>\n",
       "      <td>2</td>\n",
       "      <td>0.75</td>\n",
       "      <td>1020</td>\n",
       "      <td>1350</td>\n",
       "      <td>2.0</td>\n",
       "      <td>0</td>\n",
       "      <td>0</td>\n",
       "      <td>...</td>\n",
       "      <td>2007</td>\n",
       "      <td>12.904459</td>\n",
       "      <td>6.927558</td>\n",
       "      <td>6.927558</td>\n",
       "      <td>7.207860</td>\n",
       "      <td>7.604396</td>\n",
       "      <td>6.927558</td>\n",
       "      <td>7.389056</td>\n",
       "      <td>2.117000</td>\n",
       "      <td>7.605392</td>\n",
       "    </tr>\n",
       "    <tr>\n",
       "      <th>21611</th>\n",
       "      <td>291310100</td>\n",
       "      <td>20150116T000000</td>\n",
       "      <td>400000.0</td>\n",
       "      <td>3</td>\n",
       "      <td>2.50</td>\n",
       "      <td>1600</td>\n",
       "      <td>2388</td>\n",
       "      <td>2.0</td>\n",
       "      <td>0</td>\n",
       "      <td>0</td>\n",
       "      <td>...</td>\n",
       "      <td>1287</td>\n",
       "      <td>12.899220</td>\n",
       "      <td>7.377759</td>\n",
       "      <td>7.377759</td>\n",
       "      <td>7.778211</td>\n",
       "      <td>7.160069</td>\n",
       "      <td>7.251345</td>\n",
       "      <td>20.085537</td>\n",
       "      <td>12.182494</td>\n",
       "      <td>7.602900</td>\n",
       "    </tr>\n",
       "    <tr>\n",
       "      <th>21612</th>\n",
       "      <td>1523300157</td>\n",
       "      <td>20141015T000000</td>\n",
       "      <td>325000.0</td>\n",
       "      <td>2</td>\n",
       "      <td>0.75</td>\n",
       "      <td>1020</td>\n",
       "      <td>1076</td>\n",
       "      <td>2.0</td>\n",
       "      <td>0</td>\n",
       "      <td>0</td>\n",
       "      <td>...</td>\n",
       "      <td>1357</td>\n",
       "      <td>12.691580</td>\n",
       "      <td>6.927558</td>\n",
       "      <td>6.927558</td>\n",
       "      <td>6.981006</td>\n",
       "      <td>7.213032</td>\n",
       "      <td>6.927558</td>\n",
       "      <td>7.389056</td>\n",
       "      <td>2.117000</td>\n",
       "      <td>7.604894</td>\n",
       "    </tr>\n",
       "  </tbody>\n",
       "</table>\n",
       "<p>21611 rows × 30 columns</p>\n",
       "</div>"
      ],
      "text/plain": [
       "               id             date     price  bedrooms  bathrooms  \\\n",
       "0      7129300520  20141013T000000  221900.0         3       1.00   \n",
       "1      6414100192  20141209T000000  538000.0         3       2.25   \n",
       "2      5631500400  20150225T000000  180000.0         2       1.00   \n",
       "3      2487200875  20141209T000000  604000.0         4       3.00   \n",
       "4      1954400510  20150218T000000  510000.0         3       2.00   \n",
       "...           ...              ...       ...       ...        ...   \n",
       "21608   263000018  20140521T000000  360000.0         3       2.50   \n",
       "21609  6600060120  20150223T000000  400000.0         4       2.50   \n",
       "21610  1523300141  20140623T000000  402101.0         2       0.75   \n",
       "21611   291310100  20150116T000000  400000.0         3       2.50   \n",
       "21612  1523300157  20141015T000000  325000.0         2       0.75   \n",
       "\n",
       "       sqft_living  sqft_lot  floors  waterfront  view  ...  sqft_lot15  \\\n",
       "0             1180      5650     1.0           0     0  ...        5650   \n",
       "1             2570      7242     2.0           0     0  ...        7639   \n",
       "2              770     10000     1.0           0     0  ...        8062   \n",
       "3             1960      5000     1.0           0     0  ...        5000   \n",
       "4             1680      8080     1.0           0     0  ...        7503   \n",
       "...            ...       ...     ...         ...   ...  ...         ...   \n",
       "21608         1530      1131     3.0           0     0  ...        1509   \n",
       "21609         2310      5813     2.0           0     0  ...        7200   \n",
       "21610         1020      1350     2.0           0     0  ...        2007   \n",
       "21611         1600      2388     2.0           0     0  ...        1287   \n",
       "21612         1020      1076     2.0           0     0  ...        1357   \n",
       "\n",
       "       log_price  log_sqftliv  log_sqftabo  log_sqftlot  log_sqftlot15  \\\n",
       "0      12.309982     7.073270     7.073270     8.639411       8.639411   \n",
       "1      13.195614     7.851661     7.682482     8.887653       8.941022   \n",
       "2      12.100712     6.646391     6.646391     9.210340       8.994917   \n",
       "3      13.311329     7.580700     6.956545     8.517193       8.517193   \n",
       "4      13.142166     7.426549     7.426549     8.997147       8.923058   \n",
       "...          ...          ...          ...          ...            ...   \n",
       "21608  12.793859     7.333023     7.333023     7.030857       7.319202   \n",
       "21609  12.899220     7.745003     7.745003     8.667852       8.881836   \n",
       "21610  12.904459     6.927558     6.927558     7.207860       7.604396   \n",
       "21611  12.899220     7.377759     7.377759     7.778211       7.160069   \n",
       "21612  12.691580     6.927558     6.927558     6.981006       7.213032   \n",
       "\n",
       "       log_sqftliv15  sq_bedrooms  sq_bathrooms  log_yr_built  \n",
       "0           7.200425    20.085537      2.718282      7.578145  \n",
       "1           7.432484    20.085537      9.487736      7.576097  \n",
       "2           7.908387     7.389056      2.718282      7.566828  \n",
       "3           7.215240    54.598150     20.085537      7.583248  \n",
       "4           7.495542    20.085537      7.389056      7.594381  \n",
       "...              ...          ...           ...           ...  \n",
       "21608       7.333023    20.085537     12.182494      7.605392  \n",
       "21609       7.512071    54.598150     12.182494      7.607878  \n",
       "21610       6.927558     7.389056      2.117000      7.605392  \n",
       "21611       7.251345    20.085537     12.182494      7.602900  \n",
       "21612       6.927558     7.389056      2.117000      7.604894  \n",
       "\n",
       "[21611 rows x 30 columns]"
      ]
     },
     "execution_count": 143,
     "metadata": {},
     "output_type": "execute_result"
    }
   ],
   "source": [
    "kcpp"
   ]
  },
  {
   "cell_type": "code",
   "execution_count": 144,
   "id": "208b4bb3",
   "metadata": {
    "scrolled": false
   },
   "outputs": [
    {
     "data": {
      "text/html": [
       "<div>\n",
       "<style scoped>\n",
       "    .dataframe tbody tr th:only-of-type {\n",
       "        vertical-align: middle;\n",
       "    }\n",
       "\n",
       "    .dataframe tbody tr th {\n",
       "        vertical-align: top;\n",
       "    }\n",
       "\n",
       "    .dataframe thead th {\n",
       "        text-align: right;\n",
       "    }\n",
       "</style>\n",
       "<table border=\"1\" class=\"dataframe\">\n",
       "  <thead>\n",
       "    <tr style=\"text-align: right;\">\n",
       "      <th></th>\n",
       "      <th>id</th>\n",
       "      <th>date</th>\n",
       "      <th>price</th>\n",
       "      <th>bedrooms</th>\n",
       "      <th>bathrooms</th>\n",
       "      <th>sqft_living</th>\n",
       "      <th>sqft_lot</th>\n",
       "      <th>floors</th>\n",
       "      <th>waterfront</th>\n",
       "      <th>view</th>\n",
       "      <th>...</th>\n",
       "      <th>sqft_lot15</th>\n",
       "      <th>log_price</th>\n",
       "      <th>log_sqftliv</th>\n",
       "      <th>log_sqftabo</th>\n",
       "      <th>log_sqftlot</th>\n",
       "      <th>log_sqftlot15</th>\n",
       "      <th>log_sqftliv15</th>\n",
       "      <th>sq_bedrooms</th>\n",
       "      <th>sq_bathrooms</th>\n",
       "      <th>log_yr_built</th>\n",
       "    </tr>\n",
       "  </thead>\n",
       "  <tbody>\n",
       "    <tr>\n",
       "      <th>0</th>\n",
       "      <td>7129300520</td>\n",
       "      <td>20141013T000000</td>\n",
       "      <td>221900.0</td>\n",
       "      <td>3</td>\n",
       "      <td>1.00</td>\n",
       "      <td>1180</td>\n",
       "      <td>5650</td>\n",
       "      <td>1.0</td>\n",
       "      <td>0</td>\n",
       "      <td>0</td>\n",
       "      <td>...</td>\n",
       "      <td>5650</td>\n",
       "      <td>12.309982</td>\n",
       "      <td>7.073270</td>\n",
       "      <td>7.073270</td>\n",
       "      <td>8.639411</td>\n",
       "      <td>8.639411</td>\n",
       "      <td>7.200425</td>\n",
       "      <td>20.085537</td>\n",
       "      <td>2.718282</td>\n",
       "      <td>7.578145</td>\n",
       "    </tr>\n",
       "    <tr>\n",
       "      <th>1</th>\n",
       "      <td>6414100192</td>\n",
       "      <td>20141209T000000</td>\n",
       "      <td>538000.0</td>\n",
       "      <td>3</td>\n",
       "      <td>2.25</td>\n",
       "      <td>2570</td>\n",
       "      <td>7242</td>\n",
       "      <td>2.0</td>\n",
       "      <td>0</td>\n",
       "      <td>0</td>\n",
       "      <td>...</td>\n",
       "      <td>7639</td>\n",
       "      <td>13.195614</td>\n",
       "      <td>7.851661</td>\n",
       "      <td>7.682482</td>\n",
       "      <td>8.887653</td>\n",
       "      <td>8.941022</td>\n",
       "      <td>7.432484</td>\n",
       "      <td>20.085537</td>\n",
       "      <td>9.487736</td>\n",
       "      <td>7.576097</td>\n",
       "    </tr>\n",
       "    <tr>\n",
       "      <th>2</th>\n",
       "      <td>5631500400</td>\n",
       "      <td>20150225T000000</td>\n",
       "      <td>180000.0</td>\n",
       "      <td>2</td>\n",
       "      <td>1.00</td>\n",
       "      <td>770</td>\n",
       "      <td>10000</td>\n",
       "      <td>1.0</td>\n",
       "      <td>0</td>\n",
       "      <td>0</td>\n",
       "      <td>...</td>\n",
       "      <td>8062</td>\n",
       "      <td>12.100712</td>\n",
       "      <td>6.646391</td>\n",
       "      <td>6.646391</td>\n",
       "      <td>9.210340</td>\n",
       "      <td>8.994917</td>\n",
       "      <td>7.908387</td>\n",
       "      <td>7.389056</td>\n",
       "      <td>2.718282</td>\n",
       "      <td>7.566828</td>\n",
       "    </tr>\n",
       "    <tr>\n",
       "      <th>3</th>\n",
       "      <td>2487200875</td>\n",
       "      <td>20141209T000000</td>\n",
       "      <td>604000.0</td>\n",
       "      <td>4</td>\n",
       "      <td>3.00</td>\n",
       "      <td>1960</td>\n",
       "      <td>5000</td>\n",
       "      <td>1.0</td>\n",
       "      <td>0</td>\n",
       "      <td>0</td>\n",
       "      <td>...</td>\n",
       "      <td>5000</td>\n",
       "      <td>13.311329</td>\n",
       "      <td>7.580700</td>\n",
       "      <td>6.956545</td>\n",
       "      <td>8.517193</td>\n",
       "      <td>8.517193</td>\n",
       "      <td>7.215240</td>\n",
       "      <td>54.598150</td>\n",
       "      <td>20.085537</td>\n",
       "      <td>7.583248</td>\n",
       "    </tr>\n",
       "    <tr>\n",
       "      <th>4</th>\n",
       "      <td>1954400510</td>\n",
       "      <td>20150218T000000</td>\n",
       "      <td>510000.0</td>\n",
       "      <td>3</td>\n",
       "      <td>2.00</td>\n",
       "      <td>1680</td>\n",
       "      <td>8080</td>\n",
       "      <td>1.0</td>\n",
       "      <td>0</td>\n",
       "      <td>0</td>\n",
       "      <td>...</td>\n",
       "      <td>7503</td>\n",
       "      <td>13.142166</td>\n",
       "      <td>7.426549</td>\n",
       "      <td>7.426549</td>\n",
       "      <td>8.997147</td>\n",
       "      <td>8.923058</td>\n",
       "      <td>7.495542</td>\n",
       "      <td>20.085537</td>\n",
       "      <td>7.389056</td>\n",
       "      <td>7.594381</td>\n",
       "    </tr>\n",
       "  </tbody>\n",
       "</table>\n",
       "<p>5 rows × 30 columns</p>\n",
       "</div>"
      ],
      "text/plain": [
       "           id             date     price  bedrooms  bathrooms  sqft_living  \\\n",
       "0  7129300520  20141013T000000  221900.0         3       1.00         1180   \n",
       "1  6414100192  20141209T000000  538000.0         3       2.25         2570   \n",
       "2  5631500400  20150225T000000  180000.0         2       1.00          770   \n",
       "3  2487200875  20141209T000000  604000.0         4       3.00         1960   \n",
       "4  1954400510  20150218T000000  510000.0         3       2.00         1680   \n",
       "\n",
       "   sqft_lot  floors  waterfront  view  ...  sqft_lot15  log_price  \\\n",
       "0      5650     1.0           0     0  ...        5650  12.309982   \n",
       "1      7242     2.0           0     0  ...        7639  13.195614   \n",
       "2     10000     1.0           0     0  ...        8062  12.100712   \n",
       "3      5000     1.0           0     0  ...        5000  13.311329   \n",
       "4      8080     1.0           0     0  ...        7503  13.142166   \n",
       "\n",
       "   log_sqftliv  log_sqftabo  log_sqftlot  log_sqftlot15  log_sqftliv15  \\\n",
       "0     7.073270     7.073270     8.639411       8.639411       7.200425   \n",
       "1     7.851661     7.682482     8.887653       8.941022       7.432484   \n",
       "2     6.646391     6.646391     9.210340       8.994917       7.908387   \n",
       "3     7.580700     6.956545     8.517193       8.517193       7.215240   \n",
       "4     7.426549     7.426549     8.997147       8.923058       7.495542   \n",
       "\n",
       "   sq_bedrooms  sq_bathrooms  log_yr_built  \n",
       "0    20.085537      2.718282      7.578145  \n",
       "1    20.085537      9.487736      7.576097  \n",
       "2     7.389056      2.718282      7.566828  \n",
       "3    54.598150     20.085537      7.583248  \n",
       "4    20.085537      7.389056      7.594381  \n",
       "\n",
       "[5 rows x 30 columns]"
      ]
     },
     "execution_count": 144,
     "metadata": {},
     "output_type": "execute_result"
    }
   ],
   "source": [
    "kcpp.head()"
   ]
  },
  {
   "cell_type": "code",
   "execution_count": null,
   "id": "7ec2c462",
   "metadata": {},
   "outputs": [],
   "source": []
  },
  {
   "cell_type": "code",
   "execution_count": 145,
   "id": "75360f17",
   "metadata": {},
   "outputs": [],
   "source": [
    "x=kcpp.drop(['log_price','yr_built','bathrooms',\"bedrooms\",'price','date','zipcode','sqft_living','sqft_lot','sqft_above','sqft_living15', 'sqft_lot15'],axis=1)\n",
    "y=kcpp.log_price"
   ]
  },
  {
   "cell_type": "code",
   "execution_count": 146,
   "id": "2500587d",
   "metadata": {},
   "outputs": [
    {
     "data": {
      "text/plain": [
       "Index(['id', 'floors', 'waterfront', 'view', 'condition', 'grade',\n",
       "       'sqft_basement', 'yr_renovated', 'lat', 'long', 'log_sqftliv',\n",
       "       'log_sqftabo', 'log_sqftlot', 'log_sqftlot15', 'log_sqftliv15',\n",
       "       'sq_bedrooms', 'sq_bathrooms', 'log_yr_built'],\n",
       "      dtype='object')"
      ]
     },
     "execution_count": 146,
     "metadata": {},
     "output_type": "execute_result"
    }
   ],
   "source": [
    "x.columns"
   ]
  },
  {
   "cell_type": "code",
   "execution_count": 147,
   "id": "a20b60a1",
   "metadata": {},
   "outputs": [],
   "source": [
    "x_train,x_test,y_train,y_test=train_test_split(x,y,test_size=0.2,random_state=42)"
   ]
  },
  {
   "cell_type": "code",
   "execution_count": 148,
   "id": "72204dbb",
   "metadata": {},
   "outputs": [
    {
     "data": {
      "text/plain": [
       "(4323, 18)"
      ]
     },
     "execution_count": 148,
     "metadata": {},
     "output_type": "execute_result"
    }
   ],
   "source": [
    "x_test.shape"
   ]
  },
  {
   "cell_type": "code",
   "execution_count": 149,
   "id": "40e088cb",
   "metadata": {},
   "outputs": [],
   "source": [
    "x_train,x_valid,y_train,y_valid=train_test_split(x_train,y_train,test_size=0.25,random_state=42)"
   ]
  },
  {
   "cell_type": "code",
   "execution_count": 150,
   "id": "fe6c1db1",
   "metadata": {},
   "outputs": [
    {
     "data": {
      "text/plain": [
       "(12966,)"
      ]
     },
     "execution_count": 150,
     "metadata": {},
     "output_type": "execute_result"
    }
   ],
   "source": [
    "y_train.shape"
   ]
  },
  {
   "cell_type": "code",
   "execution_count": 151,
   "id": "9bc0c36d",
   "metadata": {},
   "outputs": [
    {
     "data": {
      "text/plain": [
       "(12966, 18)"
      ]
     },
     "execution_count": 151,
     "metadata": {},
     "output_type": "execute_result"
    }
   ],
   "source": [
    "x_train.shape"
   ]
  },
  {
   "cell_type": "code",
   "execution_count": 152,
   "id": "71c5e774",
   "metadata": {},
   "outputs": [],
   "source": [
    "#from sklearn.linear_model import LinearRegression"
   ]
  },
  {
   "cell_type": "code",
   "execution_count": 153,
   "id": "b65e08f7",
   "metadata": {},
   "outputs": [
    {
     "data": {
      "text/plain": [
       "LinearRegression()"
      ]
     },
     "execution_count": 153,
     "metadata": {},
     "output_type": "execute_result"
    }
   ],
   "source": [
    "linmod=LinearRegression()\n",
    "linmod"
   ]
  },
  {
   "cell_type": "code",
   "execution_count": 154,
   "id": "c536187d",
   "metadata": {},
   "outputs": [
    {
     "data": {
      "text/plain": [
       "LinearRegression()"
      ]
     },
     "execution_count": 154,
     "metadata": {},
     "output_type": "execute_result"
    }
   ],
   "source": [
    "linmod.fit(x_train,y_train)"
   ]
  },
  {
   "cell_type": "code",
   "execution_count": 155,
   "id": "760e96d6",
   "metadata": {},
   "outputs": [],
   "source": [
    "ytrain_predicted=linmod.predict(x_train)"
   ]
  },
  {
   "cell_type": "markdown",
   "id": "a3be2d16",
   "metadata": {},
   "source": [
    "### MAPE on Train data"
   ]
  },
  {
   "cell_type": "code",
   "execution_count": 156,
   "id": "4229885f",
   "metadata": {},
   "outputs": [
    {
     "data": {
      "text/plain": [
       "19.952584977443703"
      ]
     },
     "execution_count": 156,
     "metadata": {},
     "output_type": "execute_result"
    }
   ],
   "source": [
    "MAPE = np.mean(np.abs((np.exp(y_train) - np.exp(ytrain_predicted))/np.exp(y_train)))*100\n",
    "MAPE"
   ]
  },
  {
   "cell_type": "markdown",
   "id": "1cb5e516",
   "metadata": {},
   "source": [
    "### MAE on Train data"
   ]
  },
  {
   "cell_type": "code",
   "execution_count": 157,
   "id": "86ce2f8b",
   "metadata": {},
   "outputs": [
    {
     "data": {
      "text/plain": [
       "109090.39344267256"
      ]
     },
     "execution_count": 157,
     "metadata": {},
     "output_type": "execute_result"
    }
   ],
   "source": [
    "MAE = np.mean(np.abs(np.exp(y_train) - np.exp(ytrain_predicted)))\n",
    "MAE"
   ]
  },
  {
   "cell_type": "code",
   "execution_count": 158,
   "id": "e2438d18",
   "metadata": {},
   "outputs": [
    {
     "data": {
      "text/plain": [
       "array([12.66684114, 13.72354391, 13.02148733, ..., 13.08055314,\n",
       "       12.59598831, 12.81603924])"
      ]
     },
     "execution_count": 158,
     "metadata": {},
     "output_type": "execute_result"
    }
   ],
   "source": [
    "y_predicted=linmod.predict(x_valid)\n",
    "y_predicted"
   ]
  },
  {
   "cell_type": "code",
   "execution_count": 159,
   "id": "6bdcb6f7",
   "metadata": {},
   "outputs": [
    {
     "data": {
      "text/plain": [
       "0.7651696696538048"
      ]
     },
     "execution_count": 159,
     "metadata": {},
     "output_type": "execute_result"
    }
   ],
   "source": [
    "linmod.score(x_valid, y_valid)"
   ]
  },
  {
   "cell_type": "code",
   "execution_count": 160,
   "id": "f0edee12",
   "metadata": {},
   "outputs": [],
   "source": [
    "#import sklearn.model_selection as sm"
   ]
  },
  {
   "cell_type": "code",
   "execution_count": 161,
   "id": "a604fa6e",
   "metadata": {},
   "outputs": [
    {
     "data": {
      "text/plain": [
       "193025.7305271569"
      ]
     },
     "execution_count": 161,
     "metadata": {},
     "output_type": "execute_result"
    }
   ],
   "source": [
    "#from sklearn.metrics import mean_squared_error\n",
    "RMSE = np.sqrt(mean_squared_error(np.exp(y_valid),np.exp(y_predicted)))\n",
    "RMSE"
   ]
  },
  {
   "cell_type": "code",
   "execution_count": 162,
   "id": "9644a2af",
   "metadata": {},
   "outputs": [
    {
     "data": {
      "text/plain": [
       "19.811597332544604"
      ]
     },
     "execution_count": 162,
     "metadata": {},
     "output_type": "execute_result"
    }
   ],
   "source": [
    "MAPE = np.mean(np.abs((np.exp(y_valid) - np.exp(y_predicted))/np.exp(y_valid)))*100\n",
    "MAPE"
   ]
  },
  {
   "cell_type": "code",
   "execution_count": 163,
   "id": "9d5f64e2",
   "metadata": {},
   "outputs": [
    {
     "data": {
      "text/plain": [
       "110049.40265882768"
      ]
     },
     "execution_count": 163,
     "metadata": {},
     "output_type": "execute_result"
    }
   ],
   "source": [
    "MAE = np.mean(np.abs(np.exp(y_valid) - np.exp(y_predicted)))\n",
    "MAE"
   ]
  },
  {
   "cell_type": "code",
   "execution_count": 164,
   "id": "21b1a05f",
   "metadata": {},
   "outputs": [],
   "source": [
    "# #from sklearn.metrics import r2_score\n",
    "# r2 = r2_score(np.exp(y_train),np.exp(y_predicted_train))*100\n",
    "# r2"
   ]
  },
  {
   "cell_type": "code",
   "execution_count": 165,
   "id": "8c939c48",
   "metadata": {},
   "outputs": [
    {
     "data": {
      "text/plain": [
       "0.7656164653697793"
      ]
     },
     "execution_count": 165,
     "metadata": {},
     "output_type": "execute_result"
    }
   ],
   "source": [
    "linmod.score(x_train, y_train)"
   ]
  },
  {
   "cell_type": "markdown",
   "id": "f121ec96",
   "metadata": {},
   "source": [
    "# Model 5:"
   ]
  },
  {
   "cell_type": "markdown",
   "id": "802c6479",
   "metadata": {},
   "source": [
    "## Log & Square Transformation by adding Dummy variable(Zipcode)"
   ]
  },
  {
   "cell_type": "code",
   "execution_count": 166,
   "id": "e8fee541",
   "metadata": {},
   "outputs": [],
   "source": [
    "kcpp[\"log_price\"]=np.log(kcpp['price'])\n",
    "kcpp[\"log_sqftliv\"]=np.log(kcpp['sqft_living'])\n",
    "kcpp[\"log_sqftabo\"]=np.log(kcpp['sqft_above'])\n",
    "kcpp[\"log_sqftlot\"]=np.log(kcpp['sqft_lot'])\n",
    "kcpp[\"log_sqftlot15\"]=np.log(kcpp['sqft_lot15'])\n",
    "kcpp[\"log_sqftliv15\"]=np.log(kcpp['sqft_living15'])\n",
    "kcpp[\"sq_bedrooms\"]=(kcpp['bedrooms'])**2\n",
    "kcpp[\"sq_bathrooms\"]=(kcpp['bathrooms'])**2\n",
    "kcpp[\"log_yr_built\"]=np.log(kcpp['yr_built'])"
   ]
  },
  {
   "cell_type": "code",
   "execution_count": 167,
   "id": "69b925a4",
   "metadata": {},
   "outputs": [],
   "source": [
    "dummies = pd.get_dummies(kcpp[\"zipcode\"],drop_first=False)\n",
    "kcpp= pd.concat([kcpp,dummies],axis = \"columns\")"
   ]
  },
  {
   "cell_type": "code",
   "execution_count": 168,
   "id": "da60f700",
   "metadata": {},
   "outputs": [
    {
     "data": {
      "text/html": [
       "<div>\n",
       "<style scoped>\n",
       "    .dataframe tbody tr th:only-of-type {\n",
       "        vertical-align: middle;\n",
       "    }\n",
       "\n",
       "    .dataframe tbody tr th {\n",
       "        vertical-align: top;\n",
       "    }\n",
       "\n",
       "    .dataframe thead th {\n",
       "        text-align: right;\n",
       "    }\n",
       "</style>\n",
       "<table border=\"1\" class=\"dataframe\">\n",
       "  <thead>\n",
       "    <tr style=\"text-align: right;\">\n",
       "      <th></th>\n",
       "      <th>id</th>\n",
       "      <th>date</th>\n",
       "      <th>price</th>\n",
       "      <th>bedrooms</th>\n",
       "      <th>bathrooms</th>\n",
       "      <th>sqft_living</th>\n",
       "      <th>sqft_lot</th>\n",
       "      <th>floors</th>\n",
       "      <th>waterfront</th>\n",
       "      <th>view</th>\n",
       "      <th>...</th>\n",
       "      <th>98146</th>\n",
       "      <th>98148</th>\n",
       "      <th>98155</th>\n",
       "      <th>98166</th>\n",
       "      <th>98168</th>\n",
       "      <th>98177</th>\n",
       "      <th>98178</th>\n",
       "      <th>98188</th>\n",
       "      <th>98198</th>\n",
       "      <th>98199</th>\n",
       "    </tr>\n",
       "  </thead>\n",
       "  <tbody>\n",
       "    <tr>\n",
       "      <th>0</th>\n",
       "      <td>7129300520</td>\n",
       "      <td>20141013T000000</td>\n",
       "      <td>221900.0</td>\n",
       "      <td>3</td>\n",
       "      <td>1.00</td>\n",
       "      <td>1180</td>\n",
       "      <td>5650</td>\n",
       "      <td>1.0</td>\n",
       "      <td>0</td>\n",
       "      <td>0</td>\n",
       "      <td>...</td>\n",
       "      <td>0</td>\n",
       "      <td>0</td>\n",
       "      <td>0</td>\n",
       "      <td>0</td>\n",
       "      <td>0</td>\n",
       "      <td>0</td>\n",
       "      <td>1</td>\n",
       "      <td>0</td>\n",
       "      <td>0</td>\n",
       "      <td>0</td>\n",
       "    </tr>\n",
       "    <tr>\n",
       "      <th>1</th>\n",
       "      <td>6414100192</td>\n",
       "      <td>20141209T000000</td>\n",
       "      <td>538000.0</td>\n",
       "      <td>3</td>\n",
       "      <td>2.25</td>\n",
       "      <td>2570</td>\n",
       "      <td>7242</td>\n",
       "      <td>2.0</td>\n",
       "      <td>0</td>\n",
       "      <td>0</td>\n",
       "      <td>...</td>\n",
       "      <td>0</td>\n",
       "      <td>0</td>\n",
       "      <td>0</td>\n",
       "      <td>0</td>\n",
       "      <td>0</td>\n",
       "      <td>0</td>\n",
       "      <td>0</td>\n",
       "      <td>0</td>\n",
       "      <td>0</td>\n",
       "      <td>0</td>\n",
       "    </tr>\n",
       "    <tr>\n",
       "      <th>2</th>\n",
       "      <td>5631500400</td>\n",
       "      <td>20150225T000000</td>\n",
       "      <td>180000.0</td>\n",
       "      <td>2</td>\n",
       "      <td>1.00</td>\n",
       "      <td>770</td>\n",
       "      <td>10000</td>\n",
       "      <td>1.0</td>\n",
       "      <td>0</td>\n",
       "      <td>0</td>\n",
       "      <td>...</td>\n",
       "      <td>0</td>\n",
       "      <td>0</td>\n",
       "      <td>0</td>\n",
       "      <td>0</td>\n",
       "      <td>0</td>\n",
       "      <td>0</td>\n",
       "      <td>0</td>\n",
       "      <td>0</td>\n",
       "      <td>0</td>\n",
       "      <td>0</td>\n",
       "    </tr>\n",
       "    <tr>\n",
       "      <th>3</th>\n",
       "      <td>2487200875</td>\n",
       "      <td>20141209T000000</td>\n",
       "      <td>604000.0</td>\n",
       "      <td>4</td>\n",
       "      <td>3.00</td>\n",
       "      <td>1960</td>\n",
       "      <td>5000</td>\n",
       "      <td>1.0</td>\n",
       "      <td>0</td>\n",
       "      <td>0</td>\n",
       "      <td>...</td>\n",
       "      <td>0</td>\n",
       "      <td>0</td>\n",
       "      <td>0</td>\n",
       "      <td>0</td>\n",
       "      <td>0</td>\n",
       "      <td>0</td>\n",
       "      <td>0</td>\n",
       "      <td>0</td>\n",
       "      <td>0</td>\n",
       "      <td>0</td>\n",
       "    </tr>\n",
       "    <tr>\n",
       "      <th>4</th>\n",
       "      <td>1954400510</td>\n",
       "      <td>20150218T000000</td>\n",
       "      <td>510000.0</td>\n",
       "      <td>3</td>\n",
       "      <td>2.00</td>\n",
       "      <td>1680</td>\n",
       "      <td>8080</td>\n",
       "      <td>1.0</td>\n",
       "      <td>0</td>\n",
       "      <td>0</td>\n",
       "      <td>...</td>\n",
       "      <td>0</td>\n",
       "      <td>0</td>\n",
       "      <td>0</td>\n",
       "      <td>0</td>\n",
       "      <td>0</td>\n",
       "      <td>0</td>\n",
       "      <td>0</td>\n",
       "      <td>0</td>\n",
       "      <td>0</td>\n",
       "      <td>0</td>\n",
       "    </tr>\n",
       "    <tr>\n",
       "      <th>...</th>\n",
       "      <td>...</td>\n",
       "      <td>...</td>\n",
       "      <td>...</td>\n",
       "      <td>...</td>\n",
       "      <td>...</td>\n",
       "      <td>...</td>\n",
       "      <td>...</td>\n",
       "      <td>...</td>\n",
       "      <td>...</td>\n",
       "      <td>...</td>\n",
       "      <td>...</td>\n",
       "      <td>...</td>\n",
       "      <td>...</td>\n",
       "      <td>...</td>\n",
       "      <td>...</td>\n",
       "      <td>...</td>\n",
       "      <td>...</td>\n",
       "      <td>...</td>\n",
       "      <td>...</td>\n",
       "      <td>...</td>\n",
       "      <td>...</td>\n",
       "    </tr>\n",
       "    <tr>\n",
       "      <th>21608</th>\n",
       "      <td>263000018</td>\n",
       "      <td>20140521T000000</td>\n",
       "      <td>360000.0</td>\n",
       "      <td>3</td>\n",
       "      <td>2.50</td>\n",
       "      <td>1530</td>\n",
       "      <td>1131</td>\n",
       "      <td>3.0</td>\n",
       "      <td>0</td>\n",
       "      <td>0</td>\n",
       "      <td>...</td>\n",
       "      <td>0</td>\n",
       "      <td>0</td>\n",
       "      <td>0</td>\n",
       "      <td>0</td>\n",
       "      <td>0</td>\n",
       "      <td>0</td>\n",
       "      <td>0</td>\n",
       "      <td>0</td>\n",
       "      <td>0</td>\n",
       "      <td>0</td>\n",
       "    </tr>\n",
       "    <tr>\n",
       "      <th>21609</th>\n",
       "      <td>6600060120</td>\n",
       "      <td>20150223T000000</td>\n",
       "      <td>400000.0</td>\n",
       "      <td>4</td>\n",
       "      <td>2.50</td>\n",
       "      <td>2310</td>\n",
       "      <td>5813</td>\n",
       "      <td>2.0</td>\n",
       "      <td>0</td>\n",
       "      <td>0</td>\n",
       "      <td>...</td>\n",
       "      <td>1</td>\n",
       "      <td>0</td>\n",
       "      <td>0</td>\n",
       "      <td>0</td>\n",
       "      <td>0</td>\n",
       "      <td>0</td>\n",
       "      <td>0</td>\n",
       "      <td>0</td>\n",
       "      <td>0</td>\n",
       "      <td>0</td>\n",
       "    </tr>\n",
       "    <tr>\n",
       "      <th>21610</th>\n",
       "      <td>1523300141</td>\n",
       "      <td>20140623T000000</td>\n",
       "      <td>402101.0</td>\n",
       "      <td>2</td>\n",
       "      <td>0.75</td>\n",
       "      <td>1020</td>\n",
       "      <td>1350</td>\n",
       "      <td>2.0</td>\n",
       "      <td>0</td>\n",
       "      <td>0</td>\n",
       "      <td>...</td>\n",
       "      <td>0</td>\n",
       "      <td>0</td>\n",
       "      <td>0</td>\n",
       "      <td>0</td>\n",
       "      <td>0</td>\n",
       "      <td>0</td>\n",
       "      <td>0</td>\n",
       "      <td>0</td>\n",
       "      <td>0</td>\n",
       "      <td>0</td>\n",
       "    </tr>\n",
       "    <tr>\n",
       "      <th>21611</th>\n",
       "      <td>291310100</td>\n",
       "      <td>20150116T000000</td>\n",
       "      <td>400000.0</td>\n",
       "      <td>3</td>\n",
       "      <td>2.50</td>\n",
       "      <td>1600</td>\n",
       "      <td>2388</td>\n",
       "      <td>2.0</td>\n",
       "      <td>0</td>\n",
       "      <td>0</td>\n",
       "      <td>...</td>\n",
       "      <td>0</td>\n",
       "      <td>0</td>\n",
       "      <td>0</td>\n",
       "      <td>0</td>\n",
       "      <td>0</td>\n",
       "      <td>0</td>\n",
       "      <td>0</td>\n",
       "      <td>0</td>\n",
       "      <td>0</td>\n",
       "      <td>0</td>\n",
       "    </tr>\n",
       "    <tr>\n",
       "      <th>21612</th>\n",
       "      <td>1523300157</td>\n",
       "      <td>20141015T000000</td>\n",
       "      <td>325000.0</td>\n",
       "      <td>2</td>\n",
       "      <td>0.75</td>\n",
       "      <td>1020</td>\n",
       "      <td>1076</td>\n",
       "      <td>2.0</td>\n",
       "      <td>0</td>\n",
       "      <td>0</td>\n",
       "      <td>...</td>\n",
       "      <td>0</td>\n",
       "      <td>0</td>\n",
       "      <td>0</td>\n",
       "      <td>0</td>\n",
       "      <td>0</td>\n",
       "      <td>0</td>\n",
       "      <td>0</td>\n",
       "      <td>0</td>\n",
       "      <td>0</td>\n",
       "      <td>0</td>\n",
       "    </tr>\n",
       "  </tbody>\n",
       "</table>\n",
       "<p>21611 rows × 100 columns</p>\n",
       "</div>"
      ],
      "text/plain": [
       "               id             date     price  bedrooms  bathrooms  \\\n",
       "0      7129300520  20141013T000000  221900.0         3       1.00   \n",
       "1      6414100192  20141209T000000  538000.0         3       2.25   \n",
       "2      5631500400  20150225T000000  180000.0         2       1.00   \n",
       "3      2487200875  20141209T000000  604000.0         4       3.00   \n",
       "4      1954400510  20150218T000000  510000.0         3       2.00   \n",
       "...           ...              ...       ...       ...        ...   \n",
       "21608   263000018  20140521T000000  360000.0         3       2.50   \n",
       "21609  6600060120  20150223T000000  400000.0         4       2.50   \n",
       "21610  1523300141  20140623T000000  402101.0         2       0.75   \n",
       "21611   291310100  20150116T000000  400000.0         3       2.50   \n",
       "21612  1523300157  20141015T000000  325000.0         2       0.75   \n",
       "\n",
       "       sqft_living  sqft_lot  floors  waterfront  view  ...  98146  98148  \\\n",
       "0             1180      5650     1.0           0     0  ...      0      0   \n",
       "1             2570      7242     2.0           0     0  ...      0      0   \n",
       "2              770     10000     1.0           0     0  ...      0      0   \n",
       "3             1960      5000     1.0           0     0  ...      0      0   \n",
       "4             1680      8080     1.0           0     0  ...      0      0   \n",
       "...            ...       ...     ...         ...   ...  ...    ...    ...   \n",
       "21608         1530      1131     3.0           0     0  ...      0      0   \n",
       "21609         2310      5813     2.0           0     0  ...      1      0   \n",
       "21610         1020      1350     2.0           0     0  ...      0      0   \n",
       "21611         1600      2388     2.0           0     0  ...      0      0   \n",
       "21612         1020      1076     2.0           0     0  ...      0      0   \n",
       "\n",
       "       98155  98166  98168  98177  98178  98188  98198  98199  \n",
       "0          0      0      0      0      1      0      0      0  \n",
       "1          0      0      0      0      0      0      0      0  \n",
       "2          0      0      0      0      0      0      0      0  \n",
       "3          0      0      0      0      0      0      0      0  \n",
       "4          0      0      0      0      0      0      0      0  \n",
       "...      ...    ...    ...    ...    ...    ...    ...    ...  \n",
       "21608      0      0      0      0      0      0      0      0  \n",
       "21609      0      0      0      0      0      0      0      0  \n",
       "21610      0      0      0      0      0      0      0      0  \n",
       "21611      0      0      0      0      0      0      0      0  \n",
       "21612      0      0      0      0      0      0      0      0  \n",
       "\n",
       "[21611 rows x 100 columns]"
      ]
     },
     "execution_count": 168,
     "metadata": {},
     "output_type": "execute_result"
    }
   ],
   "source": [
    "kcpp"
   ]
  },
  {
   "cell_type": "code",
   "execution_count": 169,
   "id": "11d1bb4b",
   "metadata": {
    "scrolled": false
   },
   "outputs": [
    {
     "data": {
      "text/html": [
       "<div>\n",
       "<style scoped>\n",
       "    .dataframe tbody tr th:only-of-type {\n",
       "        vertical-align: middle;\n",
       "    }\n",
       "\n",
       "    .dataframe tbody tr th {\n",
       "        vertical-align: top;\n",
       "    }\n",
       "\n",
       "    .dataframe thead th {\n",
       "        text-align: right;\n",
       "    }\n",
       "</style>\n",
       "<table border=\"1\" class=\"dataframe\">\n",
       "  <thead>\n",
       "    <tr style=\"text-align: right;\">\n",
       "      <th></th>\n",
       "      <th>id</th>\n",
       "      <th>date</th>\n",
       "      <th>price</th>\n",
       "      <th>bedrooms</th>\n",
       "      <th>bathrooms</th>\n",
       "      <th>sqft_living</th>\n",
       "      <th>sqft_lot</th>\n",
       "      <th>floors</th>\n",
       "      <th>waterfront</th>\n",
       "      <th>view</th>\n",
       "      <th>...</th>\n",
       "      <th>98146</th>\n",
       "      <th>98148</th>\n",
       "      <th>98155</th>\n",
       "      <th>98166</th>\n",
       "      <th>98168</th>\n",
       "      <th>98177</th>\n",
       "      <th>98178</th>\n",
       "      <th>98188</th>\n",
       "      <th>98198</th>\n",
       "      <th>98199</th>\n",
       "    </tr>\n",
       "  </thead>\n",
       "  <tbody>\n",
       "    <tr>\n",
       "      <th>0</th>\n",
       "      <td>7129300520</td>\n",
       "      <td>20141013T000000</td>\n",
       "      <td>221900.0</td>\n",
       "      <td>3</td>\n",
       "      <td>1.00</td>\n",
       "      <td>1180</td>\n",
       "      <td>5650</td>\n",
       "      <td>1.0</td>\n",
       "      <td>0</td>\n",
       "      <td>0</td>\n",
       "      <td>...</td>\n",
       "      <td>0</td>\n",
       "      <td>0</td>\n",
       "      <td>0</td>\n",
       "      <td>0</td>\n",
       "      <td>0</td>\n",
       "      <td>0</td>\n",
       "      <td>1</td>\n",
       "      <td>0</td>\n",
       "      <td>0</td>\n",
       "      <td>0</td>\n",
       "    </tr>\n",
       "    <tr>\n",
       "      <th>1</th>\n",
       "      <td>6414100192</td>\n",
       "      <td>20141209T000000</td>\n",
       "      <td>538000.0</td>\n",
       "      <td>3</td>\n",
       "      <td>2.25</td>\n",
       "      <td>2570</td>\n",
       "      <td>7242</td>\n",
       "      <td>2.0</td>\n",
       "      <td>0</td>\n",
       "      <td>0</td>\n",
       "      <td>...</td>\n",
       "      <td>0</td>\n",
       "      <td>0</td>\n",
       "      <td>0</td>\n",
       "      <td>0</td>\n",
       "      <td>0</td>\n",
       "      <td>0</td>\n",
       "      <td>0</td>\n",
       "      <td>0</td>\n",
       "      <td>0</td>\n",
       "      <td>0</td>\n",
       "    </tr>\n",
       "    <tr>\n",
       "      <th>2</th>\n",
       "      <td>5631500400</td>\n",
       "      <td>20150225T000000</td>\n",
       "      <td>180000.0</td>\n",
       "      <td>2</td>\n",
       "      <td>1.00</td>\n",
       "      <td>770</td>\n",
       "      <td>10000</td>\n",
       "      <td>1.0</td>\n",
       "      <td>0</td>\n",
       "      <td>0</td>\n",
       "      <td>...</td>\n",
       "      <td>0</td>\n",
       "      <td>0</td>\n",
       "      <td>0</td>\n",
       "      <td>0</td>\n",
       "      <td>0</td>\n",
       "      <td>0</td>\n",
       "      <td>0</td>\n",
       "      <td>0</td>\n",
       "      <td>0</td>\n",
       "      <td>0</td>\n",
       "    </tr>\n",
       "    <tr>\n",
       "      <th>3</th>\n",
       "      <td>2487200875</td>\n",
       "      <td>20141209T000000</td>\n",
       "      <td>604000.0</td>\n",
       "      <td>4</td>\n",
       "      <td>3.00</td>\n",
       "      <td>1960</td>\n",
       "      <td>5000</td>\n",
       "      <td>1.0</td>\n",
       "      <td>0</td>\n",
       "      <td>0</td>\n",
       "      <td>...</td>\n",
       "      <td>0</td>\n",
       "      <td>0</td>\n",
       "      <td>0</td>\n",
       "      <td>0</td>\n",
       "      <td>0</td>\n",
       "      <td>0</td>\n",
       "      <td>0</td>\n",
       "      <td>0</td>\n",
       "      <td>0</td>\n",
       "      <td>0</td>\n",
       "    </tr>\n",
       "    <tr>\n",
       "      <th>4</th>\n",
       "      <td>1954400510</td>\n",
       "      <td>20150218T000000</td>\n",
       "      <td>510000.0</td>\n",
       "      <td>3</td>\n",
       "      <td>2.00</td>\n",
       "      <td>1680</td>\n",
       "      <td>8080</td>\n",
       "      <td>1.0</td>\n",
       "      <td>0</td>\n",
       "      <td>0</td>\n",
       "      <td>...</td>\n",
       "      <td>0</td>\n",
       "      <td>0</td>\n",
       "      <td>0</td>\n",
       "      <td>0</td>\n",
       "      <td>0</td>\n",
       "      <td>0</td>\n",
       "      <td>0</td>\n",
       "      <td>0</td>\n",
       "      <td>0</td>\n",
       "      <td>0</td>\n",
       "    </tr>\n",
       "  </tbody>\n",
       "</table>\n",
       "<p>5 rows × 100 columns</p>\n",
       "</div>"
      ],
      "text/plain": [
       "           id             date     price  bedrooms  bathrooms  sqft_living  \\\n",
       "0  7129300520  20141013T000000  221900.0         3       1.00         1180   \n",
       "1  6414100192  20141209T000000  538000.0         3       2.25         2570   \n",
       "2  5631500400  20150225T000000  180000.0         2       1.00          770   \n",
       "3  2487200875  20141209T000000  604000.0         4       3.00         1960   \n",
       "4  1954400510  20150218T000000  510000.0         3       2.00         1680   \n",
       "\n",
       "   sqft_lot  floors  waterfront  view  ...  98146  98148  98155  98166  98168  \\\n",
       "0      5650     1.0           0     0  ...      0      0      0      0      0   \n",
       "1      7242     2.0           0     0  ...      0      0      0      0      0   \n",
       "2     10000     1.0           0     0  ...      0      0      0      0      0   \n",
       "3      5000     1.0           0     0  ...      0      0      0      0      0   \n",
       "4      8080     1.0           0     0  ...      0      0      0      0      0   \n",
       "\n",
       "   98177  98178  98188  98198  98199  \n",
       "0      0      1      0      0      0  \n",
       "1      0      0      0      0      0  \n",
       "2      0      0      0      0      0  \n",
       "3      0      0      0      0      0  \n",
       "4      0      0      0      0      0  \n",
       "\n",
       "[5 rows x 100 columns]"
      ]
     },
     "execution_count": 169,
     "metadata": {},
     "output_type": "execute_result"
    }
   ],
   "source": [
    "kcpp.head()"
   ]
  },
  {
   "cell_type": "code",
   "execution_count": 170,
   "id": "9c05ee4a",
   "metadata": {},
   "outputs": [
    {
     "data": {
      "text/plain": [
       "Index([           'id',          'date',         'price',      'bedrooms',\n",
       "           'bathrooms',   'sqft_living',      'sqft_lot',        'floors',\n",
       "          'waterfront',          'view',     'condition',         'grade',\n",
       "          'sqft_above', 'sqft_basement',      'yr_built',  'yr_renovated',\n",
       "             'zipcode',           'lat',          'long', 'sqft_living15',\n",
       "          'sqft_lot15',     'log_price',   'log_sqftliv',   'log_sqftabo',\n",
       "         'log_sqftlot', 'log_sqftlot15', 'log_sqftliv15',   'sq_bedrooms',\n",
       "        'sq_bathrooms',  'log_yr_built',           98001,           98002,\n",
       "                 98003,           98004,           98005,           98006,\n",
       "                 98007,           98008,           98010,           98011,\n",
       "                 98014,           98019,           98022,           98023,\n",
       "                 98024,           98027,           98028,           98029,\n",
       "                 98030,           98031,           98032,           98033,\n",
       "                 98034,           98038,           98039,           98040,\n",
       "                 98042,           98045,           98052,           98053,\n",
       "                 98055,           98056,           98058,           98059,\n",
       "                 98065,           98070,           98072,           98074,\n",
       "                 98075,           98077,           98092,           98102,\n",
       "                 98103,           98105,           98106,           98107,\n",
       "                 98108,           98109,           98112,           98115,\n",
       "                 98116,           98117,           98118,           98119,\n",
       "                 98122,           98125,           98126,           98133,\n",
       "                 98136,           98144,           98146,           98148,\n",
       "                 98155,           98166,           98168,           98177,\n",
       "                 98178,           98188,           98198,           98199],\n",
       "      dtype='object')"
      ]
     },
     "execution_count": 170,
     "metadata": {},
     "output_type": "execute_result"
    }
   ],
   "source": [
    "kcpp.columns"
   ]
  },
  {
   "cell_type": "code",
   "execution_count": 171,
   "id": "7316412a",
   "metadata": {},
   "outputs": [],
   "source": [
    "x=kcpp.drop(['log_price','yr_built','bathrooms',\"bedrooms\",'price','date','zipcode','sqft_living','sqft_lot','sqft_above','sqft_living15', 'sqft_lot15'],axis=1)\n",
    "y=kcpp.log_price"
   ]
  },
  {
   "cell_type": "code",
   "execution_count": 172,
   "id": "a20b60a1",
   "metadata": {},
   "outputs": [],
   "source": [
    "x_train,x_test,y_train,y_test=train_test_split(x,y,test_size=0.2,random_state=42)"
   ]
  },
  {
   "cell_type": "code",
   "execution_count": 173,
   "id": "72204dbb",
   "metadata": {},
   "outputs": [
    {
     "data": {
      "text/plain": [
       "(4323, 88)"
      ]
     },
     "execution_count": 173,
     "metadata": {},
     "output_type": "execute_result"
    }
   ],
   "source": [
    "x_test.shape"
   ]
  },
  {
   "cell_type": "code",
   "execution_count": 174,
   "id": "40e088cb",
   "metadata": {},
   "outputs": [],
   "source": [
    "x_train,x_valid,y_train,y_valid=train_test_split(x_train,y_train,test_size=0.25,random_state=42)"
   ]
  },
  {
   "cell_type": "code",
   "execution_count": 175,
   "id": "fe6c1db1",
   "metadata": {},
   "outputs": [
    {
     "data": {
      "text/plain": [
       "(12966,)"
      ]
     },
     "execution_count": 175,
     "metadata": {},
     "output_type": "execute_result"
    }
   ],
   "source": [
    "y_train.shape"
   ]
  },
  {
   "cell_type": "code",
   "execution_count": 176,
   "id": "9bc0c36d",
   "metadata": {},
   "outputs": [
    {
     "data": {
      "text/plain": [
       "(12966, 88)"
      ]
     },
     "execution_count": 176,
     "metadata": {},
     "output_type": "execute_result"
    }
   ],
   "source": [
    "x_train.shape"
   ]
  },
  {
   "cell_type": "code",
   "execution_count": 177,
   "id": "71c5e774",
   "metadata": {},
   "outputs": [],
   "source": [
    "#from sklearn.linear_model import LinearRegression"
   ]
  },
  {
   "cell_type": "code",
   "execution_count": 178,
   "id": "b65e08f7",
   "metadata": {},
   "outputs": [
    {
     "data": {
      "text/plain": [
       "LinearRegression()"
      ]
     },
     "execution_count": 178,
     "metadata": {},
     "output_type": "execute_result"
    }
   ],
   "source": [
    "linmod=LinearRegression()\n",
    "linmod"
   ]
  },
  {
   "cell_type": "code",
   "execution_count": 179,
   "id": "c536187d",
   "metadata": {},
   "outputs": [
    {
     "data": {
      "text/plain": [
       "LinearRegression()"
      ]
     },
     "execution_count": 179,
     "metadata": {},
     "output_type": "execute_result"
    }
   ],
   "source": [
    "linmod.fit(x_train,y_train)"
   ]
  },
  {
   "cell_type": "code",
   "execution_count": 180,
   "id": "760e96d6",
   "metadata": {},
   "outputs": [],
   "source": [
    "y_predicted_train=linmod.predict(x_train)"
   ]
  },
  {
   "cell_type": "markdown",
   "id": "a3be2d16",
   "metadata": {},
   "source": [
    "### MAPE on Train data"
   ]
  },
  {
   "cell_type": "code",
   "execution_count": 181,
   "id": "4229885f",
   "metadata": {},
   "outputs": [
    {
     "data": {
      "text/plain": [
       "19.952584977443703"
      ]
     },
     "execution_count": 181,
     "metadata": {},
     "output_type": "execute_result"
    }
   ],
   "source": [
    "MAPE = np.mean(np.abs((np.exp(y_train) - np.exp(ytrain_predicted))/np.exp(y_train)))*100\n",
    "MAPE"
   ]
  },
  {
   "cell_type": "markdown",
   "id": "1cb5e516",
   "metadata": {},
   "source": [
    "### MAE on Train data"
   ]
  },
  {
   "cell_type": "code",
   "execution_count": 182,
   "id": "86ce2f8b",
   "metadata": {},
   "outputs": [
    {
     "data": {
      "text/plain": [
       "109090.39344267256"
      ]
     },
     "execution_count": 182,
     "metadata": {},
     "output_type": "execute_result"
    }
   ],
   "source": [
    "MAE = np.mean(np.abs(np.exp(y_train) - np.exp(ytrain_predicted)))\n",
    "MAE"
   ]
  },
  {
   "cell_type": "code",
   "execution_count": 183,
   "id": "e2438d18",
   "metadata": {},
   "outputs": [
    {
     "data": {
      "text/plain": [
       "array([12.65918344, 13.21757007, 13.12546769, ..., 13.13500208,\n",
       "       12.46861882, 12.80253618])"
      ]
     },
     "execution_count": 183,
     "metadata": {},
     "output_type": "execute_result"
    }
   ],
   "source": [
    "y_predicted=linmod.predict(x_valid)\n",
    "y_predicted"
   ]
  },
  {
   "cell_type": "code",
   "execution_count": 184,
   "id": "6bdcb6f7",
   "metadata": {},
   "outputs": [
    {
     "data": {
      "text/plain": [
       "0.8828622887057952"
      ]
     },
     "execution_count": 184,
     "metadata": {},
     "output_type": "execute_result"
    }
   ],
   "source": [
    "linmod.score(x_valid, y_valid)"
   ]
  },
  {
   "cell_type": "code",
   "execution_count": 185,
   "id": "f0edee12",
   "metadata": {},
   "outputs": [],
   "source": [
    "#import sklearn.model_selection as sm"
   ]
  },
  {
   "cell_type": "code",
   "execution_count": 186,
   "id": "a604fa6e",
   "metadata": {},
   "outputs": [
    {
     "data": {
      "text/plain": [
       "134303.84897060643"
      ]
     },
     "execution_count": 186,
     "metadata": {},
     "output_type": "execute_result"
    }
   ],
   "source": [
    "#from sklearn.metrics import mean_squared_error\n",
    "RMSE = np.sqrt(mean_squared_error(np.exp(y_valid),np.exp(y_predicted)))\n",
    "RMSE"
   ]
  },
  {
   "cell_type": "code",
   "execution_count": 187,
   "id": "9644a2af",
   "metadata": {},
   "outputs": [
    {
     "data": {
      "text/plain": [
       "13.352673944246998"
      ]
     },
     "execution_count": 187,
     "metadata": {},
     "output_type": "execute_result"
    }
   ],
   "source": [
    "MAPE = np.mean(np.abs((np.exp(y_valid) - np.exp(y_predicted))/np.exp(y_valid)))*100\n",
    "MAPE"
   ]
  },
  {
   "cell_type": "code",
   "execution_count": 188,
   "id": "9d5f64e2",
   "metadata": {},
   "outputs": [
    {
     "data": {
      "text/plain": [
       "73923.48340058472"
      ]
     },
     "execution_count": 188,
     "metadata": {},
     "output_type": "execute_result"
    }
   ],
   "source": [
    "MAE = np.mean(np.abs(np.exp(y_valid) - np.exp(y_predicted)))\n",
    "MAE"
   ]
  },
  {
   "cell_type": "code",
   "execution_count": 189,
   "id": "21b1a05f",
   "metadata": {},
   "outputs": [],
   "source": [
    "# #from sklearn.metrics import r2_score\n",
    "# r2 = r2_score(np.exp(y_train),np.exp(y_predicted_train))*100\n",
    "# r2"
   ]
  },
  {
   "cell_type": "code",
   "execution_count": 190,
   "id": "7ec872ce",
   "metadata": {},
   "outputs": [
    {
     "data": {
      "text/plain": [
       "0.8848686469327951"
      ]
     },
     "execution_count": 190,
     "metadata": {},
     "output_type": "execute_result"
    }
   ],
   "source": [
    "linmod.score(x_train, y_train)"
   ]
  },
  {
   "cell_type": "code",
   "execution_count": 191,
   "id": "4a981d24",
   "metadata": {},
   "outputs": [],
   "source": [
    "linmod=LinearRegression()"
   ]
  },
  {
   "cell_type": "code",
   "execution_count": 192,
   "id": "621bcc4a",
   "metadata": {},
   "outputs": [
    {
     "data": {
      "text/plain": [
       "LinearRegression()"
      ]
     },
     "execution_count": 192,
     "metadata": {},
     "output_type": "execute_result"
    }
   ],
   "source": [
    "linmod.fit(x_test,y_test)"
   ]
  },
  {
   "cell_type": "code",
   "execution_count": 193,
   "id": "aca94717",
   "metadata": {},
   "outputs": [
    {
     "data": {
      "text/plain": [
       "array([13.0564901 , 13.2178679 , 12.38465458, ..., 12.04740581,\n",
       "       13.44229811, 13.43341119])"
      ]
     },
     "execution_count": 193,
     "metadata": {},
     "output_type": "execute_result"
    }
   ],
   "source": [
    "y_predicted_test=linmod.predict(x_test)\n",
    "y_predicted_test"
   ]
  },
  {
   "cell_type": "markdown",
   "id": "fc9c2f06",
   "metadata": {},
   "source": [
    "# TEST DATA  R2"
   ]
  },
  {
   "cell_type": "code",
   "execution_count": 194,
   "id": "b77c772c",
   "metadata": {},
   "outputs": [
    {
     "data": {
      "text/plain": [
       "0.8877163537543551"
      ]
     },
     "execution_count": 194,
     "metadata": {},
     "output_type": "execute_result"
    }
   ],
   "source": [
    "# r2 = r2_score(np.exp(y_test),np.exp(y_predicted_test))*100\n",
    "# r2\n",
    "linmod.score(x_test, y_test)\n"
   ]
  },
  {
   "cell_type": "markdown",
   "id": "a57a4b04",
   "metadata": {},
   "source": [
    "# MAPE on Test data"
   ]
  },
  {
   "cell_type": "code",
   "execution_count": 195,
   "id": "99b1f1c8",
   "metadata": {},
   "outputs": [
    {
     "data": {
      "text/plain": [
       "13.445555863333286"
      ]
     },
     "execution_count": 195,
     "metadata": {},
     "output_type": "execute_result"
    }
   ],
   "source": [
    "MAPE = np.mean(np.abs(np.exp(y_test) - np.exp(y_predicted_test))/np.exp(y_test))*100\n",
    "MAPE"
   ]
  },
  {
   "cell_type": "markdown",
   "id": "cfd22fbf",
   "metadata": {},
   "source": [
    "# MAE on Test data"
   ]
  },
  {
   "cell_type": "code",
   "execution_count": 196,
   "id": "adfcd89e",
   "metadata": {},
   "outputs": [
    {
     "data": {
      "text/plain": [
       "73727.87796256325"
      ]
     },
     "execution_count": 196,
     "metadata": {},
     "output_type": "execute_result"
    }
   ],
   "source": [
    "MAE = np.mean(np.abs(np.exp(y_test) - np.exp(y_predicted_test)))\n",
    "MAE"
   ]
  },
  {
   "cell_type": "code",
   "execution_count": null,
   "id": "ed0ce5bb",
   "metadata": {},
   "outputs": [],
   "source": []
  }
 ],
 "metadata": {
  "kernelspec": {
   "display_name": "Python 3 (ipykernel)",
   "language": "python",
   "name": "python3"
  },
  "language_info": {
   "codemirror_mode": {
    "name": "ipython",
    "version": 3
   },
   "file_extension": ".py",
   "mimetype": "text/x-python",
   "name": "python",
   "nbconvert_exporter": "python",
   "pygments_lexer": "ipython3",
   "version": "3.9.7"
  }
 },
 "nbformat": 4,
 "nbformat_minor": 5
}
